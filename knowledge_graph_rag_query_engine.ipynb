{
 "cells": [
  {
   "cell_type": "markdown",
   "metadata": {
    "id": "xNKjoTxBETV3"
   },
   "source": [
    "<a href=\"https://colab.research.google.com/github/run-llama/llama_index/blob/main/docs/docs/examples/query_engine/knowledge_graph_rag_query_engine.ipynb\" target=\"_parent\"><img src=\"https://colab.research.google.com/assets/colab-badge.svg\" alt=\"Open In Colab\"/></a>"
   ]
  },
  {
   "cell_type": "markdown",
   "metadata": {
    "id": "UMIjOJoFETV3"
   },
   "source": [
    "# Knowledge Graph RAG Query Engine\n",
    "\n",
    "\n",
    "## Graph RAG\n",
    "\n",
    "Graph RAG is an Knowledge-enabled RAG approach to retrieve information from Knowledge Graph on given task. Typically, this is to build context based on entities' SubGraph related to the task.\n",
    "\n",
    "## GraphStore backed RAG vs VectorStore RAG\n",
    "\n",
    "As we compared how Graph RAG helps in some use cases in [this tutorial](https://gpt-index.readthedocs.io/en/latest/examples/index_structs/knowledge_graph/KnowledgeGraphIndex_vs_VectorStoreIndex_vs_CustomIndex_combined.html#id1), it's shown Knowledge Graph as the unique format of information could mitigate several issues caused by the nature of the \"split and embedding\" RAG approach.\n",
    "\n",
    "## Why Knowledge Graph RAG Query Engine\n",
    "\n",
    "In Llama Index, there are two scenarios we could apply Graph RAG:\n",
    "\n",
    "- Build Knowledge Graph from documents with Llama Index, with LLM or even [local models](https://colab.research.google.com/drive/1G6pcR0pXvSkdMQlAK_P-IrYgo-_staxd?usp=sharing), to do this, we should go for `KnowledgeGraphIndex`.\n",
    "- Leveraging existing Knowledge Graph, in this case, we should use `KnowledgeGraphRAGQueryEngine`.\n",
    "\n",
    "> Note, the third query engine that's related to KG in Llama Index is `NL2GraphQuery` or `Text2Cypher`, for either exiting KG or not, it could be done with `KnowledgeGraphQueryEngine`."
   ]
  },
  {
   "cell_type": "markdown",
   "metadata": {
    "id": "Cpd0uIG4ETV4"
   },
   "source": [
    "Before we start the `Knowledge Graph RAG QueryEngine` demo, let's first get ready for basic preparation of Llama Index."
   ]
  },
  {
   "cell_type": "markdown",
   "metadata": {
    "id": "2L6qePFSETV4"
   },
   "source": [
    "If you're opening this Notebook on colab, you will probably need to install LlamaIndex 🦙.\n",
    "\n",
    "```python\n",
    "%pip install llama-index-graph-stores-nebula\n",
    "%pip install llama-index-llms-vertex\n",
    "%pip install llama-index-embeddings-vertex\n",
    "%pip install llama-index\n",
    "```\n"
   ]
  },
  {
   "cell_type": "markdown",
   "metadata": {
    "id": "d865y_bZETV4"
   },
   "source": [
    "### Vertex"
   ]
  },
  {
   "cell_type": "code",
   "execution_count": null,
   "metadata": {
    "id": "n_EAJgGuETV4"
   },
   "outputs": [],
   "source": [
    "# For Vertex\n",
    "\n",
    "import os\n",
    "\n",
    "\n",
    "import logging\n",
    "import google.auth\n",
    "import google.auth.transport.requests\n",
    "from google.cloud import aiplatform\n",
    "from vertexai.generative_models import HarmBlockThreshold, HarmCategory, SafetySetting\n",
    "import sys\n",
    "from dotenv import load_dotenv\n",
    "import vertexai\n",
    "\n",
    "load_dotenv()  # this loads the .env script for use below\n",
    "PROJECT_ID = os.getenv(\"PROJECT_ID\")\n",
    "LOCATION = os.getenv(\"LOCATION\")\n",
    "NEBULA_SERVER_ADDRESS = \"127.0.0.1\"\n",
    "\n",
    "credentials = google.auth.default(quota_project_id=PROJECT_ID)[0]\n",
    "request = google.auth.transport.requests.Request()\n",
    "credentials.refresh(request)\n",
    "\n",
    "safety_config = [\n",
    "    SafetySetting(\n",
    "        category=HarmCategory.HARM_CATEGORY_DANGEROUS_CONTENT,\n",
    "        threshold=HarmBlockThreshold.BLOCK_NONE,\n",
    "    ),\n",
    "    SafetySetting(\n",
    "        category=HarmCategory.HARM_CATEGORY_HARASSMENT,\n",
    "        threshold=HarmBlockThreshold.BLOCK_NONE,\n",
    "    ),\n",
    "    SafetySetting(\n",
    "        category=HarmCategory.HARM_CATEGORY_SEXUALLY_EXPLICIT,\n",
    "        threshold=HarmBlockThreshold.BLOCK_NONE,\n",
    "    ),\n",
    "]\n",
    "\n",
    "logging.basicConfig(\n",
    "    stream=sys.stdout, level=logging.INFO\n",
    ")  # logging.DEBUG for more verbose output\n",
    "\n",
    "vertexai.init(project=PROJECT_ID, location=LOCATION)\n",
    "\n",
    "# define LLM\n",
    "from llama_index.llms.vertex import Vertex\n",
    "from llama_index.embeddings.vertex import VertexTextEmbedding\n",
    "from llama_index.core import Settings\n",
    "\n",
    "Settings.llm = Vertex(\n",
    "    temperature=0,\n",
    "    model=\"gemini-1.5-flash\",\n",
    "    credentials=credentials,\n",
    "    safety_settings=safety_config,\n",
    ")\n",
    "Settings.embed_model = VertexTextEmbedding(credentials=credentials)\n",
    "Settings.chunk_size = 256"
   ]
  },
  {
   "cell_type": "markdown",
   "metadata": {
    "id": "IOa2pw90ETV4"
   },
   "source": [
    "## Prepare for NebulaGraph\n",
    "\n",
    "We take [NebulaGraphStore](https://gpt-index.readthedocs.io/en/stable/examples/index_structs/knowledge_graph/NebulaGraphKGIndexDemo.html) as an example in this demo, thus before next step to perform Graph RAG on existing KG, let's ensure we have a running NebulaGraph with defined data schema.\n",
    "\n",
    "This step installs the clients of NebulaGraph, and prepare contexts that defines a [NebulaGraph Graph Space](https://docs.nebula-graph.io/3.6.0/1.introduction/2.data-model/).\n",
    "\n",
    "##### Create a NebulaGraph (version 3.5.0 or newer) cluster with:\n",
    "###### Option 0 for machines with Docker: `curl -fsSL nebula-up.siwei.io/install.sh | bash`\n",
    "###### Option 1 for Desktop: NebulaGraph Docker Extension https://hub.docker.com/extensions/weygu/nebulagraph-dd-ext\n",
    "\n",
    "###### If not, create it with the following commands from NebulaGraph's console:\n",
    "\n",
    "```bash\n",
    "CREATE SPACE llamaindex(vid_type=FIXED_STRING(256), partition_num=1, replica_factor=1);\n",
    ":sleep 10;\n",
    "USE llamaindex;\n",
    "CREATE TAG entity(name string);\n",
    "CREATE EDGE relationship(relationship string);\n",
    ":sleep 10;\n",
    "CREATE TAG INDEX entity_index ON entity(name(256));\n",
    "```"
   ]
  },
  {
   "cell_type": "code",
   "execution_count": 2,
   "metadata": {
    "id": "uryq3yLCETV4",
    "outputId": "56bb7aba-6c0d-42ff-b2be-80b2255d7053"
   },
   "outputs": [],
   "source": [
    "# %pip install ipython-ngql nebula3-python\n",
    "\n",
    "os.environ[\"NEBULA_USER\"] = \"root\"\n",
    "os.environ[\"NEBULA_PASSWORD\"] = \"nebula\"  # default is \"nebula\"\n",
    "os.environ[\"NEBULA_ADDRESS\"] = (\n",
    "    \"127.0.0.1:9669\"  # assumed we have NebulaGraph installed locally\n",
    ")\n",
    "\n",
    "space_name = \"llamaindex\"\n",
    "edge_types, rel_prop_names = [\"relationship\"], [\n",
    "    \"relationship\"\n",
    "]  # default, could be omit if create from an empty kg\n",
    "tags = [\"entity\"]  # default, could be omit if create from an empty kg"
   ]
  },
  {
   "cell_type": "markdown",
   "metadata": {
    "id": "J7OqK9SDETV5"
   },
   "source": [
    "Then we could instiatate a `NebulaGraphStore`, in order to create a `StorageContext`'s `graph_store` as it."
   ]
  },
  {
   "cell_type": "code",
   "execution_count": 3,
   "metadata": {
    "id": "OylzdX8HETV5"
   },
   "outputs": [],
   "source": [
    "from llama_index.core import StorageContext\n",
    "from llama_index.graph_stores.nebula import NebulaGraphStore\n",
    "\n",
    "\n",
    "graph_store = NebulaGraphStore(\n",
    "    space_name=space_name,\n",
    "    edge_types=edge_types,\n",
    "    rel_prop_names=rel_prop_names,\n",
    "    tags=tags,\n",
    ")\n",
    "storage_context = StorageContext.from_defaults(graph_store=graph_store)"
   ]
  },
  {
   "cell_type": "markdown",
   "metadata": {
    "id": "yk4PWOtLETV5"
   },
   "source": [
    "Here, we assumed to have the same Knowledge Graph from [this turtorial](https://gpt-index.readthedocs.io/en/latest/examples/query_engine/knowledge_graph_query_engine.html#optional-build-the-knowledge-graph-with-llamaindex)\n",
    "\n",
    "Let's follow on this tutorial:\n",
    "\n",
    "# **One time Operation to Load the DB**\n",
    "# With the help of Llama Index and LLM defined, we could build Knowledge Graph from given documents.\n",
    "\n",
    "If we have a Knowledge Graph on NebulaGraphStore already, this step could be skipped\n",
    "\n",
    "Load data from Wikipedia for \"Guardians of the Galaxy Vol. 3\""
   ]
  },
  {
   "cell_type": "code",
   "execution_count": 22,
   "metadata": {},
   "outputs": [],
   "source": [
    "from llama_index.core import download_loader\n",
    "\n",
    "from llama_index.readers.wikipedia import WikipediaReader\n",
    "\n",
    "loader = WikipediaReader()\n",
    "\n",
    "documents = loader.load_data(\n",
    "    pages=[\"Guardians of the Galaxy Vol. 2\"], auto_suggest=False\n",
    ")"
   ]
  },
  {
   "cell_type": "markdown",
   "metadata": {},
   "source": [
    "# Next, Generate a KnowledgeGraphIndex with NebulaGraph as graph_store\n",
    "Then, we will create a KnowledgeGraphIndex to enable Graph based RAG, apart from that, we have a Knowledge Graph up and running for other purposes, too!"
   ]
  },
  {
   "cell_type": "code",
   "execution_count": null,
   "metadata": {},
   "outputs": [
    {
     "data": {
      "application/vnd.jupyter.widget-view+json": {
       "model_id": "6f132a56e2604e0eb839e1fb1eda590e",
       "version_major": 2,
       "version_minor": 0
      },
      "text/plain": [
       "Parsing nodes:   0%|          | 0/1 [00:00<?, ?it/s]"
      ]
     },
     "metadata": {},
     "output_type": "display_data"
    },
    {
     "data": {
      "application/vnd.jupyter.widget-view+json": {
       "model_id": "cb462aba330443dbad508033fbc2b570",
       "version_major": 2,
       "version_minor": 0
      },
      "text/plain": [
       "Processing nodes:   0%|          | 0/227 [00:00<?, ?it/s]"
      ]
     },
     "metadata": {},
     "output_type": "display_data"
    },
    {
     "data": {
      "application/vnd.jupyter.widget-view+json": {
       "model_id": "5e7ea9f34f0a4ae8beb5cd3db07249dd",
       "version_major": 2,
       "version_minor": 0
      },
      "text/plain": [
       "Generating embeddings:   0%|          | 0/10 [00:00<?, ?it/s]"
      ]
     },
     "metadata": {},
     "output_type": "display_data"
    },
    {
     "data": {
      "application/vnd.jupyter.widget-view+json": {
       "model_id": "19f85f0deba945c69f36b178385cbb69",
       "version_major": 2,
       "version_minor": 0
      },
      "text/plain": [
       "Generating embeddings:   0%|          | 0/10 [00:00<?, ?it/s]"
      ]
     },
     "metadata": {},
     "output_type": "display_data"
    },
    {
     "data": {
      "application/vnd.jupyter.widget-view+json": {
       "model_id": "cba636396811405aabb36dc46fa25e0e",
       "version_major": 2,
       "version_minor": 0
      },
      "text/plain": [
       "Generating embeddings:   0%|          | 0/10 [00:00<?, ?it/s]"
      ]
     },
     "metadata": {},
     "output_type": "display_data"
    },
    {
     "data": {
      "application/vnd.jupyter.widget-view+json": {
       "model_id": "51efe839453d45a7bb5648fe983056b4",
       "version_major": 2,
       "version_minor": 0
      },
      "text/plain": [
       "Generating embeddings:   0%|          | 0/9 [00:00<?, ?it/s]"
      ]
     },
     "metadata": {},
     "output_type": "display_data"
    },
    {
     "data": {
      "application/vnd.jupyter.widget-view+json": {
       "model_id": "3fc49df396f847c9b2f60bedc3a238e5",
       "version_major": 2,
       "version_minor": 0
      },
      "text/plain": [
       "Generating embeddings:   0%|          | 0/8 [00:00<?, ?it/s]"
      ]
     },
     "metadata": {},
     "output_type": "display_data"
    },
    {
     "data": {
      "application/vnd.jupyter.widget-view+json": {
       "model_id": "2a31f47d56c2436a9412f3119c0a1f3a",
       "version_major": 2,
       "version_minor": 0
      },
      "text/plain": [
       "Generating embeddings:   0%|          | 0/9 [00:00<?, ?it/s]"
      ]
     },
     "metadata": {},
     "output_type": "display_data"
    },
    {
     "data": {
      "application/vnd.jupyter.widget-view+json": {
       "model_id": "4dd54a1ae5bd43049724c8b2a31aca21",
       "version_major": 2,
       "version_minor": 0
      },
      "text/plain": [
       "Generating embeddings:   0%|          | 0/9 [00:00<?, ?it/s]"
      ]
     },
     "metadata": {},
     "output_type": "display_data"
    },
    {
     "data": {
      "application/vnd.jupyter.widget-view+json": {
       "model_id": "e162eaae86ec43a792ea7d2f1f4c7c33",
       "version_major": 2,
       "version_minor": 0
      },
      "text/plain": [
       "Generating embeddings:   0%|          | 0/9 [00:00<?, ?it/s]"
      ]
     },
     "metadata": {},
     "output_type": "display_data"
    },
    {
     "data": {
      "application/vnd.jupyter.widget-view+json": {
       "model_id": "e67edfcca7514a89b26ae7ae8f5db30a",
       "version_major": 2,
       "version_minor": 0
      },
      "text/plain": [
       "Generating embeddings:   0%|          | 0/10 [00:00<?, ?it/s]"
      ]
     },
     "metadata": {},
     "output_type": "display_data"
    },
    {
     "data": {
      "application/vnd.jupyter.widget-view+json": {
       "model_id": "90fd5645e4014b7cb9562a4fb9e4673c",
       "version_major": 2,
       "version_minor": 0
      },
      "text/plain": [
       "Generating embeddings:   0%|          | 0/10 [00:00<?, ?it/s]"
      ]
     },
     "metadata": {},
     "output_type": "display_data"
    },
    {
     "data": {
      "application/vnd.jupyter.widget-view+json": {
       "model_id": "325ee57afc664aed8f90d546288b3ae1",
       "version_major": 2,
       "version_minor": 0
      },
      "text/plain": [
       "Generating embeddings:   0%|          | 0/10 [00:00<?, ?it/s]"
      ]
     },
     "metadata": {},
     "output_type": "display_data"
    },
    {
     "data": {
      "application/vnd.jupyter.widget-view+json": {
       "model_id": "6d7ce3cf0a744f1da545b9eee0b6be2e",
       "version_major": 2,
       "version_minor": 0
      },
      "text/plain": [
       "Generating embeddings:   0%|          | 0/10 [00:00<?, ?it/s]"
      ]
     },
     "metadata": {},
     "output_type": "display_data"
    },
    {
     "data": {
      "application/vnd.jupyter.widget-view+json": {
       "model_id": "99ab7bbb7aab4e118d532584c3dcf7e6",
       "version_major": 2,
       "version_minor": 0
      },
      "text/plain": [
       "Generating embeddings:   0%|          | 0/10 [00:00<?, ?it/s]"
      ]
     },
     "metadata": {},
     "output_type": "display_data"
    },
    {
     "data": {
      "application/vnd.jupyter.widget-view+json": {
       "model_id": "499182c80f7b410c8f07fc0f9c840743",
       "version_major": 2,
       "version_minor": 0
      },
      "text/plain": [
       "Generating embeddings:   0%|          | 0/10 [00:00<?, ?it/s]"
      ]
     },
     "metadata": {},
     "output_type": "display_data"
    },
    {
     "data": {
      "application/vnd.jupyter.widget-view+json": {
       "model_id": "e1cf974f288147dc9e15e07092c4ed43",
       "version_major": 2,
       "version_minor": 0
      },
      "text/plain": [
       "Generating embeddings:   0%|          | 0/10 [00:00<?, ?it/s]"
      ]
     },
     "metadata": {},
     "output_type": "display_data"
    },
    {
     "data": {
      "application/vnd.jupyter.widget-view+json": {
       "model_id": "64ac8cbd1c9c468bb29e60de66f3575e",
       "version_major": 2,
       "version_minor": 0
      },
      "text/plain": [
       "Generating embeddings:   0%|          | 0/10 [00:00<?, ?it/s]"
      ]
     },
     "metadata": {},
     "output_type": "display_data"
    },
    {
     "data": {
      "application/vnd.jupyter.widget-view+json": {
       "model_id": "8c7117df2f7440b9be08933efdaf2110",
       "version_major": 2,
       "version_minor": 0
      },
      "text/plain": [
       "Generating embeddings:   0%|          | 0/10 [00:00<?, ?it/s]"
      ]
     },
     "metadata": {},
     "output_type": "display_data"
    },
    {
     "data": {
      "application/vnd.jupyter.widget-view+json": {
       "model_id": "32d2cf4471d04621b7acfa3358feca4a",
       "version_major": 2,
       "version_minor": 0
      },
      "text/plain": [
       "Generating embeddings:   0%|          | 0/10 [00:00<?, ?it/s]"
      ]
     },
     "metadata": {},
     "output_type": "display_data"
    },
    {
     "data": {
      "application/vnd.jupyter.widget-view+json": {
       "model_id": "7d73499cc6a84ebd97a4c9c3945bd7f8",
       "version_major": 2,
       "version_minor": 0
      },
      "text/plain": [
       "Generating embeddings:   0%|          | 0/10 [00:00<?, ?it/s]"
      ]
     },
     "metadata": {},
     "output_type": "display_data"
    },
    {
     "data": {
      "application/vnd.jupyter.widget-view+json": {
       "model_id": "99d2fddaa9294ca3ad2a7c6eaaa0b7ee",
       "version_major": 2,
       "version_minor": 0
      },
      "text/plain": [
       "Generating embeddings:   0%|          | 0/10 [00:00<?, ?it/s]"
      ]
     },
     "metadata": {},
     "output_type": "display_data"
    },
    {
     "data": {
      "application/vnd.jupyter.widget-view+json": {
       "model_id": "a76afd1c42df49e1b2f27ad8c5c2d304",
       "version_major": 2,
       "version_minor": 0
      },
      "text/plain": [
       "Generating embeddings:   0%|          | 0/10 [00:00<?, ?it/s]"
      ]
     },
     "metadata": {},
     "output_type": "display_data"
    },
    {
     "data": {
      "application/vnd.jupyter.widget-view+json": {
       "model_id": "d43bddb3f21849798ea15d9eb186aaa9",
       "version_major": 2,
       "version_minor": 0
      },
      "text/plain": [
       "Generating embeddings:   0%|          | 0/10 [00:00<?, ?it/s]"
      ]
     },
     "metadata": {},
     "output_type": "display_data"
    },
    {
     "data": {
      "application/vnd.jupyter.widget-view+json": {
       "model_id": "7b23ee6e32b34bcb95c1aa3ba4e11711",
       "version_major": 2,
       "version_minor": 0
      },
      "text/plain": [
       "Generating embeddings:   0%|          | 0/10 [00:00<?, ?it/s]"
      ]
     },
     "metadata": {},
     "output_type": "display_data"
    },
    {
     "data": {
      "application/vnd.jupyter.widget-view+json": {
       "model_id": "cb3453cc12174510986da65b19abeb9d",
       "version_major": 2,
       "version_minor": 0
      },
      "text/plain": [
       "Generating embeddings:   0%|          | 0/10 [00:00<?, ?it/s]"
      ]
     },
     "metadata": {},
     "output_type": "display_data"
    },
    {
     "data": {
      "application/vnd.jupyter.widget-view+json": {
       "model_id": "39bf16c582454df9885cca5d9686cad7",
       "version_major": 2,
       "version_minor": 0
      },
      "text/plain": [
       "Generating embeddings:   0%|          | 0/10 [00:00<?, ?it/s]"
      ]
     },
     "metadata": {},
     "output_type": "display_data"
    },
    {
     "data": {
      "application/vnd.jupyter.widget-view+json": {
       "model_id": "b2cf32557427403e98f73b4b69447f2f",
       "version_major": 2,
       "version_minor": 0
      },
      "text/plain": [
       "Generating embeddings:   0%|          | 0/10 [00:00<?, ?it/s]"
      ]
     },
     "metadata": {},
     "output_type": "display_data"
    },
    {
     "data": {
      "application/vnd.jupyter.widget-view+json": {
       "model_id": "91597c8ee25949cfa873cae58638c045",
       "version_major": 2,
       "version_minor": 0
      },
      "text/plain": [
       "Generating embeddings:   0%|          | 0/10 [00:00<?, ?it/s]"
      ]
     },
     "metadata": {},
     "output_type": "display_data"
    },
    {
     "data": {
      "application/vnd.jupyter.widget-view+json": {
       "model_id": "7154c444f18c4df38ad835420e9bfad8",
       "version_major": 2,
       "version_minor": 0
      },
      "text/plain": [
       "Generating embeddings:   0%|          | 0/9 [00:00<?, ?it/s]"
      ]
     },
     "metadata": {},
     "output_type": "display_data"
    },
    {
     "data": {
      "application/vnd.jupyter.widget-view+json": {
       "model_id": "0df65f470afe42668716bbaf9e2f1000",
       "version_major": 2,
       "version_minor": 0
      },
      "text/plain": [
       "Generating embeddings:   0%|          | 0/10 [00:00<?, ?it/s]"
      ]
     },
     "metadata": {},
     "output_type": "display_data"
    },
    {
     "data": {
      "application/vnd.jupyter.widget-view+json": {
       "model_id": "05f46c1a17364493ac33069cbe8d52de",
       "version_major": 2,
       "version_minor": 0
      },
      "text/plain": [
       "Generating embeddings:   0%|          | 0/9 [00:00<?, ?it/s]"
      ]
     },
     "metadata": {},
     "output_type": "display_data"
    },
    {
     "data": {
      "application/vnd.jupyter.widget-view+json": {
       "model_id": "3f92316c2d854f30b21d553888a908f4",
       "version_major": 2,
       "version_minor": 0
      },
      "text/plain": [
       "Generating embeddings:   0%|          | 0/10 [00:00<?, ?it/s]"
      ]
     },
     "metadata": {},
     "output_type": "display_data"
    },
    {
     "data": {
      "application/vnd.jupyter.widget-view+json": {
       "model_id": "219963ff38f24e00af04912dd52db3c5",
       "version_major": 2,
       "version_minor": 0
      },
      "text/plain": [
       "Generating embeddings:   0%|          | 0/10 [00:00<?, ?it/s]"
      ]
     },
     "metadata": {},
     "output_type": "display_data"
    },
    {
     "data": {
      "application/vnd.jupyter.widget-view+json": {
       "model_id": "4a95ca7abd8246d082f6554cbda54b3b",
       "version_major": 2,
       "version_minor": 0
      },
      "text/plain": [
       "Generating embeddings:   0%|          | 0/10 [00:00<?, ?it/s]"
      ]
     },
     "metadata": {},
     "output_type": "display_data"
    },
    {
     "data": {
      "application/vnd.jupyter.widget-view+json": {
       "model_id": "4b0b8fabb72e4e4482bc6f5d298ead3e",
       "version_major": 2,
       "version_minor": 0
      },
      "text/plain": [
       "Generating embeddings:   0%|          | 0/7 [00:00<?, ?it/s]"
      ]
     },
     "metadata": {},
     "output_type": "display_data"
    },
    {
     "data": {
      "application/vnd.jupyter.widget-view+json": {
       "model_id": "941ec02e7f7a4001a51a0f0d3d26742a",
       "version_major": 2,
       "version_minor": 0
      },
      "text/plain": [
       "Generating embeddings:   0%|          | 0/10 [00:00<?, ?it/s]"
      ]
     },
     "metadata": {},
     "output_type": "display_data"
    },
    {
     "data": {
      "application/vnd.jupyter.widget-view+json": {
       "model_id": "3f0cff3c40fa40efa4a26231ac23fa16",
       "version_major": 2,
       "version_minor": 0
      },
      "text/plain": [
       "Generating embeddings:   0%|          | 0/10 [00:00<?, ?it/s]"
      ]
     },
     "metadata": {},
     "output_type": "display_data"
    },
    {
     "data": {
      "application/vnd.jupyter.widget-view+json": {
       "model_id": "4483c9a5b29b48db99d948bbf1480930",
       "version_major": 2,
       "version_minor": 0
      },
      "text/plain": [
       "Generating embeddings:   0%|          | 0/10 [00:00<?, ?it/s]"
      ]
     },
     "metadata": {},
     "output_type": "display_data"
    },
    {
     "data": {
      "application/vnd.jupyter.widget-view+json": {
       "model_id": "3a8beb012d454d578621120dab92e16b",
       "version_major": 2,
       "version_minor": 0
      },
      "text/plain": [
       "Generating embeddings:   0%|          | 0/10 [00:00<?, ?it/s]"
      ]
     },
     "metadata": {},
     "output_type": "display_data"
    },
    {
     "data": {
      "application/vnd.jupyter.widget-view+json": {
       "model_id": "78cd84a43db04859852230d4c0d84703",
       "version_major": 2,
       "version_minor": 0
      },
      "text/plain": [
       "Generating embeddings:   0%|          | 0/10 [00:00<?, ?it/s]"
      ]
     },
     "metadata": {},
     "output_type": "display_data"
    },
    {
     "data": {
      "application/vnd.jupyter.widget-view+json": {
       "model_id": "51b2ead088554736a0c576e6fe8f968e",
       "version_major": 2,
       "version_minor": 0
      },
      "text/plain": [
       "Generating embeddings:   0%|          | 0/10 [00:00<?, ?it/s]"
      ]
     },
     "metadata": {},
     "output_type": "display_data"
    },
    {
     "data": {
      "application/vnd.jupyter.widget-view+json": {
       "model_id": "6effb39b7969490086f8c0ad48d825fd",
       "version_major": 2,
       "version_minor": 0
      },
      "text/plain": [
       "Generating embeddings:   0%|          | 0/4 [00:00<?, ?it/s]"
      ]
     },
     "metadata": {},
     "output_type": "display_data"
    },
    {
     "data": {
      "application/vnd.jupyter.widget-view+json": {
       "model_id": "d8c64eed85cd48758085054ac18aa391",
       "version_major": 2,
       "version_minor": 0
      },
      "text/plain": [
       "Generating embeddings:   0%|          | 0/10 [00:00<?, ?it/s]"
      ]
     },
     "metadata": {},
     "output_type": "display_data"
    },
    {
     "data": {
      "application/vnd.jupyter.widget-view+json": {
       "model_id": "3390d8c3407943b7aea5de496e4ece01",
       "version_major": 2,
       "version_minor": 0
      },
      "text/plain": [
       "Generating embeddings:   0%|          | 0/6 [00:00<?, ?it/s]"
      ]
     },
     "metadata": {},
     "output_type": "display_data"
    },
    {
     "data": {
      "application/vnd.jupyter.widget-view+json": {
       "model_id": "2ee1c3623340424896afd8263d95ccfd",
       "version_major": 2,
       "version_minor": 0
      },
      "text/plain": [
       "Generating embeddings:   0%|          | 0/8 [00:00<?, ?it/s]"
      ]
     },
     "metadata": {},
     "output_type": "display_data"
    },
    {
     "data": {
      "application/vnd.jupyter.widget-view+json": {
       "model_id": "0602209148934adc96bf26bb54080e49",
       "version_major": 2,
       "version_minor": 0
      },
      "text/plain": [
       "Generating embeddings:   0%|          | 0/10 [00:00<?, ?it/s]"
      ]
     },
     "metadata": {},
     "output_type": "display_data"
    },
    {
     "data": {
      "application/vnd.jupyter.widget-view+json": {
       "model_id": "e2f2d3ae34aa4bf9938ddb5b0a4501c9",
       "version_major": 2,
       "version_minor": 0
      },
      "text/plain": [
       "Generating embeddings:   0%|          | 0/10 [00:00<?, ?it/s]"
      ]
     },
     "metadata": {},
     "output_type": "display_data"
    },
    {
     "data": {
      "application/vnd.jupyter.widget-view+json": {
       "model_id": "53d65b6ab8de4959985564d48b3192c6",
       "version_major": 2,
       "version_minor": 0
      },
      "text/plain": [
       "Generating embeddings:   0%|          | 0/10 [00:00<?, ?it/s]"
      ]
     },
     "metadata": {},
     "output_type": "display_data"
    },
    {
     "data": {
      "application/vnd.jupyter.widget-view+json": {
       "model_id": "f5c5e9d3fde7405594fca814665ca30d",
       "version_major": 2,
       "version_minor": 0
      },
      "text/plain": [
       "Generating embeddings:   0%|          | 0/10 [00:00<?, ?it/s]"
      ]
     },
     "metadata": {},
     "output_type": "display_data"
    },
    {
     "data": {
      "application/vnd.jupyter.widget-view+json": {
       "model_id": "efaffa8cc3604aa5bc1f42dcb29eb9ed",
       "version_major": 2,
       "version_minor": 0
      },
      "text/plain": [
       "Generating embeddings:   0%|          | 0/10 [00:00<?, ?it/s]"
      ]
     },
     "metadata": {},
     "output_type": "display_data"
    },
    {
     "data": {
      "application/vnd.jupyter.widget-view+json": {
       "model_id": "b3374ac469d048b7a81a91f71b3ace28",
       "version_major": 2,
       "version_minor": 0
      },
      "text/plain": [
       "Generating embeddings:   0%|          | 0/9 [00:00<?, ?it/s]"
      ]
     },
     "metadata": {},
     "output_type": "display_data"
    },
    {
     "data": {
      "application/vnd.jupyter.widget-view+json": {
       "model_id": "d52a28642b904a3eae44b61a6815f59c",
       "version_major": 2,
       "version_minor": 0
      },
      "text/plain": [
       "Generating embeddings:   0%|          | 0/10 [00:00<?, ?it/s]"
      ]
     },
     "metadata": {},
     "output_type": "display_data"
    },
    {
     "data": {
      "application/vnd.jupyter.widget-view+json": {
       "model_id": "8567cb11e6474cd2bfd124f2b3c26e90",
       "version_major": 2,
       "version_minor": 0
      },
      "text/plain": [
       "Generating embeddings:   0%|          | 0/9 [00:00<?, ?it/s]"
      ]
     },
     "metadata": {},
     "output_type": "display_data"
    },
    {
     "data": {
      "application/vnd.jupyter.widget-view+json": {
       "model_id": "0edd8c09ba1a47ecba59a9827d277e91",
       "version_major": 2,
       "version_minor": 0
      },
      "text/plain": [
       "Generating embeddings:   0%|          | 0/10 [00:00<?, ?it/s]"
      ]
     },
     "metadata": {},
     "output_type": "display_data"
    },
    {
     "data": {
      "application/vnd.jupyter.widget-view+json": {
       "model_id": "2a830315bafa4d5ea20d5ebee4039c93",
       "version_major": 2,
       "version_minor": 0
      },
      "text/plain": [
       "Generating embeddings:   0%|          | 0/10 [00:00<?, ?it/s]"
      ]
     },
     "metadata": {},
     "output_type": "display_data"
    },
    {
     "data": {
      "application/vnd.jupyter.widget-view+json": {
       "model_id": "b8665f820aa94bc687b7cc78b0cba54b",
       "version_major": 2,
       "version_minor": 0
      },
      "text/plain": [
       "Generating embeddings:   0%|          | 0/8 [00:00<?, ?it/s]"
      ]
     },
     "metadata": {},
     "output_type": "display_data"
    },
    {
     "data": {
      "application/vnd.jupyter.widget-view+json": {
       "model_id": "184240f87f2447d4a9d888a29579eeca",
       "version_major": 2,
       "version_minor": 0
      },
      "text/plain": [
       "Generating embeddings:   0%|          | 0/10 [00:00<?, ?it/s]"
      ]
     },
     "metadata": {},
     "output_type": "display_data"
    },
    {
     "data": {
      "application/vnd.jupyter.widget-view+json": {
       "model_id": "d12d9f8f056f49e2b72d21d652f4546c",
       "version_major": 2,
       "version_minor": 0
      },
      "text/plain": [
       "Generating embeddings:   0%|          | 0/10 [00:00<?, ?it/s]"
      ]
     },
     "metadata": {},
     "output_type": "display_data"
    },
    {
     "data": {
      "application/vnd.jupyter.widget-view+json": {
       "model_id": "d57babd715db425b90b934d3ef84227a",
       "version_major": 2,
       "version_minor": 0
      },
      "text/plain": [
       "Generating embeddings:   0%|          | 0/10 [00:00<?, ?it/s]"
      ]
     },
     "metadata": {},
     "output_type": "display_data"
    },
    {
     "data": {
      "application/vnd.jupyter.widget-view+json": {
       "model_id": "b354dab8b07d44088f22c5fdd2f13005",
       "version_major": 2,
       "version_minor": 0
      },
      "text/plain": [
       "Generating embeddings:   0%|          | 0/10 [00:00<?, ?it/s]"
      ]
     },
     "metadata": {},
     "output_type": "display_data"
    },
    {
     "data": {
      "application/vnd.jupyter.widget-view+json": {
       "model_id": "92662bb6e29047bdb60f1006eaabe900",
       "version_major": 2,
       "version_minor": 0
      },
      "text/plain": [
       "Generating embeddings:   0%|          | 0/10 [00:00<?, ?it/s]"
      ]
     },
     "metadata": {},
     "output_type": "display_data"
    },
    {
     "data": {
      "application/vnd.jupyter.widget-view+json": {
       "model_id": "1cf69d0627794ed783fc54b80a83b0af",
       "version_major": 2,
       "version_minor": 0
      },
      "text/plain": [
       "Generating embeddings:   0%|          | 0/10 [00:00<?, ?it/s]"
      ]
     },
     "metadata": {},
     "output_type": "display_data"
    },
    {
     "data": {
      "application/vnd.jupyter.widget-view+json": {
       "model_id": "3eda33cc36e74811b8b3a6449519ddfc",
       "version_major": 2,
       "version_minor": 0
      },
      "text/plain": [
       "Generating embeddings:   0%|          | 0/10 [00:00<?, ?it/s]"
      ]
     },
     "metadata": {},
     "output_type": "display_data"
    },
    {
     "data": {
      "application/vnd.jupyter.widget-view+json": {
       "model_id": "4b44af258f5341ca94ef33d297ef346b",
       "version_major": 2,
       "version_minor": 0
      },
      "text/plain": [
       "Generating embeddings:   0%|          | 0/10 [00:00<?, ?it/s]"
      ]
     },
     "metadata": {},
     "output_type": "display_data"
    },
    {
     "data": {
      "application/vnd.jupyter.widget-view+json": {
       "model_id": "6485c2159eff4a9ebcfff58259cb3044",
       "version_major": 2,
       "version_minor": 0
      },
      "text/plain": [
       "Generating embeddings:   0%|          | 0/10 [00:00<?, ?it/s]"
      ]
     },
     "metadata": {},
     "output_type": "display_data"
    },
    {
     "data": {
      "application/vnd.jupyter.widget-view+json": {
       "model_id": "6bb0b4c84695445eaaef93790799a764",
       "version_major": 2,
       "version_minor": 0
      },
      "text/plain": [
       "Generating embeddings:   0%|          | 0/10 [00:00<?, ?it/s]"
      ]
     },
     "metadata": {},
     "output_type": "display_data"
    },
    {
     "data": {
      "application/vnd.jupyter.widget-view+json": {
       "model_id": "76fedac54a564d4583e0a20a83dd846c",
       "version_major": 2,
       "version_minor": 0
      },
      "text/plain": [
       "Generating embeddings:   0%|          | 0/10 [00:00<?, ?it/s]"
      ]
     },
     "metadata": {},
     "output_type": "display_data"
    },
    {
     "data": {
      "application/vnd.jupyter.widget-view+json": {
       "model_id": "200e50d450c0459f8561835869f9101b",
       "version_major": 2,
       "version_minor": 0
      },
      "text/plain": [
       "Generating embeddings:   0%|          | 0/10 [00:00<?, ?it/s]"
      ]
     },
     "metadata": {},
     "output_type": "display_data"
    },
    {
     "data": {
      "application/vnd.jupyter.widget-view+json": {
       "model_id": "110208f1792945fea5709224a33b32c6",
       "version_major": 2,
       "version_minor": 0
      },
      "text/plain": [
       "Generating embeddings:   0%|          | 0/10 [00:00<?, ?it/s]"
      ]
     },
     "metadata": {},
     "output_type": "display_data"
    },
    {
     "data": {
      "application/vnd.jupyter.widget-view+json": {
       "model_id": "b55de3a0f6a144c69de74e3d138c04b1",
       "version_major": 2,
       "version_minor": 0
      },
      "text/plain": [
       "Generating embeddings:   0%|          | 0/10 [00:00<?, ?it/s]"
      ]
     },
     "metadata": {},
     "output_type": "display_data"
    },
    {
     "data": {
      "application/vnd.jupyter.widget-view+json": {
       "model_id": "027125ec229c42c09953188bc7120539",
       "version_major": 2,
       "version_minor": 0
      },
      "text/plain": [
       "Generating embeddings:   0%|          | 0/10 [00:00<?, ?it/s]"
      ]
     },
     "metadata": {},
     "output_type": "display_data"
    },
    {
     "data": {
      "application/vnd.jupyter.widget-view+json": {
       "model_id": "958c7ff3de44489f852370ebe35e064c",
       "version_major": 2,
       "version_minor": 0
      },
      "text/plain": [
       "Generating embeddings:   0%|          | 0/10 [00:00<?, ?it/s]"
      ]
     },
     "metadata": {},
     "output_type": "display_data"
    },
    {
     "data": {
      "application/vnd.jupyter.widget-view+json": {
       "model_id": "c14a34faa3104655828f75c6445e3623",
       "version_major": 2,
       "version_minor": 0
      },
      "text/plain": [
       "Generating embeddings:   0%|          | 0/10 [00:00<?, ?it/s]"
      ]
     },
     "metadata": {},
     "output_type": "display_data"
    },
    {
     "data": {
      "application/vnd.jupyter.widget-view+json": {
       "model_id": "818d4e73eb694972816e1b222ce74512",
       "version_major": 2,
       "version_minor": 0
      },
      "text/plain": [
       "Generating embeddings:   0%|          | 0/10 [00:00<?, ?it/s]"
      ]
     },
     "metadata": {},
     "output_type": "display_data"
    },
    {
     "data": {
      "application/vnd.jupyter.widget-view+json": {
       "model_id": "e9eaa645d34149758dac08b24f08d508",
       "version_major": 2,
       "version_minor": 0
      },
      "text/plain": [
       "Generating embeddings:   0%|          | 0/10 [00:00<?, ?it/s]"
      ]
     },
     "metadata": {},
     "output_type": "display_data"
    },
    {
     "data": {
      "application/vnd.jupyter.widget-view+json": {
       "model_id": "e2925b242aeb4decab749ce7d3140610",
       "version_major": 2,
       "version_minor": 0
      },
      "text/plain": [
       "Generating embeddings:   0%|          | 0/10 [00:00<?, ?it/s]"
      ]
     },
     "metadata": {},
     "output_type": "display_data"
    },
    {
     "data": {
      "application/vnd.jupyter.widget-view+json": {
       "model_id": "5fcf1736e13d4dd0a09f2d747d45ad1e",
       "version_major": 2,
       "version_minor": 0
      },
      "text/plain": [
       "Generating embeddings:   0%|          | 0/10 [00:00<?, ?it/s]"
      ]
     },
     "metadata": {},
     "output_type": "display_data"
    },
    {
     "data": {
      "application/vnd.jupyter.widget-view+json": {
       "model_id": "001d551e6c864706b4999187d9ccaf39",
       "version_major": 2,
       "version_minor": 0
      },
      "text/plain": [
       "Generating embeddings:   0%|          | 0/10 [00:00<?, ?it/s]"
      ]
     },
     "metadata": {},
     "output_type": "display_data"
    },
    {
     "data": {
      "application/vnd.jupyter.widget-view+json": {
       "model_id": "c9e2bf844e2e4b45854aff3366214bc3",
       "version_major": 2,
       "version_minor": 0
      },
      "text/plain": [
       "Generating embeddings:   0%|          | 0/10 [00:00<?, ?it/s]"
      ]
     },
     "metadata": {},
     "output_type": "display_data"
    },
    {
     "data": {
      "application/vnd.jupyter.widget-view+json": {
       "model_id": "94d72a12b4464c6d9d7185de886b42b6",
       "version_major": 2,
       "version_minor": 0
      },
      "text/plain": [
       "Generating embeddings:   0%|          | 0/10 [00:00<?, ?it/s]"
      ]
     },
     "metadata": {},
     "output_type": "display_data"
    },
    {
     "data": {
      "application/vnd.jupyter.widget-view+json": {
       "model_id": "29765899be774ab08bd4610891fdab11",
       "version_major": 2,
       "version_minor": 0
      },
      "text/plain": [
       "Generating embeddings:   0%|          | 0/10 [00:00<?, ?it/s]"
      ]
     },
     "metadata": {},
     "output_type": "display_data"
    },
    {
     "data": {
      "application/vnd.jupyter.widget-view+json": {
       "model_id": "1e2450f7da8b4c93b53472a8c5d1056b",
       "version_major": 2,
       "version_minor": 0
      },
      "text/plain": [
       "Generating embeddings:   0%|          | 0/8 [00:00<?, ?it/s]"
      ]
     },
     "metadata": {},
     "output_type": "display_data"
    },
    {
     "data": {
      "application/vnd.jupyter.widget-view+json": {
       "model_id": "a81c77a25f354c43843b65489f1091c1",
       "version_major": 2,
       "version_minor": 0
      },
      "text/plain": [
       "Generating embeddings:   0%|          | 0/8 [00:00<?, ?it/s]"
      ]
     },
     "metadata": {},
     "output_type": "display_data"
    },
    {
     "data": {
      "application/vnd.jupyter.widget-view+json": {
       "model_id": "99a15f1d8d864fe296725056dfa6de6f",
       "version_major": 2,
       "version_minor": 0
      },
      "text/plain": [
       "Generating embeddings:   0%|          | 0/8 [00:00<?, ?it/s]"
      ]
     },
     "metadata": {},
     "output_type": "display_data"
    },
    {
     "data": {
      "application/vnd.jupyter.widget-view+json": {
       "model_id": "189ca98da5264a9283b3b20b5b83ee71",
       "version_major": 2,
       "version_minor": 0
      },
      "text/plain": [
       "Generating embeddings:   0%|          | 0/10 [00:00<?, ?it/s]"
      ]
     },
     "metadata": {},
     "output_type": "display_data"
    },
    {
     "data": {
      "application/vnd.jupyter.widget-view+json": {
       "model_id": "4884793170c74386839a633edfd3d0e9",
       "version_major": 2,
       "version_minor": 0
      },
      "text/plain": [
       "Generating embeddings:   0%|          | 0/10 [00:00<?, ?it/s]"
      ]
     },
     "metadata": {},
     "output_type": "display_data"
    },
    {
     "data": {
      "application/vnd.jupyter.widget-view+json": {
       "model_id": "c3040420998d4ef899c52bd0e5f8a39b",
       "version_major": 2,
       "version_minor": 0
      },
      "text/plain": [
       "Generating embeddings:   0%|          | 0/10 [00:00<?, ?it/s]"
      ]
     },
     "metadata": {},
     "output_type": "display_data"
    },
    {
     "data": {
      "application/vnd.jupyter.widget-view+json": {
       "model_id": "e23e5a3c313746138e6166d348250c06",
       "version_major": 2,
       "version_minor": 0
      },
      "text/plain": [
       "Generating embeddings:   0%|          | 0/10 [00:00<?, ?it/s]"
      ]
     },
     "metadata": {},
     "output_type": "display_data"
    },
    {
     "data": {
      "application/vnd.jupyter.widget-view+json": {
       "model_id": "d5fd20699a214e659b07e049c49a91ed",
       "version_major": 2,
       "version_minor": 0
      },
      "text/plain": [
       "Generating embeddings:   0%|          | 0/10 [00:00<?, ?it/s]"
      ]
     },
     "metadata": {},
     "output_type": "display_data"
    },
    {
     "data": {
      "application/vnd.jupyter.widget-view+json": {
       "model_id": "1829659807d74ebc9b2a7e61aa58fe92",
       "version_major": 2,
       "version_minor": 0
      },
      "text/plain": [
       "Generating embeddings:   0%|          | 0/10 [00:00<?, ?it/s]"
      ]
     },
     "metadata": {},
     "output_type": "display_data"
    },
    {
     "data": {
      "application/vnd.jupyter.widget-view+json": {
       "model_id": "2490b8773fd54464a7803dfbfd1a9446",
       "version_major": 2,
       "version_minor": 0
      },
      "text/plain": [
       "Generating embeddings:   0%|          | 0/10 [00:00<?, ?it/s]"
      ]
     },
     "metadata": {},
     "output_type": "display_data"
    },
    {
     "data": {
      "application/vnd.jupyter.widget-view+json": {
       "model_id": "00d1ac837b9f4b26abb2140c5976f136",
       "version_major": 2,
       "version_minor": 0
      },
      "text/plain": [
       "Generating embeddings:   0%|          | 0/20 [00:00<?, ?it/s]"
      ]
     },
     "metadata": {},
     "output_type": "display_data"
    },
    {
     "data": {
      "application/vnd.jupyter.widget-view+json": {
       "model_id": "b717c07bfd3d4e7ab3e7cc6f5df67a96",
       "version_major": 2,
       "version_minor": 0
      },
      "text/plain": [
       "Generating embeddings:   0%|          | 0/10 [00:00<?, ?it/s]"
      ]
     },
     "metadata": {},
     "output_type": "display_data"
    },
    {
     "data": {
      "application/vnd.jupyter.widget-view+json": {
       "model_id": "c8fa771908aa403194e250e0e977f644",
       "version_major": 2,
       "version_minor": 0
      },
      "text/plain": [
       "Generating embeddings:   0%|          | 0/10 [00:00<?, ?it/s]"
      ]
     },
     "metadata": {},
     "output_type": "display_data"
    },
    {
     "data": {
      "application/vnd.jupyter.widget-view+json": {
       "model_id": "da3e2cc0ad56479eb777ca280e34b863",
       "version_major": 2,
       "version_minor": 0
      },
      "text/plain": [
       "Generating embeddings:   0%|          | 0/10 [00:00<?, ?it/s]"
      ]
     },
     "metadata": {},
     "output_type": "display_data"
    },
    {
     "data": {
      "application/vnd.jupyter.widget-view+json": {
       "model_id": "4f85f2092cfa4951a2f17e2d38e57bd6",
       "version_major": 2,
       "version_minor": 0
      },
      "text/plain": [
       "Generating embeddings:   0%|          | 0/10 [00:00<?, ?it/s]"
      ]
     },
     "metadata": {},
     "output_type": "display_data"
    },
    {
     "data": {
      "application/vnd.jupyter.widget-view+json": {
       "model_id": "7e2734b38f19459ea82e239baa9f5ead",
       "version_major": 2,
       "version_minor": 0
      },
      "text/plain": [
       "Generating embeddings:   0%|          | 0/10 [00:00<?, ?it/s]"
      ]
     },
     "metadata": {},
     "output_type": "display_data"
    },
    {
     "data": {
      "application/vnd.jupyter.widget-view+json": {
       "model_id": "301b66a93ff541a68d4b1fd3afee91cd",
       "version_major": 2,
       "version_minor": 0
      },
      "text/plain": [
       "Generating embeddings:   0%|          | 0/10 [00:00<?, ?it/s]"
      ]
     },
     "metadata": {},
     "output_type": "display_data"
    },
    {
     "data": {
      "application/vnd.jupyter.widget-view+json": {
       "model_id": "714a745e8972419d88cc35975c9d92c8",
       "version_major": 2,
       "version_minor": 0
      },
      "text/plain": [
       "Generating embeddings:   0%|          | 0/10 [00:00<?, ?it/s]"
      ]
     },
     "metadata": {},
     "output_type": "display_data"
    },
    {
     "data": {
      "application/vnd.jupyter.widget-view+json": {
       "model_id": "a0ec69ff4cb342caa74681dc7a76cecf",
       "version_major": 2,
       "version_minor": 0
      },
      "text/plain": [
       "Generating embeddings:   0%|          | 0/10 [00:00<?, ?it/s]"
      ]
     },
     "metadata": {},
     "output_type": "display_data"
    },
    {
     "data": {
      "application/vnd.jupyter.widget-view+json": {
       "model_id": "290b5a2966744f268fa73865d84d3d6c",
       "version_major": 2,
       "version_minor": 0
      },
      "text/plain": [
       "Generating embeddings:   0%|          | 0/10 [00:00<?, ?it/s]"
      ]
     },
     "metadata": {},
     "output_type": "display_data"
    },
    {
     "data": {
      "application/vnd.jupyter.widget-view+json": {
       "model_id": "515a9edcc9b14b0a8679317ce33dc967",
       "version_major": 2,
       "version_minor": 0
      },
      "text/plain": [
       "Generating embeddings:   0%|          | 0/10 [00:00<?, ?it/s]"
      ]
     },
     "metadata": {},
     "output_type": "display_data"
    },
    {
     "data": {
      "application/vnd.jupyter.widget-view+json": {
       "model_id": "7ca9928ba17a401cb74cf946b207c3c6",
       "version_major": 2,
       "version_minor": 0
      },
      "text/plain": [
       "Generating embeddings:   0%|          | 0/10 [00:00<?, ?it/s]"
      ]
     },
     "metadata": {},
     "output_type": "display_data"
    },
    {
     "data": {
      "application/vnd.jupyter.widget-view+json": {
       "model_id": "a55f8a118cde4355a21d88c4ec658760",
       "version_major": 2,
       "version_minor": 0
      },
      "text/plain": [
       "Generating embeddings:   0%|          | 0/10 [00:00<?, ?it/s]"
      ]
     },
     "metadata": {},
     "output_type": "display_data"
    },
    {
     "data": {
      "application/vnd.jupyter.widget-view+json": {
       "model_id": "4909ebd69b294eeaa15895815295efcd",
       "version_major": 2,
       "version_minor": 0
      },
      "text/plain": [
       "Generating embeddings:   0%|          | 0/10 [00:00<?, ?it/s]"
      ]
     },
     "metadata": {},
     "output_type": "display_data"
    },
    {
     "data": {
      "application/vnd.jupyter.widget-view+json": {
       "model_id": "a9179842cba84f74a2c7edba54fdc167",
       "version_major": 2,
       "version_minor": 0
      },
      "text/plain": [
       "Generating embeddings:   0%|          | 0/10 [00:00<?, ?it/s]"
      ]
     },
     "metadata": {},
     "output_type": "display_data"
    },
    {
     "data": {
      "application/vnd.jupyter.widget-view+json": {
       "model_id": "8d8db47e083a4c929064faf3d5aebfc3",
       "version_major": 2,
       "version_minor": 0
      },
      "text/plain": [
       "Generating embeddings:   0%|          | 0/10 [00:00<?, ?it/s]"
      ]
     },
     "metadata": {},
     "output_type": "display_data"
    },
    {
     "data": {
      "application/vnd.jupyter.widget-view+json": {
       "model_id": "e12365273d474e168cf9392c1aef31f9",
       "version_major": 2,
       "version_minor": 0
      },
      "text/plain": [
       "Generating embeddings:   0%|          | 0/10 [00:00<?, ?it/s]"
      ]
     },
     "metadata": {},
     "output_type": "display_data"
    },
    {
     "data": {
      "application/vnd.jupyter.widget-view+json": {
       "model_id": "66c4e27dc1f74062bf0286504ae06029",
       "version_major": 2,
       "version_minor": 0
      },
      "text/plain": [
       "Generating embeddings:   0%|          | 0/10 [00:00<?, ?it/s]"
      ]
     },
     "metadata": {},
     "output_type": "display_data"
    },
    {
     "data": {
      "application/vnd.jupyter.widget-view+json": {
       "model_id": "23dc9e744a6941fab91a0e53de185908",
       "version_major": 2,
       "version_minor": 0
      },
      "text/plain": [
       "Generating embeddings:   0%|          | 0/10 [00:00<?, ?it/s]"
      ]
     },
     "metadata": {},
     "output_type": "display_data"
    },
    {
     "data": {
      "application/vnd.jupyter.widget-view+json": {
       "model_id": "92c37ce003584fe5aa6bb6cfd99c51d5",
       "version_major": 2,
       "version_minor": 0
      },
      "text/plain": [
       "Generating embeddings:   0%|          | 0/10 [00:00<?, ?it/s]"
      ]
     },
     "metadata": {},
     "output_type": "display_data"
    },
    {
     "data": {
      "application/vnd.jupyter.widget-view+json": {
       "model_id": "001551de22664607a3176d0e6b8582ca",
       "version_major": 2,
       "version_minor": 0
      },
      "text/plain": [
       "Generating embeddings:   0%|          | 0/10 [00:00<?, ?it/s]"
      ]
     },
     "metadata": {},
     "output_type": "display_data"
    },
    {
     "data": {
      "application/vnd.jupyter.widget-view+json": {
       "model_id": "c0b12c81b1e14bdd9dbf932398def216",
       "version_major": 2,
       "version_minor": 0
      },
      "text/plain": [
       "Generating embeddings:   0%|          | 0/10 [00:00<?, ?it/s]"
      ]
     },
     "metadata": {},
     "output_type": "display_data"
    },
    {
     "data": {
      "application/vnd.jupyter.widget-view+json": {
       "model_id": "1b928564674746ee80e916f74d4253dd",
       "version_major": 2,
       "version_minor": 0
      },
      "text/plain": [
       "Generating embeddings:   0%|          | 0/10 [00:00<?, ?it/s]"
      ]
     },
     "metadata": {},
     "output_type": "display_data"
    },
    {
     "data": {
      "application/vnd.jupyter.widget-view+json": {
       "model_id": "af9e353f6a0b433b9aa9409c41e32b75",
       "version_major": 2,
       "version_minor": 0
      },
      "text/plain": [
       "Generating embeddings:   0%|          | 0/10 [00:00<?, ?it/s]"
      ]
     },
     "metadata": {},
     "output_type": "display_data"
    },
    {
     "data": {
      "application/vnd.jupyter.widget-view+json": {
       "model_id": "89179932cca44afab6ad706c428acfdf",
       "version_major": 2,
       "version_minor": 0
      },
      "text/plain": [
       "Generating embeddings:   0%|          | 0/10 [00:00<?, ?it/s]"
      ]
     },
     "metadata": {},
     "output_type": "display_data"
    },
    {
     "data": {
      "application/vnd.jupyter.widget-view+json": {
       "model_id": "2072b6c31ced44e1b51c5c4f067f3d2d",
       "version_major": 2,
       "version_minor": 0
      },
      "text/plain": [
       "Generating embeddings:   0%|          | 0/10 [00:00<?, ?it/s]"
      ]
     },
     "metadata": {},
     "output_type": "display_data"
    },
    {
     "data": {
      "application/vnd.jupyter.widget-view+json": {
       "model_id": "3ce74dfe00174b4da6c74983c2e648e3",
       "version_major": 2,
       "version_minor": 0
      },
      "text/plain": [
       "Generating embeddings:   0%|          | 0/10 [00:00<?, ?it/s]"
      ]
     },
     "metadata": {},
     "output_type": "display_data"
    },
    {
     "data": {
      "application/vnd.jupyter.widget-view+json": {
       "model_id": "89a5091f1e044626b00ec753d5887689",
       "version_major": 2,
       "version_minor": 0
      },
      "text/plain": [
       "Generating embeddings:   0%|          | 0/10 [00:00<?, ?it/s]"
      ]
     },
     "metadata": {},
     "output_type": "display_data"
    },
    {
     "data": {
      "application/vnd.jupyter.widget-view+json": {
       "model_id": "8b02d00f2b914a49909877e32afa8412",
       "version_major": 2,
       "version_minor": 0
      },
      "text/plain": [
       "Generating embeddings:   0%|          | 0/9 [00:00<?, ?it/s]"
      ]
     },
     "metadata": {},
     "output_type": "display_data"
    },
    {
     "data": {
      "application/vnd.jupyter.widget-view+json": {
       "model_id": "00589ba0b29442f5b40fba2d1ff85e7a",
       "version_major": 2,
       "version_minor": 0
      },
      "text/plain": [
       "Generating embeddings:   0%|          | 0/9 [00:00<?, ?it/s]"
      ]
     },
     "metadata": {},
     "output_type": "display_data"
    },
    {
     "data": {
      "application/vnd.jupyter.widget-view+json": {
       "model_id": "b20575cc5a0f453381ffba85c22d59bd",
       "version_major": 2,
       "version_minor": 0
      },
      "text/plain": [
       "Generating embeddings:   0%|          | 0/10 [00:00<?, ?it/s]"
      ]
     },
     "metadata": {},
     "output_type": "display_data"
    },
    {
     "data": {
      "application/vnd.jupyter.widget-view+json": {
       "model_id": "d789164f3f144e558b61839a454a9b5f",
       "version_major": 2,
       "version_minor": 0
      },
      "text/plain": [
       "Generating embeddings:   0%|          | 0/9 [00:00<?, ?it/s]"
      ]
     },
     "metadata": {},
     "output_type": "display_data"
    },
    {
     "data": {
      "application/vnd.jupyter.widget-view+json": {
       "model_id": "3ded493074ae406f8bf9d032ce654bed",
       "version_major": 2,
       "version_minor": 0
      },
      "text/plain": [
       "Generating embeddings:   0%|          | 0/8 [00:00<?, ?it/s]"
      ]
     },
     "metadata": {},
     "output_type": "display_data"
    },
    {
     "data": {
      "application/vnd.jupyter.widget-view+json": {
       "model_id": "50eb5e1c72b9475aba64ed37112352a0",
       "version_major": 2,
       "version_minor": 0
      },
      "text/plain": [
       "Generating embeddings:   0%|          | 0/10 [00:00<?, ?it/s]"
      ]
     },
     "metadata": {},
     "output_type": "display_data"
    },
    {
     "data": {
      "application/vnd.jupyter.widget-view+json": {
       "model_id": "e4f93098fa2247f0936c254dc6935a60",
       "version_major": 2,
       "version_minor": 0
      },
      "text/plain": [
       "Generating embeddings:   0%|          | 0/10 [00:00<?, ?it/s]"
      ]
     },
     "metadata": {},
     "output_type": "display_data"
    },
    {
     "data": {
      "application/vnd.jupyter.widget-view+json": {
       "model_id": "c7d898bd3a244494bb9ac476fc3a6916",
       "version_major": 2,
       "version_minor": 0
      },
      "text/plain": [
       "Generating embeddings:   0%|          | 0/10 [00:00<?, ?it/s]"
      ]
     },
     "metadata": {},
     "output_type": "display_data"
    },
    {
     "data": {
      "application/vnd.jupyter.widget-view+json": {
       "model_id": "8710487215304e139c7df067f6ce7ef2",
       "version_major": 2,
       "version_minor": 0
      },
      "text/plain": [
       "Generating embeddings:   0%|          | 0/10 [00:00<?, ?it/s]"
      ]
     },
     "metadata": {},
     "output_type": "display_data"
    },
    {
     "data": {
      "application/vnd.jupyter.widget-view+json": {
       "model_id": "14282e7f9618409a835539441c583c55",
       "version_major": 2,
       "version_minor": 0
      },
      "text/plain": [
       "Generating embeddings:   0%|          | 0/10 [00:00<?, ?it/s]"
      ]
     },
     "metadata": {},
     "output_type": "display_data"
    },
    {
     "data": {
      "application/vnd.jupyter.widget-view+json": {
       "model_id": "8f2ac2127d4f4c4caa8dd743aee0e555",
       "version_major": 2,
       "version_minor": 0
      },
      "text/plain": [
       "Generating embeddings:   0%|          | 0/10 [00:00<?, ?it/s]"
      ]
     },
     "metadata": {},
     "output_type": "display_data"
    },
    {
     "data": {
      "application/vnd.jupyter.widget-view+json": {
       "model_id": "aa1d17481bd44289a405ab64cff403eb",
       "version_major": 2,
       "version_minor": 0
      },
      "text/plain": [
       "Generating embeddings:   0%|          | 0/9 [00:00<?, ?it/s]"
      ]
     },
     "metadata": {},
     "output_type": "display_data"
    },
    {
     "data": {
      "application/vnd.jupyter.widget-view+json": {
       "model_id": "577dc12a6f674a75aa4f5c6b647233d9",
       "version_major": 2,
       "version_minor": 0
      },
      "text/plain": [
       "Generating embeddings:   0%|          | 0/9 [00:00<?, ?it/s]"
      ]
     },
     "metadata": {},
     "output_type": "display_data"
    },
    {
     "data": {
      "application/vnd.jupyter.widget-view+json": {
       "model_id": "737703ed0552437fa9bb59665c138912",
       "version_major": 2,
       "version_minor": 0
      },
      "text/plain": [
       "Generating embeddings:   0%|          | 0/10 [00:00<?, ?it/s]"
      ]
     },
     "metadata": {},
     "output_type": "display_data"
    },
    {
     "data": {
      "application/vnd.jupyter.widget-view+json": {
       "model_id": "7d4fdb41eb30452082cb6e0405ef94ab",
       "version_major": 2,
       "version_minor": 0
      },
      "text/plain": [
       "Generating embeddings:   0%|          | 0/10 [00:00<?, ?it/s]"
      ]
     },
     "metadata": {},
     "output_type": "display_data"
    },
    {
     "data": {
      "application/vnd.jupyter.widget-view+json": {
       "model_id": "029fbb7e5f86494295c422f97e335d42",
       "version_major": 2,
       "version_minor": 0
      },
      "text/plain": [
       "Generating embeddings:   0%|          | 0/10 [00:00<?, ?it/s]"
      ]
     },
     "metadata": {},
     "output_type": "display_data"
    },
    {
     "data": {
      "application/vnd.jupyter.widget-view+json": {
       "model_id": "b9eacaab157949c5b40c6aba86fad27e",
       "version_major": 2,
       "version_minor": 0
      },
      "text/plain": [
       "Generating embeddings:   0%|          | 0/10 [00:00<?, ?it/s]"
      ]
     },
     "metadata": {},
     "output_type": "display_data"
    },
    {
     "data": {
      "application/vnd.jupyter.widget-view+json": {
       "model_id": "4b3ad3a0f2274eb5ae81296a88d14f51",
       "version_major": 2,
       "version_minor": 0
      },
      "text/plain": [
       "Generating embeddings:   0%|          | 0/7 [00:00<?, ?it/s]"
      ]
     },
     "metadata": {},
     "output_type": "display_data"
    },
    {
     "data": {
      "application/vnd.jupyter.widget-view+json": {
       "model_id": "91134a224fd147708efbfa3a5a574390",
       "version_major": 2,
       "version_minor": 0
      },
      "text/plain": [
       "Generating embeddings:   0%|          | 0/9 [00:00<?, ?it/s]"
      ]
     },
     "metadata": {},
     "output_type": "display_data"
    },
    {
     "data": {
      "application/vnd.jupyter.widget-view+json": {
       "model_id": "be5c8a3e4fa142d2b007b640fb77583b",
       "version_major": 2,
       "version_minor": 0
      },
      "text/plain": [
       "Generating embeddings:   0%|          | 0/9 [00:00<?, ?it/s]"
      ]
     },
     "metadata": {},
     "output_type": "display_data"
    },
    {
     "data": {
      "application/vnd.jupyter.widget-view+json": {
       "model_id": "29ffabd826dd4f33adb7eebe62d425b5",
       "version_major": 2,
       "version_minor": 0
      },
      "text/plain": [
       "Generating embeddings:   0%|          | 0/9 [00:00<?, ?it/s]"
      ]
     },
     "metadata": {},
     "output_type": "display_data"
    },
    {
     "data": {
      "application/vnd.jupyter.widget-view+json": {
       "model_id": "6714007034e34e59ba194091b1c299b7",
       "version_major": 2,
       "version_minor": 0
      },
      "text/plain": [
       "Generating embeddings:   0%|          | 0/9 [00:00<?, ?it/s]"
      ]
     },
     "metadata": {},
     "output_type": "display_data"
    },
    {
     "data": {
      "application/vnd.jupyter.widget-view+json": {
       "model_id": "77fa04fc51cf412cae6a907c92976af3",
       "version_major": 2,
       "version_minor": 0
      },
      "text/plain": [
       "Generating embeddings:   0%|          | 0/10 [00:00<?, ?it/s]"
      ]
     },
     "metadata": {},
     "output_type": "display_data"
    },
    {
     "data": {
      "application/vnd.jupyter.widget-view+json": {
       "model_id": "97b7f6336c844d518efc596d8ca74ca0",
       "version_major": 2,
       "version_minor": 0
      },
      "text/plain": [
       "Generating embeddings:   0%|          | 0/10 [00:00<?, ?it/s]"
      ]
     },
     "metadata": {},
     "output_type": "display_data"
    },
    {
     "data": {
      "application/vnd.jupyter.widget-view+json": {
       "model_id": "5678ed766c2244b5ab07904296e7765b",
       "version_major": 2,
       "version_minor": 0
      },
      "text/plain": [
       "Generating embeddings:   0%|          | 0/10 [00:00<?, ?it/s]"
      ]
     },
     "metadata": {},
     "output_type": "display_data"
    },
    {
     "data": {
      "application/vnd.jupyter.widget-view+json": {
       "model_id": "3d145ecf872e4d999da603a0e3f084e2",
       "version_major": 2,
       "version_minor": 0
      },
      "text/plain": [
       "Generating embeddings:   0%|          | 0/10 [00:00<?, ?it/s]"
      ]
     },
     "metadata": {},
     "output_type": "display_data"
    },
    {
     "data": {
      "application/vnd.jupyter.widget-view+json": {
       "model_id": "ff490775a9d2441899efad6c3e66b305",
       "version_major": 2,
       "version_minor": 0
      },
      "text/plain": [
       "Generating embeddings:   0%|          | 0/10 [00:00<?, ?it/s]"
      ]
     },
     "metadata": {},
     "output_type": "display_data"
    },
    {
     "data": {
      "application/vnd.jupyter.widget-view+json": {
       "model_id": "4fca3ee5be7b4a91b3d193aba423ec36",
       "version_major": 2,
       "version_minor": 0
      },
      "text/plain": [
       "Generating embeddings:   0%|          | 0/10 [00:00<?, ?it/s]"
      ]
     },
     "metadata": {},
     "output_type": "display_data"
    },
    {
     "data": {
      "application/vnd.jupyter.widget-view+json": {
       "model_id": "5e380ddd65e24222abd2d8a3e3ff50b2",
       "version_major": 2,
       "version_minor": 0
      },
      "text/plain": [
       "Generating embeddings:   0%|          | 0/10 [00:00<?, ?it/s]"
      ]
     },
     "metadata": {},
     "output_type": "display_data"
    },
    {
     "data": {
      "application/vnd.jupyter.widget-view+json": {
       "model_id": "2663366ad0884f968c936f31b2b427e8",
       "version_major": 2,
       "version_minor": 0
      },
      "text/plain": [
       "Generating embeddings:   0%|          | 0/10 [00:00<?, ?it/s]"
      ]
     },
     "metadata": {},
     "output_type": "display_data"
    },
    {
     "data": {
      "application/vnd.jupyter.widget-view+json": {
       "model_id": "34a1f1df8f614ca2b8d0bcbc13fea355",
       "version_major": 2,
       "version_minor": 0
      },
      "text/plain": [
       "Generating embeddings:   0%|          | 0/10 [00:00<?, ?it/s]"
      ]
     },
     "metadata": {},
     "output_type": "display_data"
    },
    {
     "data": {
      "application/vnd.jupyter.widget-view+json": {
       "model_id": "f01a7b6d133a4e9188e35efbc3c320d7",
       "version_major": 2,
       "version_minor": 0
      },
      "text/plain": [
       "Generating embeddings:   0%|          | 0/10 [00:00<?, ?it/s]"
      ]
     },
     "metadata": {},
     "output_type": "display_data"
    },
    {
     "data": {
      "application/vnd.jupyter.widget-view+json": {
       "model_id": "c62ed963b93440dd9d4c1f303ad14f22",
       "version_major": 2,
       "version_minor": 0
      },
      "text/plain": [
       "Generating embeddings:   0%|          | 0/10 [00:00<?, ?it/s]"
      ]
     },
     "metadata": {},
     "output_type": "display_data"
    },
    {
     "data": {
      "application/vnd.jupyter.widget-view+json": {
       "model_id": "d63deac4966743cbadac8f6fffd95455",
       "version_major": 2,
       "version_minor": 0
      },
      "text/plain": [
       "Generating embeddings:   0%|          | 0/10 [00:00<?, ?it/s]"
      ]
     },
     "metadata": {},
     "output_type": "display_data"
    },
    {
     "data": {
      "application/vnd.jupyter.widget-view+json": {
       "model_id": "271f15c9a3a74c66b2054c076236d554",
       "version_major": 2,
       "version_minor": 0
      },
      "text/plain": [
       "Generating embeddings:   0%|          | 0/10 [00:00<?, ?it/s]"
      ]
     },
     "metadata": {},
     "output_type": "display_data"
    },
    {
     "data": {
      "application/vnd.jupyter.widget-view+json": {
       "model_id": "cafebff51e164c4e915f7105f6c6f74c",
       "version_major": 2,
       "version_minor": 0
      },
      "text/plain": [
       "Generating embeddings:   0%|          | 0/10 [00:00<?, ?it/s]"
      ]
     },
     "metadata": {},
     "output_type": "display_data"
    },
    {
     "data": {
      "application/vnd.jupyter.widget-view+json": {
       "model_id": "6e5287064b3246cf864c0d883d10a875",
       "version_major": 2,
       "version_minor": 0
      },
      "text/plain": [
       "Generating embeddings:   0%|          | 0/10 [00:00<?, ?it/s]"
      ]
     },
     "metadata": {},
     "output_type": "display_data"
    },
    {
     "data": {
      "application/vnd.jupyter.widget-view+json": {
       "model_id": "646b3493d52b4a5ab044d556df46fae1",
       "version_major": 2,
       "version_minor": 0
      },
      "text/plain": [
       "Generating embeddings:   0%|          | 0/10 [00:00<?, ?it/s]"
      ]
     },
     "metadata": {},
     "output_type": "display_data"
    },
    {
     "data": {
      "application/vnd.jupyter.widget-view+json": {
       "model_id": "7a9310fa24c44663b42c412f6b98ad77",
       "version_major": 2,
       "version_minor": 0
      },
      "text/plain": [
       "Generating embeddings:   0%|          | 0/10 [00:00<?, ?it/s]"
      ]
     },
     "metadata": {},
     "output_type": "display_data"
    },
    {
     "data": {
      "application/vnd.jupyter.widget-view+json": {
       "model_id": "dbce7827e30641b0916d9200ef1b84d2",
       "version_major": 2,
       "version_minor": 0
      },
      "text/plain": [
       "Generating embeddings:   0%|          | 0/10 [00:00<?, ?it/s]"
      ]
     },
     "metadata": {},
     "output_type": "display_data"
    },
    {
     "data": {
      "application/vnd.jupyter.widget-view+json": {
       "model_id": "a2be1f35ba7941589df1b610398e90f7",
       "version_major": 2,
       "version_minor": 0
      },
      "text/plain": [
       "Generating embeddings:   0%|          | 0/10 [00:00<?, ?it/s]"
      ]
     },
     "metadata": {},
     "output_type": "display_data"
    },
    {
     "data": {
      "application/vnd.jupyter.widget-view+json": {
       "model_id": "f146f6d3d28a4358a9daba79b97ff751",
       "version_major": 2,
       "version_minor": 0
      },
      "text/plain": [
       "Generating embeddings:   0%|          | 0/10 [00:00<?, ?it/s]"
      ]
     },
     "metadata": {},
     "output_type": "display_data"
    },
    {
     "data": {
      "application/vnd.jupyter.widget-view+json": {
       "model_id": "fbd3748d6e854c4eb7e8cc53b5ea241c",
       "version_major": 2,
       "version_minor": 0
      },
      "text/plain": [
       "Generating embeddings:   0%|          | 0/10 [00:00<?, ?it/s]"
      ]
     },
     "metadata": {},
     "output_type": "display_data"
    },
    {
     "data": {
      "application/vnd.jupyter.widget-view+json": {
       "model_id": "fa141dbb05ed43c498977129e4e78b39",
       "version_major": 2,
       "version_minor": 0
      },
      "text/plain": [
       "Generating embeddings:   0%|          | 0/10 [00:00<?, ?it/s]"
      ]
     },
     "metadata": {},
     "output_type": "display_data"
    },
    {
     "data": {
      "application/vnd.jupyter.widget-view+json": {
       "model_id": "7a6a4af54f074bf18f70b8573b636507",
       "version_major": 2,
       "version_minor": 0
      },
      "text/plain": [
       "Generating embeddings:   0%|          | 0/10 [00:00<?, ?it/s]"
      ]
     },
     "metadata": {},
     "output_type": "display_data"
    },
    {
     "data": {
      "application/vnd.jupyter.widget-view+json": {
       "model_id": "ed7f3c8a697647a18b7b87009282a445",
       "version_major": 2,
       "version_minor": 0
      },
      "text/plain": [
       "Generating embeddings:   0%|          | 0/10 [00:00<?, ?it/s]"
      ]
     },
     "metadata": {},
     "output_type": "display_data"
    },
    {
     "data": {
      "application/vnd.jupyter.widget-view+json": {
       "model_id": "476363dc668e49e7a586a024b2df7036",
       "version_major": 2,
       "version_minor": 0
      },
      "text/plain": [
       "Generating embeddings:   0%|          | 0/10 [00:00<?, ?it/s]"
      ]
     },
     "metadata": {},
     "output_type": "display_data"
    },
    {
     "data": {
      "application/vnd.jupyter.widget-view+json": {
       "model_id": "deae668ba4d142b1a79c6a1bb3e372ba",
       "version_major": 2,
       "version_minor": 0
      },
      "text/plain": [
       "Generating embeddings:   0%|          | 0/10 [00:00<?, ?it/s]"
      ]
     },
     "metadata": {},
     "output_type": "display_data"
    },
    {
     "data": {
      "application/vnd.jupyter.widget-view+json": {
       "model_id": "91eb03c8affa4f6f815e61bf7f7410e7",
       "version_major": 2,
       "version_minor": 0
      },
      "text/plain": [
       "Generating embeddings:   0%|          | 0/10 [00:00<?, ?it/s]"
      ]
     },
     "metadata": {},
     "output_type": "display_data"
    },
    {
     "data": {
      "application/vnd.jupyter.widget-view+json": {
       "model_id": "0dbb13b5dc8f48238e4964ee93562dc8",
       "version_major": 2,
       "version_minor": 0
      },
      "text/plain": [
       "Generating embeddings:   0%|          | 0/10 [00:00<?, ?it/s]"
      ]
     },
     "metadata": {},
     "output_type": "display_data"
    },
    {
     "data": {
      "application/vnd.jupyter.widget-view+json": {
       "model_id": "1da0c680eb394a6ca04f4b2524438fa0",
       "version_major": 2,
       "version_minor": 0
      },
      "text/plain": [
       "Generating embeddings:   0%|          | 0/10 [00:00<?, ?it/s]"
      ]
     },
     "metadata": {},
     "output_type": "display_data"
    },
    {
     "data": {
      "application/vnd.jupyter.widget-view+json": {
       "model_id": "97cefa61f4e048ce9816d33b7498af8d",
       "version_major": 2,
       "version_minor": 0
      },
      "text/plain": [
       "Generating embeddings:   0%|          | 0/10 [00:00<?, ?it/s]"
      ]
     },
     "metadata": {},
     "output_type": "display_data"
    },
    {
     "data": {
      "application/vnd.jupyter.widget-view+json": {
       "model_id": "ad4305d09bdf4f109ed9196fca42f37d",
       "version_major": 2,
       "version_minor": 0
      },
      "text/plain": [
       "Generating embeddings:   0%|          | 0/10 [00:00<?, ?it/s]"
      ]
     },
     "metadata": {},
     "output_type": "display_data"
    },
    {
     "data": {
      "application/vnd.jupyter.widget-view+json": {
       "model_id": "3ac60e6b25574faebc362ec307ae8e88",
       "version_major": 2,
       "version_minor": 0
      },
      "text/plain": [
       "Generating embeddings:   0%|          | 0/10 [00:00<?, ?it/s]"
      ]
     },
     "metadata": {},
     "output_type": "display_data"
    },
    {
     "data": {
      "application/vnd.jupyter.widget-view+json": {
       "model_id": "20dcc10796ae44bc982000652f97a3df",
       "version_major": 2,
       "version_minor": 0
      },
      "text/plain": [
       "Generating embeddings:   0%|          | 0/10 [00:00<?, ?it/s]"
      ]
     },
     "metadata": {},
     "output_type": "display_data"
    },
    {
     "data": {
      "application/vnd.jupyter.widget-view+json": {
       "model_id": "7330cad0ca9445aba760ef7402c603fa",
       "version_major": 2,
       "version_minor": 0
      },
      "text/plain": [
       "Generating embeddings:   0%|          | 0/7 [00:00<?, ?it/s]"
      ]
     },
     "metadata": {},
     "output_type": "display_data"
    },
    {
     "data": {
      "application/vnd.jupyter.widget-view+json": {
       "model_id": "613fff4744d44e1fa91a1bd4422f4adb",
       "version_major": 2,
       "version_minor": 0
      },
      "text/plain": [
       "Generating embeddings:   0%|          | 0/6 [00:00<?, ?it/s]"
      ]
     },
     "metadata": {},
     "output_type": "display_data"
    },
    {
     "data": {
      "application/vnd.jupyter.widget-view+json": {
       "model_id": "39053e6f269a4472988e5f74e721b421",
       "version_major": 2,
       "version_minor": 0
      },
      "text/plain": [
       "Generating embeddings:   0%|          | 0/8 [00:00<?, ?it/s]"
      ]
     },
     "metadata": {},
     "output_type": "display_data"
    },
    {
     "data": {
      "application/vnd.jupyter.widget-view+json": {
       "model_id": "ecc2c710ba6e435aa0ab0a6c7188e499",
       "version_major": 2,
       "version_minor": 0
      },
      "text/plain": [
       "Generating embeddings:   0%|          | 0/10 [00:00<?, ?it/s]"
      ]
     },
     "metadata": {},
     "output_type": "display_data"
    },
    {
     "data": {
      "application/vnd.jupyter.widget-view+json": {
       "model_id": "eb638504337741339568de686798b5e1",
       "version_major": 2,
       "version_minor": 0
      },
      "text/plain": [
       "Generating embeddings:   0%|          | 0/10 [00:00<?, ?it/s]"
      ]
     },
     "metadata": {},
     "output_type": "display_data"
    },
    {
     "data": {
      "application/vnd.jupyter.widget-view+json": {
       "model_id": "16fa8251e94e4911bb012bf8f9d6bd0c",
       "version_major": 2,
       "version_minor": 0
      },
      "text/plain": [
       "Generating embeddings:   0%|          | 0/10 [00:00<?, ?it/s]"
      ]
     },
     "metadata": {},
     "output_type": "display_data"
    },
    {
     "data": {
      "application/vnd.jupyter.widget-view+json": {
       "model_id": "5402019d854e4fc29880a4968ce49785",
       "version_major": 2,
       "version_minor": 0
      },
      "text/plain": [
       "Generating embeddings:   0%|          | 0/10 [00:00<?, ?it/s]"
      ]
     },
     "metadata": {},
     "output_type": "display_data"
    },
    {
     "data": {
      "application/vnd.jupyter.widget-view+json": {
       "model_id": "a89f4d1cdb0b42749ea5f42b4ffe7819",
       "version_major": 2,
       "version_minor": 0
      },
      "text/plain": [
       "Generating embeddings:   0%|          | 0/10 [00:00<?, ?it/s]"
      ]
     },
     "metadata": {},
     "output_type": "display_data"
    },
    {
     "data": {
      "application/vnd.jupyter.widget-view+json": {
       "model_id": "40f36e91da4e47279b78556e6d35bf8d",
       "version_major": 2,
       "version_minor": 0
      },
      "text/plain": [
       "Generating embeddings:   0%|          | 0/9 [00:00<?, ?it/s]"
      ]
     },
     "metadata": {},
     "output_type": "display_data"
    },
    {
     "data": {
      "application/vnd.jupyter.widget-view+json": {
       "model_id": "e7e17b3ec401498bb1d94c1f262a053d",
       "version_major": 2,
       "version_minor": 0
      },
      "text/plain": [
       "Generating embeddings:   0%|          | 0/9 [00:00<?, ?it/s]"
      ]
     },
     "metadata": {},
     "output_type": "display_data"
    },
    {
     "data": {
      "application/vnd.jupyter.widget-view+json": {
       "model_id": "5584b09ebc04464493ec6c8b0f6b9374",
       "version_major": 2,
       "version_minor": 0
      },
      "text/plain": [
       "Generating embeddings:   0%|          | 0/10 [00:00<?, ?it/s]"
      ]
     },
     "metadata": {},
     "output_type": "display_data"
    },
    {
     "data": {
      "application/vnd.jupyter.widget-view+json": {
       "model_id": "bf0f0dce21f2482f97be42e45a1bce2b",
       "version_major": 2,
       "version_minor": 0
      },
      "text/plain": [
       "Generating embeddings:   0%|          | 0/10 [00:00<?, ?it/s]"
      ]
     },
     "metadata": {},
     "output_type": "display_data"
    },
    {
     "data": {
      "application/vnd.jupyter.widget-view+json": {
       "model_id": "9df6bc9d81104b3ba7a5013308718d1e",
       "version_major": 2,
       "version_minor": 0
      },
      "text/plain": [
       "Generating embeddings:   0%|          | 0/8 [00:00<?, ?it/s]"
      ]
     },
     "metadata": {},
     "output_type": "display_data"
    },
    {
     "data": {
      "application/vnd.jupyter.widget-view+json": {
       "model_id": "de1831e05bc74cb896b21aade847981a",
       "version_major": 2,
       "version_minor": 0
      },
      "text/plain": [
       "Generating embeddings:   0%|          | 0/9 [00:00<?, ?it/s]"
      ]
     },
     "metadata": {},
     "output_type": "display_data"
    },
    {
     "data": {
      "application/vnd.jupyter.widget-view+json": {
       "model_id": "ddc5aa6707664cde8e1e4375e33a08bd",
       "version_major": 2,
       "version_minor": 0
      },
      "text/plain": [
       "Generating embeddings:   0%|          | 0/9 [00:00<?, ?it/s]"
      ]
     },
     "metadata": {},
     "output_type": "display_data"
    },
    {
     "data": {
      "application/vnd.jupyter.widget-view+json": {
       "model_id": "075aedb68b194cc5af5727a468ae69dd",
       "version_major": 2,
       "version_minor": 0
      },
      "text/plain": [
       "Generating embeddings:   0%|          | 0/9 [00:00<?, ?it/s]"
      ]
     },
     "metadata": {},
     "output_type": "display_data"
    },
    {
     "data": {
      "application/vnd.jupyter.widget-view+json": {
       "model_id": "c095122c3cb14ad885acbf63743e271a",
       "version_major": 2,
       "version_minor": 0
      },
      "text/plain": [
       "Generating embeddings:   0%|          | 0/10 [00:00<?, ?it/s]"
      ]
     },
     "metadata": {},
     "output_type": "display_data"
    },
    {
     "data": {
      "application/vnd.jupyter.widget-view+json": {
       "model_id": "334ab5a57a8247cc8df94fa026a87386",
       "version_major": 2,
       "version_minor": 0
      },
      "text/plain": [
       "Generating embeddings:   0%|          | 0/10 [00:00<?, ?it/s]"
      ]
     },
     "metadata": {},
     "output_type": "display_data"
    },
    {
     "data": {
      "application/vnd.jupyter.widget-view+json": {
       "model_id": "f344975fda814b3a8109348241d6a231",
       "version_major": 2,
       "version_minor": 0
      },
      "text/plain": [
       "Generating embeddings:   0%|          | 0/10 [00:00<?, ?it/s]"
      ]
     },
     "metadata": {},
     "output_type": "display_data"
    },
    {
     "data": {
      "application/vnd.jupyter.widget-view+json": {
       "model_id": "7ccb6decbb6a40338bfb9b448e48b10d",
       "version_major": 2,
       "version_minor": 0
      },
      "text/plain": [
       "Generating embeddings:   0%|          | 0/10 [00:00<?, ?it/s]"
      ]
     },
     "metadata": {},
     "output_type": "display_data"
    },
    {
     "data": {
      "application/vnd.jupyter.widget-view+json": {
       "model_id": "b821e7350e96497e9ec258d09edc44d0",
       "version_major": 2,
       "version_minor": 0
      },
      "text/plain": [
       "Generating embeddings:   0%|          | 0/9 [00:00<?, ?it/s]"
      ]
     },
     "metadata": {},
     "output_type": "display_data"
    },
    {
     "data": {
      "application/vnd.jupyter.widget-view+json": {
       "model_id": "20b1f085dd9d4b3ba4cd122797c1e4fe",
       "version_major": 2,
       "version_minor": 0
      },
      "text/plain": [
       "Generating embeddings:   0%|          | 0/10 [00:00<?, ?it/s]"
      ]
     },
     "metadata": {},
     "output_type": "display_data"
    },
    {
     "data": {
      "application/vnd.jupyter.widget-view+json": {
       "model_id": "06e1db21bb2b4e72a153967452fd2c9e",
       "version_major": 2,
       "version_minor": 0
      },
      "text/plain": [
       "Generating embeddings:   0%|          | 0/9 [00:00<?, ?it/s]"
      ]
     },
     "metadata": {},
     "output_type": "display_data"
    },
    {
     "data": {
      "application/vnd.jupyter.widget-view+json": {
       "model_id": "238ffaa9d9d3408fbae2e64c0f226b68",
       "version_major": 2,
       "version_minor": 0
      },
      "text/plain": [
       "Generating embeddings:   0%|          | 0/10 [00:00<?, ?it/s]"
      ]
     },
     "metadata": {},
     "output_type": "display_data"
    },
    {
     "data": {
      "application/vnd.jupyter.widget-view+json": {
       "model_id": "32958d34dd9c4b249f8eb3a49b7ed77c",
       "version_major": 2,
       "version_minor": 0
      },
      "text/plain": [
       "Generating embeddings:   0%|          | 0/10 [00:00<?, ?it/s]"
      ]
     },
     "metadata": {},
     "output_type": "display_data"
    },
    {
     "data": {
      "application/vnd.jupyter.widget-view+json": {
       "model_id": "16fc1cfc6c0147b7863cc1e5600a762e",
       "version_major": 2,
       "version_minor": 0
      },
      "text/plain": [
       "Generating embeddings:   0%|          | 0/10 [00:00<?, ?it/s]"
      ]
     },
     "metadata": {},
     "output_type": "display_data"
    },
    {
     "data": {
      "application/vnd.jupyter.widget-view+json": {
       "model_id": "74b0a320f74443bc858c2131b35b709d",
       "version_major": 2,
       "version_minor": 0
      },
      "text/plain": [
       "Generating embeddings:   0%|          | 0/10 [00:00<?, ?it/s]"
      ]
     },
     "metadata": {},
     "output_type": "display_data"
    },
    {
     "data": {
      "application/vnd.jupyter.widget-view+json": {
       "model_id": "ec6904d2a80d4d61bd2c79ccaade96fa",
       "version_major": 2,
       "version_minor": 0
      },
      "text/plain": [
       "Generating embeddings:   0%|          | 0/10 [00:00<?, ?it/s]"
      ]
     },
     "metadata": {},
     "output_type": "display_data"
    },
    {
     "data": {
      "application/vnd.jupyter.widget-view+json": {
       "model_id": "41edff8d7b0d4618ad8319bbf3be35dd",
       "version_major": 2,
       "version_minor": 0
      },
      "text/plain": [
       "Generating embeddings:   0%|          | 0/10 [00:00<?, ?it/s]"
      ]
     },
     "metadata": {},
     "output_type": "display_data"
    },
    {
     "data": {
      "application/vnd.jupyter.widget-view+json": {
       "model_id": "c9862fee704a4b268b00c7ef17cf5d9c",
       "version_major": 2,
       "version_minor": 0
      },
      "text/plain": [
       "Generating embeddings:   0%|          | 0/10 [00:00<?, ?it/s]"
      ]
     },
     "metadata": {},
     "output_type": "display_data"
    },
    {
     "data": {
      "application/vnd.jupyter.widget-view+json": {
       "model_id": "ed749b7a15134e5aa248b7c1d4c1a42f",
       "version_major": 2,
       "version_minor": 0
      },
      "text/plain": [
       "Generating embeddings:   0%|          | 0/10 [00:00<?, ?it/s]"
      ]
     },
     "metadata": {},
     "output_type": "display_data"
    },
    {
     "data": {
      "application/vnd.jupyter.widget-view+json": {
       "model_id": "d392c8f2577c44dca95846c19dc41178",
       "version_major": 2,
       "version_minor": 0
      },
      "text/plain": [
       "Generating embeddings:   0%|          | 0/10 [00:00<?, ?it/s]"
      ]
     },
     "metadata": {},
     "output_type": "display_data"
    },
    {
     "data": {
      "application/vnd.jupyter.widget-view+json": {
       "model_id": "f7aa20e6a24e4737a5f525d49d22fe9b",
       "version_major": 2,
       "version_minor": 0
      },
      "text/plain": [
       "Generating embeddings:   0%|          | 0/10 [00:00<?, ?it/s]"
      ]
     },
     "metadata": {},
     "output_type": "display_data"
    },
    {
     "data": {
      "application/vnd.jupyter.widget-view+json": {
       "model_id": "aab9921946514abe869c691d6410233a",
       "version_major": 2,
       "version_minor": 0
      },
      "text/plain": [
       "Generating embeddings:   0%|          | 0/10 [00:00<?, ?it/s]"
      ]
     },
     "metadata": {},
     "output_type": "display_data"
    },
    {
     "data": {
      "application/vnd.jupyter.widget-view+json": {
       "model_id": "774509ae3a354464b2e309902a814170",
       "version_major": 2,
       "version_minor": 0
      },
      "text/plain": [
       "Generating embeddings:   0%|          | 0/10 [00:00<?, ?it/s]"
      ]
     },
     "metadata": {},
     "output_type": "display_data"
    },
    {
     "data": {
      "application/vnd.jupyter.widget-view+json": {
       "model_id": "3a58ae0d4ddc444a81ab48f6c1207626",
       "version_major": 2,
       "version_minor": 0
      },
      "text/plain": [
       "Generating embeddings:   0%|          | 0/9 [00:00<?, ?it/s]"
      ]
     },
     "metadata": {},
     "output_type": "display_data"
    },
    {
     "data": {
      "application/vnd.jupyter.widget-view+json": {
       "model_id": "f3563cc67a614d73870da9e830bbc283",
       "version_major": 2,
       "version_minor": 0
      },
      "text/plain": [
       "Generating embeddings:   0%|          | 0/6 [00:00<?, ?it/s]"
      ]
     },
     "metadata": {},
     "output_type": "display_data"
    },
    {
     "data": {
      "application/vnd.jupyter.widget-view+json": {
       "model_id": "d85dad48c4594bb58c3d17dedef6e27c",
       "version_major": 2,
       "version_minor": 0
      },
      "text/plain": [
       "Generating embeddings:   0%|          | 0/10 [00:00<?, ?it/s]"
      ]
     },
     "metadata": {},
     "output_type": "display_data"
    },
    {
     "data": {
      "application/vnd.jupyter.widget-view+json": {
       "model_id": "2fa51494b3784b06a5d19e0ef1d255c4",
       "version_major": 2,
       "version_minor": 0
      },
      "text/plain": [
       "Generating embeddings:   0%|          | 0/10 [00:00<?, ?it/s]"
      ]
     },
     "metadata": {},
     "output_type": "display_data"
    },
    {
     "data": {
      "application/vnd.jupyter.widget-view+json": {
       "model_id": "f3d61fa32cb64576bf4e5faff582550c",
       "version_major": 2,
       "version_minor": 0
      },
      "text/plain": [
       "Generating embeddings:   0%|          | 0/10 [00:00<?, ?it/s]"
      ]
     },
     "metadata": {},
     "output_type": "display_data"
    },
    {
     "data": {
      "application/vnd.jupyter.widget-view+json": {
       "model_id": "f55d8cbca4664fc9a78d9378c125763a",
       "version_major": 2,
       "version_minor": 0
      },
      "text/plain": [
       "Generating embeddings:   0%|          | 0/10 [00:00<?, ?it/s]"
      ]
     },
     "metadata": {},
     "output_type": "display_data"
    },
    {
     "data": {
      "application/vnd.jupyter.widget-view+json": {
       "model_id": "6d3d514f71184385b90a189ede9d74cd",
       "version_major": 2,
       "version_minor": 0
      },
      "text/plain": [
       "Generating embeddings:   0%|          | 0/10 [00:00<?, ?it/s]"
      ]
     },
     "metadata": {},
     "output_type": "display_data"
    },
    {
     "data": {
      "application/vnd.jupyter.widget-view+json": {
       "model_id": "7a9ad316b62f4fa38af720833f99b007",
       "version_major": 2,
       "version_minor": 0
      },
      "text/plain": [
       "Generating embeddings:   0%|          | 0/9 [00:00<?, ?it/s]"
      ]
     },
     "metadata": {},
     "output_type": "display_data"
    },
    {
     "data": {
      "application/vnd.jupyter.widget-view+json": {
       "model_id": "699179b6ee8a4eeca456e98096561d06",
       "version_major": 2,
       "version_minor": 0
      },
      "text/plain": [
       "Generating embeddings:   0%|          | 0/10 [00:00<?, ?it/s]"
      ]
     },
     "metadata": {},
     "output_type": "display_data"
    },
    {
     "data": {
      "application/vnd.jupyter.widget-view+json": {
       "model_id": "a7b693b360f34b79aa8b6abe682d30d3",
       "version_major": 2,
       "version_minor": 0
      },
      "text/plain": [
       "Generating embeddings:   0%|          | 0/9 [00:00<?, ?it/s]"
      ]
     },
     "metadata": {},
     "output_type": "display_data"
    },
    {
     "data": {
      "application/vnd.jupyter.widget-view+json": {
       "model_id": "fa7697c180404c41b2bfd6343722557a",
       "version_major": 2,
       "version_minor": 0
      },
      "text/plain": [
       "Generating embeddings:   0%|          | 0/9 [00:00<?, ?it/s]"
      ]
     },
     "metadata": {},
     "output_type": "display_data"
    },
    {
     "data": {
      "application/vnd.jupyter.widget-view+json": {
       "model_id": "bbe7afd5f4084df0bfed579a8bfd1033",
       "version_major": 2,
       "version_minor": 0
      },
      "text/plain": [
       "Generating embeddings:   0%|          | 0/10 [00:00<?, ?it/s]"
      ]
     },
     "metadata": {},
     "output_type": "display_data"
    },
    {
     "data": {
      "application/vnd.jupyter.widget-view+json": {
       "model_id": "38e9514106e74b1caae801eaa219f623",
       "version_major": 2,
       "version_minor": 0
      },
      "text/plain": [
       "Generating embeddings:   0%|          | 0/7 [00:00<?, ?it/s]"
      ]
     },
     "metadata": {},
     "output_type": "display_data"
    },
    {
     "data": {
      "application/vnd.jupyter.widget-view+json": {
       "model_id": "e80fa18306694dbd9e5c7cb187805732",
       "version_major": 2,
       "version_minor": 0
      },
      "text/plain": [
       "Generating embeddings:   0%|          | 0/10 [00:00<?, ?it/s]"
      ]
     },
     "metadata": {},
     "output_type": "display_data"
    },
    {
     "data": {
      "application/vnd.jupyter.widget-view+json": {
       "model_id": "f363c9d11adf42ffb4667cb827c69439",
       "version_major": 2,
       "version_minor": 0
      },
      "text/plain": [
       "Generating embeddings:   0%|          | 0/7 [00:00<?, ?it/s]"
      ]
     },
     "metadata": {},
     "output_type": "display_data"
    },
    {
     "data": {
      "application/vnd.jupyter.widget-view+json": {
       "model_id": "4fd871fda8174f82897063ea1f691c3e",
       "version_major": 2,
       "version_minor": 0
      },
      "text/plain": [
       "Generating embeddings:   0%|          | 0/10 [00:00<?, ?it/s]"
      ]
     },
     "metadata": {},
     "output_type": "display_data"
    },
    {
     "data": {
      "application/vnd.jupyter.widget-view+json": {
       "model_id": "06872218c005478a9d1d81a355655e77",
       "version_major": 2,
       "version_minor": 0
      },
      "text/plain": [
       "Generating embeddings:   0%|          | 0/9 [00:00<?, ?it/s]"
      ]
     },
     "metadata": {},
     "output_type": "display_data"
    },
    {
     "data": {
      "application/vnd.jupyter.widget-view+json": {
       "model_id": "b05e7246c93c4582a096754b653cd688",
       "version_major": 2,
       "version_minor": 0
      },
      "text/plain": [
       "Generating embeddings:   0%|          | 0/9 [00:00<?, ?it/s]"
      ]
     },
     "metadata": {},
     "output_type": "display_data"
    },
    {
     "data": {
      "application/vnd.jupyter.widget-view+json": {
       "model_id": "27608aebdcb542b387d5e9867eeb7d89",
       "version_major": 2,
       "version_minor": 0
      },
      "text/plain": [
       "Generating embeddings:   0%|          | 0/8 [00:00<?, ?it/s]"
      ]
     },
     "metadata": {},
     "output_type": "display_data"
    }
   ],
   "source": [
    "from llama_index.core import KnowledgeGraphIndex\n",
    "\n",
    "kg_index = KnowledgeGraphIndex.from_documents(\n",
    "    documents,\n",
    "    storage_context=storage_context,\n",
    "    max_triplets_per_chunk=10,\n",
    "    space_name=space_name,\n",
    "    edge_types=edge_types,\n",
    "    rel_prop_names=rel_prop_names,\n",
    "    tags=tags,\n",
    "    include_embeddings=True,\n",
    ")"
   ]
  },
  {
   "cell_type": "markdown",
   "metadata": {
    "id": "4-hJiV2VETV5"
   },
   "source": [
    "## Perform Graph RAG Query\n",
    "\n",
    "Finally, let's demo how to do Graph RAG towards an existing Knowledge Graph.\n",
    "\n",
    "All we need to do is to use `RetrieverQueryEngine` and configure the retriver of it to be `KnowledgeGraphRAGRetriever`.\n",
    "\n",
    "The `KnowledgeGraphRAGRetriever` performs the following steps:\n",
    "\n",
    "- Search related Entities of the quesion/task\n",
    "- Get SubGraph of those Entities (default 2-depth) from the KG\n",
    "- Build Context based on the SubGraph\n",
    "\n",
    "Please note, the way to Search related Entities could be either Keyword extraction based or Embedding based, which is controlled by argument `retriever_mode` of the `KnowledgeGraphRAGRetriever`, and supported options are:\n",
    "- \"keyword\"\n",
    "- \"embedding\"(not yet implemented)\n",
    "- \"keyword_embedding\"(not yet implemented)\n",
    "\n",
    "Here is the example on how to use `RetrieverQueryEngine` and `KnowledgeGraphRAGRetriever`:"
   ]
  },
  {
   "cell_type": "code",
   "execution_count": 4,
   "metadata": {
    "id": "JFe9yeTNETV5"
   },
   "outputs": [
    {
     "name": "stderr",
     "output_type": "stream",
     "text": [
      "/var/folders/kt/1bcs_pzj36ncw45knx6fkztw00ttdl/T/ipykernel_7188/833418821.py:4: DeprecationWarning: Call to deprecated class KnowledgeGraphRAGRetriever. (KnowledgeGraphRAGRetriever is deprecated, it is recommended to use PropertyGraphIndex and associated retrievers instead.) -- Deprecated since version 0.10.53.\n",
      "  graph_rag_retriever = KnowledgeGraphRAGRetriever(\n"
     ]
    }
   ],
   "source": [
    "from llama_index.core.query_engine import RetrieverQueryEngine\n",
    "from llama_index.core.retrievers import KnowledgeGraphRAGRetriever\n",
    "\n",
    "graph_rag_retriever = KnowledgeGraphRAGRetriever(\n",
    "    storage_context=storage_context,\n",
    "    verbose=True,\n",
    ")\n",
    "\n",
    "query_engine = RetrieverQueryEngine.from_args(\n",
    "    graph_rag_retriever,\n",
    ")"
   ]
  },
  {
   "cell_type": "markdown",
   "metadata": {
    "id": "yc2N1xD1ETV5"
   },
   "source": [
    "Then we can query it like:"
   ]
  },
  {
   "cell_type": "code",
   "execution_count": 5,
   "metadata": {},
   "outputs": [],
   "source": [
    "import nest_asyncio\n",
    "\n",
    "nest_asyncio.apply()"
   ]
  },
  {
   "cell_type": "code",
   "execution_count": 6,
   "metadata": {
    "id": "mCdHZRKUETV5",
    "outputId": "566480bd-60c7-44ff-e59a-4438f955d9bc"
   },
   "outputs": [
    {
     "name": "stdout",
     "output_type": "stream",
     "text": [
      "WARNING:root:REST async clients requires async credentials set using aiplatform.initializer._set_async_rest_credentials().\n",
      "Falling back to grpc since no async rest credentials were detected.\n"
     ]
    },
    {
     "data": {
      "text/markdown": [
       "<b>Groot is a character who has many relationships. He is played by Vin Diesel, who also plays Baby Groot. Groot stars in a film and has a sequel. He helps Kraglin, who plays a role in saving Knowhere's citizens. \n",
       "</b>"
      ],
      "text/plain": [
       "<IPython.core.display.Markdown object>"
      ]
     },
     "metadata": {},
     "output_type": "display_data"
    }
   ],
   "source": [
    "from IPython.display import display, Markdown\n",
    "\n",
    "response = await query_engine.aquery(\n",
    "    \"Tell me about Groot's relationships?\",\n",
    ")\n",
    "display(Markdown(f\"<b>{response}</b>\"))"
   ]
  },
  {
   "cell_type": "code",
   "execution_count": 7,
   "metadata": {},
   "outputs": [
    {
     "name": "stdout",
     "output_type": "stream",
     "text": [
      "\u001b[1;3;38;2;0;135;107m[OK] Connection Pool Created\u001b[0m\n",
      "INFO:nebula3.logger:Get connection to ('127.0.0.1', 9669)\n"
     ]
    },
    {
     "data": {
      "text/html": [
       "<div>\n",
       "<style scoped>\n",
       "    .dataframe tbody tr th:only-of-type {\n",
       "        vertical-align: middle;\n",
       "    }\n",
       "\n",
       "    .dataframe tbody tr th {\n",
       "        vertical-align: top;\n",
       "    }\n",
       "\n",
       "    .dataframe thead th {\n",
       "        text-align: right;\n",
       "    }\n",
       "</style>\n",
       "<table border=\"1\" class=\"dataframe\">\n",
       "  <thead>\n",
       "    <tr style=\"text-align: right;\">\n",
       "      <th></th>\n",
       "      <th>Name</th>\n",
       "    </tr>\n",
       "  </thead>\n",
       "  <tbody>\n",
       "    <tr>\n",
       "      <th>0</th>\n",
       "      <td>llamaindex</td>\n",
       "    </tr>\n",
       "  </tbody>\n",
       "</table>\n",
       "</div>"
      ],
      "text/plain": [
       "         Name\n",
       "0  llamaindex"
      ]
     },
     "execution_count": 7,
     "metadata": {},
     "output_type": "execute_result"
    }
   ],
   "source": [
    "%load_ext ngql\n",
    "%ngql --address $NEBULA_SERVER_ADDRESS --port 9669 --user root --password <password>"
   ]
  },
  {
   "cell_type": "code",
   "execution_count": 8,
   "metadata": {},
   "outputs": [
    {
     "name": "stdout",
     "output_type": "stream",
     "text": [
      "INFO:nebula3.logger:Get connection to ('127.0.0.1', 9669)\n"
     ]
    },
    {
     "data": {
      "text/html": [
       "<div>\n",
       "<style scoped>\n",
       "    .dataframe tbody tr th:only-of-type {\n",
       "        vertical-align: middle;\n",
       "    }\n",
       "\n",
       "    .dataframe tbody tr th {\n",
       "        vertical-align: top;\n",
       "    }\n",
       "\n",
       "    .dataframe thead th {\n",
       "        text-align: right;\n",
       "    }\n",
       "</style>\n",
       "<table border=\"1\" class=\"dataframe\">\n",
       "  <thead>\n",
       "    <tr style=\"text-align: right;\">\n",
       "      <th></th>\n",
       "      <th>Name</th>\n",
       "    </tr>\n",
       "  </thead>\n",
       "  <tbody>\n",
       "    <tr>\n",
       "      <th>0</th>\n",
       "      <td>Relation__</td>\n",
       "    </tr>\n",
       "    <tr>\n",
       "      <th>1</th>\n",
       "      <td>__meta__node_label__</td>\n",
       "    </tr>\n",
       "    <tr>\n",
       "      <th>2</th>\n",
       "      <td>__meta__rel_label__</td>\n",
       "    </tr>\n",
       "    <tr>\n",
       "      <th>3</th>\n",
       "      <td>relationship</td>\n",
       "    </tr>\n",
       "  </tbody>\n",
       "</table>\n",
       "</div>"
      ],
      "text/plain": [
       "                   Name\n",
       "0            Relation__\n",
       "1  __meta__node_label__\n",
       "2   __meta__rel_label__\n",
       "3          relationship"
      ]
     },
     "execution_count": 8,
     "metadata": {},
     "output_type": "execute_result"
    }
   ],
   "source": [
    "%ngql SHOW EDGES\n"
   ]
  },
  {
   "cell_type": "markdown",
   "metadata": {
    "id": "2zZheGvlETV5"
   },
   "source": [
    "## Include nl2graphquery as Context in Graph RAG\n",
    "\n",
    "The nature of (Sub)Graph RAG and nl2graphquery are different. No one is better than the other but just when one fits more in certain type of questions. To understand more on how they differ from the other, see [this demo](https://www.siwei.io/en/demos/graph-rag/) comparing the two.\n",
    "\n",
    "<video width=\"938\" height=\"800\"\n",
    "       src=\"https://github.com/siwei-io/talks/assets/1651790/05d01e53-d819-4f43-9bf1-75549f7f2be9\"  \n",
    "       controls>\n",
    "</video>\n",
    "\n",
    "While in real world cases, we may not always know which approach works better, thus, one way to best leverage KG in RAG are fetching both retrieval results as context and letting LLM + Prompt generate answer with them all being involved.\n",
    "\n",
    "So, optionally, we could choose to synthesise answer from two piece of retrieved context from KG:\n",
    "- Graph RAG, the default retrieval method, which extracts subgraph that's related to the key entities in the question.\n",
    "- NL2GraphQuery, generate Knowledge Graph Query based on query and the Schema of the Knowledge Graph, which is by default switched off.\n",
    "\n",
    "We could set `with_nl2graphquery=True` to enable it like:"
   ]
  },
  {
   "cell_type": "code",
   "execution_count": 9,
   "metadata": {
    "id": "UCh32wknETV5"
   },
   "outputs": [
    {
     "name": "stderr",
     "output_type": "stream",
     "text": [
      "/var/folders/kt/1bcs_pzj36ncw45knx6fkztw00ttdl/T/ipykernel_7188/2811569016.py:1: DeprecationWarning: Call to deprecated class KnowledgeGraphRAGRetriever. (KnowledgeGraphRAGRetriever is deprecated, it is recommended to use PropertyGraphIndex and associated retrievers instead.) -- Deprecated since version 0.10.53.\n",
      "  graph_rag_retriever_with_nl2graphquery = KnowledgeGraphRAGRetriever(\n"
     ]
    }
   ],
   "source": [
    "graph_rag_retriever_with_nl2graphquery = KnowledgeGraphRAGRetriever(\n",
    "    storage_context=storage_context,\n",
    "    verbose=True,\n",
    "    with_nl2graphquery=True,\n",
    ")\n",
    "\n",
    "query_engine_with_nl2graphquery = RetrieverQueryEngine.from_args(\n",
    "    graph_rag_retriever_with_nl2graphquery,\n",
    ")"
   ]
  },
  {
   "cell_type": "code",
   "execution_count": 10,
   "metadata": {
    "id": "gwpYGHt3ETV5",
    "outputId": "2cd33f09-9bc1-4a55-f6f1-6681d76c65bd"
   },
   "outputs": [
    {
     "name": "stdout",
     "output_type": "stream",
     "text": [
      "WARNING:llama_index.core.indices.knowledge_graph.retrievers:Error in retrieving from nl2graphquery: 1 validation error for LLMPredictStartEvent\n",
      "template\n",
      "  Input should be a valid dictionary or instance of BasePromptTemplate [type=model_type, input_value=None, input_type=NoneType]\n",
      "    For further information visit https://errors.pydantic.dev/2.9/v/model_type\n"
     ]
    },
    {
     "data": {
      "text/markdown": [
       "<b>Groot has a variety of relationships. He is played by Vin Diesel, who also returns as Groot. Groot is also known as Baby Groot. He stars in a sequel that was directed by James Gunn. The sequel was set shortly after the first film and was Gunn's next project. Groot also helps Kraglin, who is played by Sean Gunn. Kraglin helps Rocket and takes on a mission. \n",
       "</b>"
      ],
      "text/plain": [
       "<IPython.core.display.Markdown object>"
      ]
     },
     "metadata": {},
     "output_type": "display_data"
    }
   ],
   "source": [
    "response = query_engine_with_nl2graphquery.query(\n",
    "    \"What do you know about Groot's relationships?\",\n",
    ")\n",
    "display(Markdown(f\"<b>{response}</b>\"))"
   ]
  },
  {
   "cell_type": "markdown",
   "metadata": {
    "id": "Ryc10GPEETV5"
   },
   "source": [
    "And let's check the response's metadata to know more details of the retrival of Graph RAG with nl2graphquery by inspecting `response.metadata`.\n",
    "\n",
    "- **text2Cypher**, it generates a Cypher Query towards the answer as the context.\n",
    "\n",
    "```cypher\n",
    "Graph Store Query: MATCH (e:`entity`)-[r:`relationship`]->(e2:`entity`)\n",
    "WHERE e.`entity`.`name` == 'Peter Quill'\n",
    "RETURN e2.`entity`.`name`\n",
    "```\n",
    "- **SubGraph RAG**, it get the SubGraph of 'Peter Quill' to build the context.\n",
    "\n",
    "- Finally, it combined the two nodes of context, to synthesize the answer."
   ]
  },
  {
   "cell_type": "code",
   "execution_count": 17,
   "metadata": {
    "id": "PPXrn_HJETV5",
    "outputId": "c319983d-5070-4f6f-c8c3-172ae6d1b1f6"
   },
   "outputs": [
    {
     "name": "stdout",
     "output_type": "stream",
     "text": [
      "{'aa3d458e-6bd2-4029-a851-55224b65816b': {'kg_rel_map': {'Groot{name: Groot}': ['Groot{name: '\n",
      "                                                                                'Groot} '\n",
      "                                                                                '<-[relationship:{relationship: '\n",
      "                                                                                'Would '\n",
      "                                                                                'return '\n",
      "                                                                                'as}]- '\n",
      "                                                                                'Vin '\n",
      "                                                                                'diesel{name: '\n",
      "                                                                                'Vin '\n",
      "                                                                                'diesel} '\n",
      "                                                                                '<-[relationship:{relationship: '\n",
      "                                                                                'Stars}]- '\n",
      "                                                                                'Film{name: '\n",
      "                                                                                'Film}',\n",
      "                                                                                'Groot{name: '\n",
      "                                                                                'Groot} '\n",
      "                                                                                '<-[relationship:{relationship: '\n",
      "                                                                                'Return '\n",
      "                                                                                'as}]- '\n",
      "                                                                                'Vin '\n",
      "                                                                                'diesel{name: '\n",
      "                                                                                'Vin '\n",
      "                                                                                'diesel} '\n",
      "                                                                                '-[relationship:{relationship: '\n",
      "                                                                                'Would '\n",
      "                                                                                'return '\n",
      "                                                                                'as}]-> '\n",
      "                                                                                'Groot{name: '\n",
      "                                                                                'Groot}',\n",
      "                                                                                'Groot{name: '\n",
      "                                                                                'Groot} '\n",
      "                                                                                '<-[relationship:{relationship: '\n",
      "                                                                                'Return '\n",
      "                                                                                'as}]- '\n",
      "                                                                                'Vin '\n",
      "                                                                                'diesel{name: '\n",
      "                                                                                'Vin '\n",
      "                                                                                'diesel} '\n",
      "                                                                                '-[relationship:{relationship: '\n",
      "                                                                                'Is}]-> '\n",
      "                                                                                'Baby '\n",
      "                                                                                'groot{name: '\n",
      "                                                                                'Baby '\n",
      "                                                                                'groot}',\n",
      "                                                                                'Groot{name: '\n",
      "                                                                                'Groot} '\n",
      "                                                                                '<-[relationship:{relationship: '\n",
      "                                                                                'Return '\n",
      "                                                                                'as}]- '\n",
      "                                                                                'Vin '\n",
      "                                                                                'diesel{name: '\n",
      "                                                                                'Vin '\n",
      "                                                                                'diesel} '\n",
      "                                                                                '-[relationship:{relationship: '\n",
      "                                                                                'Confirmed}]-> '\n",
      "                                                                                'Return{name: '\n",
      "                                                                                'Return}',\n",
      "                                                                                'Groot{name: '\n",
      "                                                                                'Groot} '\n",
      "                                                                                '<-[relationship:{relationship: '\n",
      "                                                                                'Return '\n",
      "                                                                                'as}]- '\n",
      "                                                                                'Vin '\n",
      "                                                                                'diesel{name: '\n",
      "                                                                                'Vin '\n",
      "                                                                                'diesel} '\n",
      "                                                                                '<-[relationship:{relationship: '\n",
      "                                                                                'Stars}]- '\n",
      "                                                                                'Film{name: '\n",
      "                                                                                'Film}',\n",
      "                                                                                'Groot{name: '\n",
      "                                                                                'Groot} '\n",
      "                                                                                '<-[relationship:{relationship: '\n",
      "                                                                                'Starring}]- '\n",
      "                                                                                'Sequel{name: '\n",
      "                                                                                'Sequel} '\n",
      "                                                                                '-[relationship:{relationship: '\n",
      "                                                                                'Opened}]-> '\n",
      "                                                                                'Russia{name: '\n",
      "                                                                                'Russia}',\n",
      "                                                                                'Groot{name: '\n",
      "                                                                                'Groot} '\n",
      "                                                                                '<-[relationship:{relationship: '\n",
      "                                                                                'Starring}]- '\n",
      "                                                                                'Sequel{name: '\n",
      "                                                                                'Sequel} '\n",
      "                                                                                '-[relationship:{relationship: '\n",
      "                                                                                'Opened}]-> '\n",
      "                                                                                'China{name: '\n",
      "                                                                                'China}',\n",
      "                                                                                'Groot{name: '\n",
      "                                                                                'Groot} '\n",
      "                                                                                '<-[relationship:{relationship: '\n",
      "                                                                                'Starring}]- '\n",
      "                                                                                'Sequel{name: '\n",
      "                                                                                'Sequel} '\n",
      "                                                                                '-[relationship:{relationship: '\n",
      "                                                                                'Set '\n",
      "                                                                                'shortly '\n",
      "                                                                                'after}]-> '\n",
      "                                                                                'First '\n",
      "                                                                                'film{name: '\n",
      "                                                                                'First '\n",
      "                                                                                'film}',\n",
      "                                                                                'Groot{name: '\n",
      "                                                                                'Groot} '\n",
      "                                                                                '<-[relationship:{relationship: '\n",
      "                                                                                'Starring}]- '\n",
      "                                                                                'Sequel{name: '\n",
      "                                                                                'Sequel} '\n",
      "                                                                                '-[relationship:{relationship: '\n",
      "                                                                                'Be}]-> '\n",
      "                                                                                'Next '\n",
      "                                                                                'project{name: '\n",
      "                                                                                'Next '\n",
      "                                                                                'project}',\n",
      "                                                                                'Groot{name: '\n",
      "                                                                                'Groot} '\n",
      "                                                                                '<-[relationship:{relationship: '\n",
      "                                                                                'Starring}]- '\n",
      "                                                                                'Sequel{name: '\n",
      "                                                                                'Sequel} '\n",
      "                                                                                '<-[relationship:{relationship: '\n",
      "                                                                                'Chose '\n",
      "                                                                                'to '\n",
      "                                                                                'set}]- '\n",
      "                                                                                'James '\n",
      "                                                                                'gunn{name: '\n",
      "                                                                                'James '\n",
      "                                                                                'gunn}',\n",
      "                                                                                'Groot{name: '\n",
      "                                                                                'Groot} '\n",
      "                                                                                '<-[relationship:{relationship: '\n",
      "                                                                                'Starring}]- '\n",
      "                                                                                'Sequel{name: '\n",
      "                                                                                'Sequel} '\n",
      "                                                                                '<-[relationship:{relationship: '\n",
      "                                                                                'Sourced}]- '\n",
      "                                                                                'Sony '\n",
      "                                                                                'walkman '\n",
      "                                                                                'headsets{name: '\n",
      "                                                                                'Sony '\n",
      "                                                                                'walkman '\n",
      "                                                                                'headsets}',\n",
      "                                                                                'Groot{name: '\n",
      "                                                                                'Groot} '\n",
      "                                                                                '<-[relationship:{relationship: '\n",
      "                                                                                'Starring}]- '\n",
      "                                                                                'Sequel{name: '\n",
      "                                                                                'Sequel} '\n",
      "                                                                                '<-[relationship:{relationship: '\n",
      "                                                                                'Idea}]- '\n",
      "                                                                                'Gunn{name: '\n",
      "                                                                                'Gunn}',\n",
      "                                                                                'Groot{name: '\n",
      "                                                                                'Groot} '\n",
      "                                                                                '<-[relationship:{relationship: '\n",
      "                                                                                'Starring}]- '\n",
      "                                                                                'Sequel{name: '\n",
      "                                                                                'Sequel} '\n",
      "                                                                                '<-[relationship:{relationship: '\n",
      "                                                                                'Obligated}]- '\n",
      "                                                                                'James '\n",
      "                                                                                'gunn{name: '\n",
      "                                                                                'James '\n",
      "                                                                                'gunn}',\n",
      "                                                                                'Groot{name: '\n",
      "                                                                                'Groot} '\n",
      "                                                                                '<-[relationship:{relationship: '\n",
      "                                                                                'Starring}]- '\n",
      "                                                                                'Sequel{name: '\n",
      "                                                                                'Sequel} '\n",
      "                                                                                '<-[relationship:{relationship: '\n",
      "                                                                                'For}]- '\n",
      "                                                                                'Merchandising '\n",
      "                                                                                'program{name: '\n",
      "                                                                                'Merchandising '\n",
      "                                                                                'program}',\n",
      "                                                                                'Groot{name: '\n",
      "                                                                                'Groot} '\n",
      "                                                                                '<-[relationship:{relationship: '\n",
      "                                                                                'Starring}]- '\n",
      "                                                                                'Sequel{name: '\n",
      "                                                                                'Sequel} '\n",
      "                                                                                '<-[relationship:{relationship: '\n",
      "                                                                                'Direct}]- '\n",
      "                                                                                'Gunn{name: '\n",
      "                                                                                'Gunn}',\n",
      "                                                                                'Groot{name: '\n",
      "                                                                                'Groot} '\n",
      "                                                                                '<-[relationship:{relationship: '\n",
      "                                                                                'Starring}]- '\n",
      "                                                                                'Sequel{name: '\n",
      "                                                                                'Sequel} '\n",
      "                                                                                '<-[relationship:{relationship: '\n",
      "                                                                                'Is}]- '\n",
      "                                                                                '2{name: '\n",
      "                                                                                '2}',\n",
      "                                                                                'Groot{name: '\n",
      "                                                                                'Groot} '\n",
      "                                                                                '<-[relationship:{relationship: '\n",
      "                                                                                'Starring}]- '\n",
      "                                                                                'Sequel{name: '\n",
      "                                                                                'Sequel} '\n",
      "                                                                                '<-[relationship:{relationship: '\n",
      "                                                                                'Sourced '\n",
      "                                                                                'for}]- '\n",
      "                                                                                'Sony '\n",
      "                                                                                'walkman '\n",
      "                                                                                'headsets{name: '\n",
      "                                                                                'Sony '\n",
      "                                                                                'walkman '\n",
      "                                                                                'headsets}',\n",
      "                                                                                'Groot{name: '\n",
      "                                                                                'Groot} '\n",
      "                                                                                '<-[relationship:{relationship: '\n",
      "                                                                                'Helps}]- '\n",
      "                                                                                'Kraglin{name: '\n",
      "                                                                                'Kraglin} '\n",
      "                                                                                '-[relationship:{relationship: '\n",
      "                                                                                'Take '\n",
      "                                                                                'up}]-> '\n",
      "                                                                                'Control-fin{name: '\n",
      "                                                                                'Control-fin}',\n",
      "                                                                                'Groot{name: '\n",
      "                                                                                'Groot} '\n",
      "                                                                                '<-[relationship:{relationship: '\n",
      "                                                                                'Helps}]- '\n",
      "                                                                                'Kraglin{name: '\n",
      "                                                                                'Kraglin} '\n",
      "                                                                                '-[relationship:{relationship: '\n",
      "                                                                                'Help}]-> '\n",
      "                                                                                'Citizens{name: '\n",
      "                                                                                'Citizens}',\n",
      "                                                                                'Groot{name: '\n",
      "                                                                                'Groot} '\n",
      "                                                                                '<-[relationship:{relationship: '\n",
      "                                                                                'Helps}]- '\n",
      "                                                                                'Kraglin{name: '\n",
      "                                                                                'Kraglin} '\n",
      "                                                                                '-[relationship:{relationship: '\n",
      "                                                                                'Helps '\n",
      "                                                                                'to '\n",
      "                                                                                'save}]-> '\n",
      "                                                                                \"Knowhere's \"\n",
      "                                                                                'citizens{name: '\n",
      "                                                                                \"Knowhere's \"\n",
      "                                                                                'citizens}',\n",
      "                                                                                'Groot{name: '\n",
      "                                                                                'Groot} '\n",
      "                                                                                '<-[relationship:{relationship: '\n",
      "                                                                                'Helps}]- '\n",
      "                                                                                'Kraglin{name: '\n",
      "                                                                                'Kraglin} '\n",
      "                                                                                '-[relationship:{relationship: '\n",
      "                                                                                'Helps}]-> '\n",
      "                                                                                'Rocket{name: '\n",
      "                                                                                'Rocket}',\n",
      "                                                                                'Groot{name: '\n",
      "                                                                                'Groot} '\n",
      "                                                                                '<-[relationship:{relationship: '\n",
      "                                                                                'Would '\n",
      "                                                                                'return '\n",
      "                                                                                'as}]- '\n",
      "                                                                                'Vin '\n",
      "                                                                                'diesel{name: '\n",
      "                                                                                'Vin '\n",
      "                                                                                'diesel} '\n",
      "                                                                                '-[relationship:{relationship: '\n",
      "                                                                                'Return '\n",
      "                                                                                'as}]-> '\n",
      "                                                                                'Groot{name: '\n",
      "                                                                                'Groot}',\n",
      "                                                                                'Groot{name: '\n",
      "                                                                                'Groot} '\n",
      "                                                                                '<-[relationship:{relationship: '\n",
      "                                                                                'Helps}]- '\n",
      "                                                                                'Kraglin{name: '\n",
      "                                                                                'Kraglin} '\n",
      "                                                                                '-[relationship:{relationship: '\n",
      "                                                                                'Take '\n",
      "                                                                                'on}]-> '\n",
      "                                                                                'Mission{name: '\n",
      "                                                                                'Mission}',\n",
      "                                                                                'Groot{name: '\n",
      "                                                                                'Groot} '\n",
      "                                                                                '<-[relationship:{relationship: '\n",
      "                                                                                'Helps}]- '\n",
      "                                                                                'Kraglin{name: '\n",
      "                                                                                'Kraglin} '\n",
      "                                                                                '-[relationship:{relationship: '\n",
      "                                                                                'Takes '\n",
      "                                                                                'up}]-> '\n",
      "                                                                                'Control-fin{name: '\n",
      "                                                                                'Control-fin}',\n",
      "                                                                                'Groot{name: '\n",
      "                                                                                'Groot} '\n",
      "                                                                                '<-[relationship:{relationship: '\n",
      "                                                                                'Helps}]- '\n",
      "                                                                                'Kraglin{name: '\n",
      "                                                                                'Kraglin} '\n",
      "                                                                                '<-[relationship:{relationship: '\n",
      "                                                                                'Plays}]- '\n",
      "                                                                                'Sean '\n",
      "                                                                                'gunn{name: '\n",
      "                                                                                'Sean '\n",
      "                                                                                'gunn}',\n",
      "                                                                                'Groot{name: '\n",
      "                                                                                'Groot} '\n",
      "                                                                                '<-[relationship:{relationship: '\n",
      "                                                                                'Helps}]- '\n",
      "                                                                                'Kraglin{name: '\n",
      "                                                                                'Kraglin} '\n",
      "                                                                                '<-[relationship:{relationship: '\n",
      "                                                                                'Played}]- '\n",
      "                                                                                'Sean '\n",
      "                                                                                'gunn{name: '\n",
      "                                                                                'Sean '\n",
      "                                                                                'gunn}',\n",
      "                                                                                'Groot{name: '\n",
      "                                                                                'Groot} '\n",
      "                                                                                '<-[relationship:{relationship: '\n",
      "                                                                                'Helps}]- '\n",
      "                                                                                'Kraglin{name: '\n",
      "                                                                                'Kraglin} '\n",
      "                                                                                '<-[relationship:{relationship: '\n",
      "                                                                                'Hoped '\n",
      "                                                                                'to '\n",
      "                                                                                'explore}]- '\n",
      "                                                                                'Gunn{name: '\n",
      "                                                                                'Gunn}',\n",
      "                                                                                'Groot{name: '\n",
      "                                                                                'Groot} '\n",
      "                                                                                '<-[relationship:{relationship: '\n",
      "                                                                                'Plays}]- '\n",
      "                                                                                'Vin '\n",
      "                                                                                'diesel{name: '\n",
      "                                                                                'Vin '\n",
      "                                                                                'diesel} '\n",
      "                                                                                '-[relationship:{relationship: '\n",
      "                                                                                'Is}]-> '\n",
      "                                                                                'Baby '\n",
      "                                                                                'groot{name: '\n",
      "                                                                                'Baby '\n",
      "                                                                                'groot}',\n",
      "                                                                                'Groot{name: '\n",
      "                                                                                'Groot} '\n",
      "                                                                                '<-[relationship:{relationship: '\n",
      "                                                                                'Plays}]- '\n",
      "                                                                                'Vin '\n",
      "                                                                                'diesel{name: '\n",
      "                                                                                'Vin '\n",
      "                                                                                'diesel} '\n",
      "                                                                                '-[relationship:{relationship: '\n",
      "                                                                                'Confirmed}]-> '\n",
      "                                                                                'Return '\n",
      "                                                                                'as '\n",
      "                                                                                'groot{name: '\n",
      "                                                                                'Return '\n",
      "                                                                                'as '\n",
      "                                                                                'groot}',\n",
      "                                                                                'Groot{name: '\n",
      "                                                                                'Groot} '\n",
      "                                                                                '<-[relationship:{relationship: '\n",
      "                                                                                'Plays}]- '\n",
      "                                                                                'Vin '\n",
      "                                                                                'diesel{name: '\n",
      "                                                                                'Vin '\n",
      "                                                                                'diesel} '\n",
      "                                                                                '-[relationship:{relationship: '\n",
      "                                                                                'Confirmed}]-> '\n",
      "                                                                                'Return{name: '\n",
      "                                                                                'Return}']},\n",
      "                                          'kg_rel_text': ['Groot{name: Groot} '\n",
      "                                                          '<-[relationship:{relationship: '\n",
      "                                                          'Would return as}]- '\n",
      "                                                          'Vin diesel{name: '\n",
      "                                                          'Vin diesel} '\n",
      "                                                          '<-[relationship:{relationship: '\n",
      "                                                          'Stars}]- Film{name: '\n",
      "                                                          'Film}',\n",
      "                                                          'Groot{name: Groot} '\n",
      "                                                          '<-[relationship:{relationship: '\n",
      "                                                          'Return as}]- Vin '\n",
      "                                                          'diesel{name: Vin '\n",
      "                                                          'diesel} '\n",
      "                                                          '-[relationship:{relationship: '\n",
      "                                                          'Would return as}]-> '\n",
      "                                                          'Groot{name: Groot}',\n",
      "                                                          'Groot{name: Groot} '\n",
      "                                                          '<-[relationship:{relationship: '\n",
      "                                                          'Return as}]- Vin '\n",
      "                                                          'diesel{name: Vin '\n",
      "                                                          'diesel} '\n",
      "                                                          '-[relationship:{relationship: '\n",
      "                                                          'Is}]-> Baby '\n",
      "                                                          'groot{name: Baby '\n",
      "                                                          'groot}',\n",
      "                                                          'Groot{name: Groot} '\n",
      "                                                          '<-[relationship:{relationship: '\n",
      "                                                          'Return as}]- Vin '\n",
      "                                                          'diesel{name: Vin '\n",
      "                                                          'diesel} '\n",
      "                                                          '-[relationship:{relationship: '\n",
      "                                                          'Confirmed}]-> '\n",
      "                                                          'Return{name: '\n",
      "                                                          'Return}',\n",
      "                                                          'Groot{name: Groot} '\n",
      "                                                          '<-[relationship:{relationship: '\n",
      "                                                          'Return as}]- Vin '\n",
      "                                                          'diesel{name: Vin '\n",
      "                                                          'diesel} '\n",
      "                                                          '<-[relationship:{relationship: '\n",
      "                                                          'Stars}]- Film{name: '\n",
      "                                                          'Film}',\n",
      "                                                          'Groot{name: Groot} '\n",
      "                                                          '<-[relationship:{relationship: '\n",
      "                                                          'Starring}]- '\n",
      "                                                          'Sequel{name: '\n",
      "                                                          'Sequel} '\n",
      "                                                          '-[relationship:{relationship: '\n",
      "                                                          'Opened}]-> '\n",
      "                                                          'Russia{name: '\n",
      "                                                          'Russia}',\n",
      "                                                          'Groot{name: Groot} '\n",
      "                                                          '<-[relationship:{relationship: '\n",
      "                                                          'Starring}]- '\n",
      "                                                          'Sequel{name: '\n",
      "                                                          'Sequel} '\n",
      "                                                          '-[relationship:{relationship: '\n",
      "                                                          'Opened}]-> '\n",
      "                                                          'China{name: China}',\n",
      "                                                          'Groot{name: Groot} '\n",
      "                                                          '<-[relationship:{relationship: '\n",
      "                                                          'Starring}]- '\n",
      "                                                          'Sequel{name: '\n",
      "                                                          'Sequel} '\n",
      "                                                          '-[relationship:{relationship: '\n",
      "                                                          'Set shortly '\n",
      "                                                          'after}]-> First '\n",
      "                                                          'film{name: First '\n",
      "                                                          'film}',\n",
      "                                                          'Groot{name: Groot} '\n",
      "                                                          '<-[relationship:{relationship: '\n",
      "                                                          'Starring}]- '\n",
      "                                                          'Sequel{name: '\n",
      "                                                          'Sequel} '\n",
      "                                                          '-[relationship:{relationship: '\n",
      "                                                          'Be}]-> Next '\n",
      "                                                          'project{name: Next '\n",
      "                                                          'project}',\n",
      "                                                          'Groot{name: Groot} '\n",
      "                                                          '<-[relationship:{relationship: '\n",
      "                                                          'Starring}]- '\n",
      "                                                          'Sequel{name: '\n",
      "                                                          'Sequel} '\n",
      "                                                          '<-[relationship:{relationship: '\n",
      "                                                          'Chose to set}]- '\n",
      "                                                          'James gunn{name: '\n",
      "                                                          'James gunn}',\n",
      "                                                          'Groot{name: Groot} '\n",
      "                                                          '<-[relationship:{relationship: '\n",
      "                                                          'Starring}]- '\n",
      "                                                          'Sequel{name: '\n",
      "                                                          'Sequel} '\n",
      "                                                          '<-[relationship:{relationship: '\n",
      "                                                          'Sourced}]- Sony '\n",
      "                                                          'walkman '\n",
      "                                                          'headsets{name: Sony '\n",
      "                                                          'walkman headsets}',\n",
      "                                                          'Groot{name: Groot} '\n",
      "                                                          '<-[relationship:{relationship: '\n",
      "                                                          'Starring}]- '\n",
      "                                                          'Sequel{name: '\n",
      "                                                          'Sequel} '\n",
      "                                                          '<-[relationship:{relationship: '\n",
      "                                                          'Idea}]- Gunn{name: '\n",
      "                                                          'Gunn}',\n",
      "                                                          'Groot{name: Groot} '\n",
      "                                                          '<-[relationship:{relationship: '\n",
      "                                                          'Starring}]- '\n",
      "                                                          'Sequel{name: '\n",
      "                                                          'Sequel} '\n",
      "                                                          '<-[relationship:{relationship: '\n",
      "                                                          'Obligated}]- James '\n",
      "                                                          'gunn{name: James '\n",
      "                                                          'gunn}',\n",
      "                                                          'Groot{name: Groot} '\n",
      "                                                          '<-[relationship:{relationship: '\n",
      "                                                          'Starring}]- '\n",
      "                                                          'Sequel{name: '\n",
      "                                                          'Sequel} '\n",
      "                                                          '<-[relationship:{relationship: '\n",
      "                                                          'For}]- '\n",
      "                                                          'Merchandising '\n",
      "                                                          'program{name: '\n",
      "                                                          'Merchandising '\n",
      "                                                          'program}',\n",
      "                                                          'Groot{name: Groot} '\n",
      "                                                          '<-[relationship:{relationship: '\n",
      "                                                          'Starring}]- '\n",
      "                                                          'Sequel{name: '\n",
      "                                                          'Sequel} '\n",
      "                                                          '<-[relationship:{relationship: '\n",
      "                                                          'Direct}]- '\n",
      "                                                          'Gunn{name: Gunn}',\n",
      "                                                          'Groot{name: Groot} '\n",
      "                                                          '<-[relationship:{relationship: '\n",
      "                                                          'Starring}]- '\n",
      "                                                          'Sequel{name: '\n",
      "                                                          'Sequel} '\n",
      "                                                          '<-[relationship:{relationship: '\n",
      "                                                          'Is}]- 2{name: 2}',\n",
      "                                                          'Groot{name: Groot} '\n",
      "                                                          '<-[relationship:{relationship: '\n",
      "                                                          'Starring}]- '\n",
      "                                                          'Sequel{name: '\n",
      "                                                          'Sequel} '\n",
      "                                                          '<-[relationship:{relationship: '\n",
      "                                                          'Sourced for}]- Sony '\n",
      "                                                          'walkman '\n",
      "                                                          'headsets{name: Sony '\n",
      "                                                          'walkman headsets}',\n",
      "                                                          'Groot{name: Groot} '\n",
      "                                                          '<-[relationship:{relationship: '\n",
      "                                                          'Helps}]- '\n",
      "                                                          'Kraglin{name: '\n",
      "                                                          'Kraglin} '\n",
      "                                                          '-[relationship:{relationship: '\n",
      "                                                          'Take up}]-> '\n",
      "                                                          'Control-fin{name: '\n",
      "                                                          'Control-fin}',\n",
      "                                                          'Groot{name: Groot} '\n",
      "                                                          '<-[relationship:{relationship: '\n",
      "                                                          'Helps}]- '\n",
      "                                                          'Kraglin{name: '\n",
      "                                                          'Kraglin} '\n",
      "                                                          '-[relationship:{relationship: '\n",
      "                                                          'Help}]-> '\n",
      "                                                          'Citizens{name: '\n",
      "                                                          'Citizens}',\n",
      "                                                          'Groot{name: Groot} '\n",
      "                                                          '<-[relationship:{relationship: '\n",
      "                                                          'Helps}]- '\n",
      "                                                          'Kraglin{name: '\n",
      "                                                          'Kraglin} '\n",
      "                                                          '-[relationship:{relationship: '\n",
      "                                                          'Helps to save}]-> '\n",
      "                                                          \"Knowhere's \"\n",
      "                                                          'citizens{name: '\n",
      "                                                          \"Knowhere's \"\n",
      "                                                          'citizens}',\n",
      "                                                          'Groot{name: Groot} '\n",
      "                                                          '<-[relationship:{relationship: '\n",
      "                                                          'Helps}]- '\n",
      "                                                          'Kraglin{name: '\n",
      "                                                          'Kraglin} '\n",
      "                                                          '-[relationship:{relationship: '\n",
      "                                                          'Helps}]-> '\n",
      "                                                          'Rocket{name: '\n",
      "                                                          'Rocket}',\n",
      "                                                          'Groot{name: Groot} '\n",
      "                                                          '<-[relationship:{relationship: '\n",
      "                                                          'Would return as}]- '\n",
      "                                                          'Vin diesel{name: '\n",
      "                                                          'Vin diesel} '\n",
      "                                                          '-[relationship:{relationship: '\n",
      "                                                          'Return as}]-> '\n",
      "                                                          'Groot{name: Groot}',\n",
      "                                                          'Groot{name: Groot} '\n",
      "                                                          '<-[relationship:{relationship: '\n",
      "                                                          'Helps}]- '\n",
      "                                                          'Kraglin{name: '\n",
      "                                                          'Kraglin} '\n",
      "                                                          '-[relationship:{relationship: '\n",
      "                                                          'Take on}]-> '\n",
      "                                                          'Mission{name: '\n",
      "                                                          'Mission}',\n",
      "                                                          'Groot{name: Groot} '\n",
      "                                                          '<-[relationship:{relationship: '\n",
      "                                                          'Helps}]- '\n",
      "                                                          'Kraglin{name: '\n",
      "                                                          'Kraglin} '\n",
      "                                                          '-[relationship:{relationship: '\n",
      "                                                          'Takes up}]-> '\n",
      "                                                          'Control-fin{name: '\n",
      "                                                          'Control-fin}',\n",
      "                                                          'Groot{name: Groot} '\n",
      "                                                          '<-[relationship:{relationship: '\n",
      "                                                          'Helps}]- '\n",
      "                                                          'Kraglin{name: '\n",
      "                                                          'Kraglin} '\n",
      "                                                          '<-[relationship:{relationship: '\n",
      "                                                          'Plays}]- Sean '\n",
      "                                                          'gunn{name: Sean '\n",
      "                                                          'gunn}',\n",
      "                                                          'Groot{name: Groot} '\n",
      "                                                          '<-[relationship:{relationship: '\n",
      "                                                          'Helps}]- '\n",
      "                                                          'Kraglin{name: '\n",
      "                                                          'Kraglin} '\n",
      "                                                          '<-[relationship:{relationship: '\n",
      "                                                          'Played}]- Sean '\n",
      "                                                          'gunn{name: Sean '\n",
      "                                                          'gunn}',\n",
      "                                                          'Groot{name: Groot} '\n",
      "                                                          '<-[relationship:{relationship: '\n",
      "                                                          'Helps}]- '\n",
      "                                                          'Kraglin{name: '\n",
      "                                                          'Kraglin} '\n",
      "                                                          '<-[relationship:{relationship: '\n",
      "                                                          'Hoped to explore}]- '\n",
      "                                                          'Gunn{name: Gunn}',\n",
      "                                                          'Groot{name: Groot} '\n",
      "                                                          '<-[relationship:{relationship: '\n",
      "                                                          'Plays}]- Vin '\n",
      "                                                          'diesel{name: Vin '\n",
      "                                                          'diesel} '\n",
      "                                                          '-[relationship:{relationship: '\n",
      "                                                          'Is}]-> Baby '\n",
      "                                                          'groot{name: Baby '\n",
      "                                                          'groot}',\n",
      "                                                          'Groot{name: Groot} '\n",
      "                                                          '<-[relationship:{relationship: '\n",
      "                                                          'Plays}]- Vin '\n",
      "                                                          'diesel{name: Vin '\n",
      "                                                          'diesel} '\n",
      "                                                          '-[relationship:{relationship: '\n",
      "                                                          'Confirmed}]-> '\n",
      "                                                          'Return as '\n",
      "                                                          'groot{name: Return '\n",
      "                                                          'as groot}',\n",
      "                                                          'Groot{name: Groot} '\n",
      "                                                          '<-[relationship:{relationship: '\n",
      "                                                          'Plays}]- Vin '\n",
      "                                                          'diesel{name: Vin '\n",
      "                                                          'diesel} '\n",
      "                                                          '-[relationship:{relationship: '\n",
      "                                                          'Confirmed}]-> '\n",
      "                                                          'Return{name: '\n",
      "                                                          'Return}'],\n",
      "                                          'kg_schema': {'schema': 'Node '\n",
      "                                                                  'properties: '\n",
      "                                                                  \"[{'tag': \"\n",
      "                                                                  \"'Chunk__', \"\n",
      "                                                                  \"'properties': \"\n",
      "                                                                  \"[('text', \"\n",
      "                                                                  \"'string')]}, \"\n",
      "                                                                  \"{'tag': \"\n",
      "                                                                  \"'Entity__', \"\n",
      "                                                                  \"'properties': \"\n",
      "                                                                  \"[('name', \"\n",
      "                                                                  \"'string')]}, \"\n",
      "                                                                  \"{'tag': \"\n",
      "                                                                  \"'Node__', \"\n",
      "                                                                  \"'properties': \"\n",
      "                                                                  \"[('label', \"\n",
      "                                                                  \"'string')]}, \"\n",
      "                                                                  \"{'tag': \"\n",
      "                                                                  \"'Props__', \"\n",
      "                                                                  \"'properties': \"\n",
      "                                                                  \"[('file_path', \"\n",
      "                                                                  \"'string'), \"\n",
      "                                                                  \"('file_name', \"\n",
      "                                                                  \"'string'), \"\n",
      "                                                                  \"('file_type', \"\n",
      "                                                                  \"'string'), \"\n",
      "                                                                  \"('file_size', \"\n",
      "                                                                  \"'int64'), \"\n",
      "                                                                  \"('creation_date', \"\n",
      "                                                                  \"'string'), \"\n",
      "                                                                  \"('last_modified_date', \"\n",
      "                                                                  \"'string'), \"\n",
      "                                                                  \"('_node_content', \"\n",
      "                                                                  \"'string'), \"\n",
      "                                                                  \"('_node_type', \"\n",
      "                                                                  \"'string'), \"\n",
      "                                                                  \"('document_id', \"\n",
      "                                                                  \"'string'), \"\n",
      "                                                                  \"('doc_id', \"\n",
      "                                                                  \"'string'), \"\n",
      "                                                                  \"('ref_doc_id', \"\n",
      "                                                                  \"'string'), \"\n",
      "                                                                  \"('triplet_source_id', \"\n",
      "                                                                  \"'string')]}, \"\n",
      "                                                                  \"{'tag': \"\n",
      "                                                                  \"'entity', \"\n",
      "                                                                  \"'properties': \"\n",
      "                                                                  \"[('name', \"\n",
      "                                                                  \"'string')]}]\\n\"\n",
      "                                                                  'Edge '\n",
      "                                                                  'properties: '\n",
      "                                                                  \"[{'edge': \"\n",
      "                                                                  \"'Relation__', \"\n",
      "                                                                  \"'properties': \"\n",
      "                                                                  \"[('label', \"\n",
      "                                                                  \"'string'), \"\n",
      "                                                                  \"('file_path', \"\n",
      "                                                                  \"'string'), \"\n",
      "                                                                  \"('file_name', \"\n",
      "                                                                  \"'string'), \"\n",
      "                                                                  \"('file_type', \"\n",
      "                                                                  \"'string'), \"\n",
      "                                                                  \"('file_size', \"\n",
      "                                                                  \"'int64'), \"\n",
      "                                                                  \"('creation_date', \"\n",
      "                                                                  \"'string'), \"\n",
      "                                                                  \"('last_modified_date', \"\n",
      "                                                                  \"'string'), \"\n",
      "                                                                  \"('_node_content', \"\n",
      "                                                                  \"'string'), \"\n",
      "                                                                  \"('_node_type', \"\n",
      "                                                                  \"'string'), \"\n",
      "                                                                  \"('document_id', \"\n",
      "                                                                  \"'string'), \"\n",
      "                                                                  \"('doc_id', \"\n",
      "                                                                  \"'string'), \"\n",
      "                                                                  \"('ref_doc_id', \"\n",
      "                                                                  \"'string'), \"\n",
      "                                                                  \"('triplet_source_id', \"\n",
      "                                                                  \"'string')]}, \"\n",
      "                                                                  \"{'edge': \"\n",
      "                                                                  \"'__meta__node_label__', \"\n",
      "                                                                  \"'properties': \"\n",
      "                                                                  \"[('label', \"\n",
      "                                                                  \"'string'), \"\n",
      "                                                                  \"('props_json', \"\n",
      "                                                                  \"'string')]}, \"\n",
      "                                                                  \"{'edge': \"\n",
      "                                                                  \"'__meta__rel_label__', \"\n",
      "                                                                  \"'properties': \"\n",
      "                                                                  \"[('label', \"\n",
      "                                                                  \"'string'), \"\n",
      "                                                                  \"('props_json', \"\n",
      "                                                                  \"'string')]}, \"\n",
      "                                                                  \"{'edge': \"\n",
      "                                                                  \"'relationship', \"\n",
      "                                                                  \"'properties': \"\n",
      "                                                                  \"[('relationship', \"\n",
      "                                                                  \"'string')]}]\\n\"\n",
      "                                                                  'Relationships: '\n",
      "                                                                  \"['(:entity)-[:relationship]->(:entity)']\\n\"}}}\n"
     ]
    }
   ],
   "source": [
    "import pprint\n",
    "\n",
    "pp = pprint.PrettyPrinter()\n",
    "pp.pprint(response.metadata)"
   ]
  },
  {
   "cell_type": "code",
   "execution_count": null,
   "metadata": {},
   "outputs": [
    {
     "name": "stdout",
     "output_type": "stream",
     "text": [
      "INFO:nebula3.logger:Get connection to ('127.0.0.1', 9669)\n",
      "INFO:nebula3.logger:Get connection to ('127.0.0.1', 9669)\n"
     ]
    },
    {
     "data": {
      "text/html": [
       "<div>\n",
       "<style scoped>\n",
       "    .dataframe tbody tr th:only-of-type {\n",
       "        vertical-align: middle;\n",
       "    }\n",
       "\n",
       "    .dataframe tbody tr th {\n",
       "        vertical-align: top;\n",
       "    }\n",
       "\n",
       "    .dataframe thead th {\n",
       "        text-align: right;\n",
       "    }\n",
       "</style>\n",
       "<table border=\"1\" class=\"dataframe\">\n",
       "  <thead>\n",
       "    <tr style=\"text-align: right;\">\n",
       "      <th></th>\n",
       "      <th>e</th>\n",
       "    </tr>\n",
       "  </thead>\n",
       "  <tbody>\n",
       "    <tr>\n",
       "      <th>0</th>\n",
       "      <td>(\"Zuckerman\")-[:relationship@6890329262785610005{relationship: \"Called\"}]-&gt;(\"Teaser crowd-pleaser\")</td>\n",
       "    </tr>\n",
       "    <tr>\n",
       "      <th>1</th>\n",
       "      <td>(\"Zoe saldaña\")-[:relationship@-7995950907875852384{relationship: \"Reprises role in\"}]-&gt;(\"Vol. 3\")</td>\n",
       "    </tr>\n",
       "    <tr>\n",
       "      <th>2</th>\n",
       "      <td>(\"Zoe saldaña\")-[:relationship@-437761614642448752{relationship: \"Plays\"}]-&gt;(\"Gamora\")</td>\n",
       "    </tr>\n",
       "    <tr>\n",
       "      <th>3</th>\n",
       "      <td>(\"Yondu udonta\")-[:relationship@-8340197319996953382{relationship: \"Died\"}]-&gt;(\"End of vol. 2\")</td>\n",
       "    </tr>\n",
       "    <tr>\n",
       "      <th>4</th>\n",
       "      <td>(\"Yondu udonta\")-[:relationship@1211371676249638883{relationship: \"Is\"}]-&gt;(\"Blue-skinned buccaneer\")</td>\n",
       "    </tr>\n",
       "    <tr>\n",
       "      <th>5</th>\n",
       "      <td>(\"Yondu udonta\")-[:relationship@1211371676249638883{relationship: \"Is\"}]-&gt;(\"Buccaneer\")</td>\n",
       "    </tr>\n",
       "    <tr>\n",
       "      <th>6</th>\n",
       "      <td>(\"Yondu udonta\")-[:relationship@1211371676249638883{relationship: \"Is\"}]-&gt;(\"Fatherly figure\")</td>\n",
       "    </tr>\n",
       "    <tr>\n",
       "      <th>7</th>\n",
       "      <td>(\"Yondu udonta\")-[:relationship@1211371676249638883{relationship: \"Is\"}]-&gt;(\"Fatherly figure quill\")</td>\n",
       "    </tr>\n",
       "    <tr>\n",
       "      <th>8</th>\n",
       "      <td>(\"Yondu udonta\")-[:relationship@3587906030433501795{relationship: \"Exiled from\"}]-&gt;(\"Ravager community\")</td>\n",
       "    </tr>\n",
       "    <tr>\n",
       "      <th>9</th>\n",
       "      <td>(\"Yondu udonta\")-[:relationship@8813752868920503576{relationship: \"Has\"}]-&gt;(\"Larger head fin\")</td>\n",
       "    </tr>\n",
       "    <tr>\n",
       "      <th>10</th>\n",
       "      <td>(\"Work\")-[:relationship@8063625130844839323{relationship: \"Included\"}]-&gt;(\"Inside\")</td>\n",
       "    </tr>\n",
       "    <tr>\n",
       "      <th>11</th>\n",
       "      <td>(\"Work\")-[:relationship@8063625130844839323{relationship: \"Included\"}]-&gt;(\"Scenes\")</td>\n",
       "    </tr>\n",
       "    <tr>\n",
       "      <th>12</th>\n",
       "      <td>(\"Vol. 3\")-[:relationship@-3658880211043134685{relationship: \"Explores\"}]-&gt;(\"Origin story\")</td>\n",
       "    </tr>\n",
       "    <tr>\n",
       "      <th>13</th>\n",
       "      <td>(\"Vol. 3\")-[:relationship@-3658880211043134685{relationship: \"Explores\"}]-&gt;(\"Origin story rocket\")</td>\n",
       "    </tr>\n",
       "    <tr>\n",
       "      <th>14</th>\n",
       "      <td>(\"Vol. 3\")-[:relationship@-3244693932357032472{relationship: \"Fulfills\"}]-&gt;(\"Character arc\")</td>\n",
       "    </tr>\n",
       "    <tr>\n",
       "      <th>15</th>\n",
       "      <td>(\"Vol. 3\")-[:relationship@-617685181787630156{relationship: \"Origin story of\"}]-&gt;(\"Rocket\")</td>\n",
       "    </tr>\n",
       "    <tr>\n",
       "      <th>16</th>\n",
       "      <td>(\"Vol. 2 sales\")-[:relationship@4786304239061040340{relationship: \"More than\"}]-&gt;(\"Top 40 films combined\")</td>\n",
       "    </tr>\n",
       "    <tr>\n",
       "      <th>17</th>\n",
       "      <td>(\"Vin diesel\")-[:relationship@-7995950907875852384{relationship: \"Reprises role in\"}]-&gt;(\"Vol. 3\")</td>\n",
       "    </tr>\n",
       "    <tr>\n",
       "      <th>18</th>\n",
       "      <td>(\"Vin diesel\")-[:relationship@-3644145438162066622{relationship: \"Confirmed\"}]-&gt;(\"Return\")</td>\n",
       "    </tr>\n",
       "    <tr>\n",
       "      <th>19</th>\n",
       "      <td>(\"Vin diesel\")-[:relationship@-3644145438162066622{relationship: \"Confirmed\"}]-&gt;(\"Return as groot\")</td>\n",
       "    </tr>\n",
       "  </tbody>\n",
       "</table>\n",
       "</div>"
      ],
      "text/plain": [
       "                                                                                                             e\n",
       "0          (\"Zuckerman\")-[:relationship@6890329262785610005{relationship: \"Called\"}]->(\"Teaser crowd-pleaser\")\n",
       "1           (\"Zoe saldaña\")-[:relationship@-7995950907875852384{relationship: \"Reprises role in\"}]->(\"Vol. 3\")\n",
       "2                       (\"Zoe saldaña\")-[:relationship@-437761614642448752{relationship: \"Plays\"}]->(\"Gamora\")\n",
       "3               (\"Yondu udonta\")-[:relationship@-8340197319996953382{relationship: \"Died\"}]->(\"End of vol. 2\")\n",
       "4         (\"Yondu udonta\")-[:relationship@1211371676249638883{relationship: \"Is\"}]->(\"Blue-skinned buccaneer\")\n",
       "5                      (\"Yondu udonta\")-[:relationship@1211371676249638883{relationship: \"Is\"}]->(\"Buccaneer\")\n",
       "6                (\"Yondu udonta\")-[:relationship@1211371676249638883{relationship: \"Is\"}]->(\"Fatherly figure\")\n",
       "7          (\"Yondu udonta\")-[:relationship@1211371676249638883{relationship: \"Is\"}]->(\"Fatherly figure quill\")\n",
       "8     (\"Yondu udonta\")-[:relationship@3587906030433501795{relationship: \"Exiled from\"}]->(\"Ravager community\")\n",
       "9               (\"Yondu udonta\")-[:relationship@8813752868920503576{relationship: \"Has\"}]->(\"Larger head fin\")\n",
       "10                          (\"Work\")-[:relationship@8063625130844839323{relationship: \"Included\"}]->(\"Inside\")\n",
       "11                          (\"Work\")-[:relationship@8063625130844839323{relationship: \"Included\"}]->(\"Scenes\")\n",
       "12                 (\"Vol. 3\")-[:relationship@-3658880211043134685{relationship: \"Explores\"}]->(\"Origin story\")\n",
       "13          (\"Vol. 3\")-[:relationship@-3658880211043134685{relationship: \"Explores\"}]->(\"Origin story rocket\")\n",
       "14                (\"Vol. 3\")-[:relationship@-3244693932357032472{relationship: \"Fulfills\"}]->(\"Character arc\")\n",
       "15                 (\"Vol. 3\")-[:relationship@-617685181787630156{relationship: \"Origin story of\"}]->(\"Rocket\")\n",
       "16  (\"Vol. 2 sales\")-[:relationship@4786304239061040340{relationship: \"More than\"}]->(\"Top 40 films combined\")\n",
       "17           (\"Vin diesel\")-[:relationship@-7995950907875852384{relationship: \"Reprises role in\"}]->(\"Vol. 3\")\n",
       "18                  (\"Vin diesel\")-[:relationship@-3644145438162066622{relationship: \"Confirmed\"}]->(\"Return\")\n",
       "19         (\"Vin diesel\")-[:relationship@-3644145438162066622{relationship: \"Confirmed\"}]->(\"Return as groot\")"
      ]
     },
     "execution_count": 55,
     "metadata": {},
     "output_type": "execute_result"
    }
   ],
   "source": [
    "# Query some random Relationships with Cypher\n",
    "%ngql USE llamaindex;\n",
    "%ngql MATCH (p)-[e]->(q) RETURN e LIMIT 20"
   ]
  },
  {
   "cell_type": "code",
   "execution_count": 61,
   "metadata": {},
   "outputs": [
    {
     "name": "stdout",
     "output_type": "stream",
     "text": [
      "INFO:nebula3.logger:Get connection to ('127.0.0.1', 9669)\n"
     ]
    },
    {
     "data": {
      "text/html": [
       "<div>\n",
       "<style scoped>\n",
       "    .dataframe tbody tr th:only-of-type {\n",
       "        vertical-align: middle;\n",
       "    }\n",
       "\n",
       "    .dataframe tbody tr th {\n",
       "        vertical-align: top;\n",
       "    }\n",
       "\n",
       "    .dataframe thead th {\n",
       "        text-align: right;\n",
       "    }\n",
       "</style>\n",
       "<table border=\"1\" class=\"dataframe\">\n",
       "  <thead>\n",
       "    <tr style=\"text-align: right;\">\n",
       "      <th></th>\n",
       "      <th>p.entity.name</th>\n",
       "      <th>r</th>\n",
       "      <th>m</th>\n",
       "    </tr>\n",
       "  </thead>\n",
       "  <tbody>\n",
       "    <tr>\n",
       "      <th>0</th>\n",
       "      <td>Groot</td>\n",
       "      <td>(\"Groot\")-[:relationship@-9079449635137805301{relationship: \"Was\"}]-&gt;(\"Rocket's protector\")</td>\n",
       "      <td>(\"Rocket's protector\" :entity{name: \"Rocket's protector\"})</td>\n",
       "    </tr>\n",
       "    <tr>\n",
       "      <th>1</th>\n",
       "      <td>Groot</td>\n",
       "      <td>(\"Groot\")-[:relationship@-7060404804743788649{relationship: \"Arrive\"}]-&gt;(\"Planet\")</td>\n",
       "      <td>(\"Planet\" :entity{name: \"Planet\"})</td>\n",
       "    </tr>\n",
       "    <tr>\n",
       "      <th>2</th>\n",
       "      <td>Groot</td>\n",
       "      <td>(\"Groot\")-[:relationship@-7046138375535257733{relationship: \"Character\"}]-&gt;(\"Popular\")</td>\n",
       "      <td>(\"Popular\" :entity{name: \"Popular\"})</td>\n",
       "    </tr>\n",
       "    <tr>\n",
       "      <th>3</th>\n",
       "      <td>Groot</td>\n",
       "      <td>(\"Groot\")-[:relationship@-6734330852527633311{relationship: \"Is member of\"}]-&gt;(\"Guardians\")</td>\n",
       "      <td>(\"Guardians\" :entity{name: \"Guardians\"})</td>\n",
       "    </tr>\n",
       "    <tr>\n",
       "      <th>4</th>\n",
       "      <td>Groot</td>\n",
       "      <td>(\"Groot\")-[:relationship@-6302077391416622777{relationship: \"Rescued from\"}]-&gt;(\"Arête's destruction\")</td>\n",
       "      <td>(\"Arête's destruction\" :entity{name: \"Arête's destruction\"})</td>\n",
       "    </tr>\n",
       "    <tr>\n",
       "      <th>5</th>\n",
       "      <td>Groot</td>\n",
       "      <td>(\"Groot\")-[:relationship@-5758365118766559710{relationship: \"Plants\"}]-&gt;(\"Bomb\")</td>\n",
       "      <td>(\"Bomb\" :entity{name: \"Bomb\"})</td>\n",
       "    </tr>\n",
       "    <tr>\n",
       "      <th>6</th>\n",
       "      <td>Groot</td>\n",
       "      <td>(\"Groot\")-[:relationship@-5758365118766559710{relationship: \"Plants\"}]-&gt;(\"Ego's brain\")</td>\n",
       "      <td>(\"Ego's brain\" :entity{name: \"Ego's brain\"})</td>\n",
       "    </tr>\n",
       "    <tr>\n",
       "      <th>7</th>\n",
       "      <td>Groot</td>\n",
       "      <td>(\"Groot\")-[:relationship@-5733813237520639549{relationship: \"Starring as\"}]-&gt;(\"Main characters\")</td>\n",
       "      <td>(\"Main characters\" :entity{name: \"Main characters\"})</td>\n",
       "    </tr>\n",
       "    <tr>\n",
       "      <th>8</th>\n",
       "      <td>Groot</td>\n",
       "      <td>(\"Groot\")-[:relationship@-5399595019689382089{relationship: \"Remains\"}]-&gt;(\"Ship\")</td>\n",
       "      <td>(\"Ship\" :entity{name: \"Ship\"})</td>\n",
       "    </tr>\n",
       "    <tr>\n",
       "      <th>9</th>\n",
       "      <td>Groot</td>\n",
       "      <td>(\"Groot\")-[:relationship@-5133317990461404533{relationship: \"Take on\"}]-&gt;(\"Mission\")</td>\n",
       "      <td>(\"Mission\" :entity{name: \"Mission\"})</td>\n",
       "    </tr>\n",
       "    <tr>\n",
       "      <th>10</th>\n",
       "      <td>Groot</td>\n",
       "      <td>(\"Groot\")-[:relationship@-4316591263728059312{relationship: \"Free\"}]-&gt;(\"Rocket and yondu\")</td>\n",
       "      <td>(\"Rocket and yondu\" :entity{name: \"Rocket and yondu\"})</td>\n",
       "    </tr>\n",
       "    <tr>\n",
       "      <th>11</th>\n",
       "      <td>Groot</td>\n",
       "      <td>(\"Groot\")-[:relationship@-2082316175405459753{relationship: \"Plant\"}]-&gt;(\"Bomb\")</td>\n",
       "      <td>(\"Bomb\" :entity{name: \"Bomb\"})</td>\n",
       "    </tr>\n",
       "    <tr>\n",
       "      <th>12</th>\n",
       "      <td>Groot</td>\n",
       "      <td>(\"Groot\")-[:relationship@-1720274895890876635{relationship: \"Communicate\"}]-&gt;(\"Phrase  i am groot\")</td>\n",
       "      <td>(\"Phrase  i am groot\" :entity{name: \"Phrase  i am groot\"})</td>\n",
       "    </tr>\n",
       "    <tr>\n",
       "      <th>13</th>\n",
       "      <td>Groot</td>\n",
       "      <td>(\"Groot\")-[:relationship@-1556287281400470865{relationship: \"Guided to\"}]-&gt;(\"Arête laboratories complex\")</td>\n",
       "      <td>(\"Arête laboratories complex\" :entity{name: \"Arête laboratories complex\"})</td>\n",
       "    </tr>\n",
       "    <tr>\n",
       "      <th>14</th>\n",
       "      <td>Groot</td>\n",
       "      <td>(\"Groot\")-[:relationship@-962848913079500827{relationship: \"Is accomplice of\"}]-&gt;(\"Rocket\")</td>\n",
       "      <td>(\"Rocket\" :entity{name: \"Rocket\"})</td>\n",
       "    </tr>\n",
       "    <tr>\n",
       "      <th>15</th>\n",
       "      <td>Groot</td>\n",
       "      <td>(\"Groot\")-[:relationship@745140944488902906{relationship: \"Communicates with\"}]-&gt;(\"I am groot\")</td>\n",
       "      <td>(\"I am groot\" :entity{name: \"I am groot\"})</td>\n",
       "    </tr>\n",
       "    <tr>\n",
       "      <th>16</th>\n",
       "      <td>Groot</td>\n",
       "      <td>(\"Groot\")-[:relationship@1211371676249638883{relationship: \"Is\"}]-&gt;(\"Tree-like humanoid\")</td>\n",
       "      <td>(\"Tree-like humanoid\" :entity{name: \"Tree-like humanoid\"})</td>\n",
       "    </tr>\n",
       "    <tr>\n",
       "      <th>17</th>\n",
       "      <td>Groot</td>\n",
       "      <td>(\"Groot\")-[:relationship@5885196858070588997{relationship: \"Playing\"}]-&gt;(\"Central role\")</td>\n",
       "      <td>(\"Central role\" :entity{name: \"Central role\"})</td>\n",
       "    </tr>\n",
       "    <tr>\n",
       "      <th>18</th>\n",
       "      <td>Groot</td>\n",
       "      <td>(\"Groot\")-[:relationship@5985085896592466242{relationship: \"Rescued\"}]-&gt;(\"Adam\")</td>\n",
       "      <td>(\"Adam\" :entity{name: \"Adam\"})</td>\n",
       "    </tr>\n",
       "    <tr>\n",
       "      <th>19</th>\n",
       "      <td>Groot</td>\n",
       "      <td>(\"Groot\")-[:relationship@6597371343734600313{relationship: \"Enter\"}]-&gt;(\"Arête\")</td>\n",
       "      <td>(\"Arête\" :entity{name: \"Arête\"})</td>\n",
       "    </tr>\n",
       "    <tr>\n",
       "      <th>20</th>\n",
       "      <td>Groot</td>\n",
       "      <td>(\"Groot\")-[:relationship@7716737830593063386{relationship: \"Grows into\"}]-&gt;(\"Teenager\")</td>\n",
       "      <td>(\"Teenager\" :entity{name: \"Teenager\"})</td>\n",
       "    </tr>\n",
       "  </tbody>\n",
       "</table>\n",
       "</div>"
      ],
      "text/plain": [
       "   p.entity.name                                                                                                          r                                                                           m\n",
       "0          Groot                (\"Groot\")-[:relationship@-9079449635137805301{relationship: \"Was\"}]->(\"Rocket's protector\")                  (\"Rocket's protector\" :entity{name: \"Rocket's protector\"})\n",
       "1          Groot                         (\"Groot\")-[:relationship@-7060404804743788649{relationship: \"Arrive\"}]->(\"Planet\")                                          (\"Planet\" :entity{name: \"Planet\"})\n",
       "2          Groot                     (\"Groot\")-[:relationship@-7046138375535257733{relationship: \"Character\"}]->(\"Popular\")                                        (\"Popular\" :entity{name: \"Popular\"})\n",
       "3          Groot                (\"Groot\")-[:relationship@-6734330852527633311{relationship: \"Is member of\"}]->(\"Guardians\")                                    (\"Guardians\" :entity{name: \"Guardians\"})\n",
       "4          Groot      (\"Groot\")-[:relationship@-6302077391416622777{relationship: \"Rescued from\"}]->(\"Arête's destruction\")                (\"Arête's destruction\" :entity{name: \"Arête's destruction\"})\n",
       "5          Groot                           (\"Groot\")-[:relationship@-5758365118766559710{relationship: \"Plants\"}]->(\"Bomb\")                                              (\"Bomb\" :entity{name: \"Bomb\"})\n",
       "6          Groot                    (\"Groot\")-[:relationship@-5758365118766559710{relationship: \"Plants\"}]->(\"Ego's brain\")                                (\"Ego's brain\" :entity{name: \"Ego's brain\"})\n",
       "7          Groot           (\"Groot\")-[:relationship@-5733813237520639549{relationship: \"Starring as\"}]->(\"Main characters\")                        (\"Main characters\" :entity{name: \"Main characters\"})\n",
       "8          Groot                          (\"Groot\")-[:relationship@-5399595019689382089{relationship: \"Remains\"}]->(\"Ship\")                                              (\"Ship\" :entity{name: \"Ship\"})\n",
       "9          Groot                       (\"Groot\")-[:relationship@-5133317990461404533{relationship: \"Take on\"}]->(\"Mission\")                                        (\"Mission\" :entity{name: \"Mission\"})\n",
       "10         Groot                 (\"Groot\")-[:relationship@-4316591263728059312{relationship: \"Free\"}]->(\"Rocket and yondu\")                      (\"Rocket and yondu\" :entity{name: \"Rocket and yondu\"})\n",
       "11         Groot                            (\"Groot\")-[:relationship@-2082316175405459753{relationship: \"Plant\"}]->(\"Bomb\")                                              (\"Bomb\" :entity{name: \"Bomb\"})\n",
       "12         Groot        (\"Groot\")-[:relationship@-1720274895890876635{relationship: \"Communicate\"}]->(\"Phrase  i am groot\")                  (\"Phrase  i am groot\" :entity{name: \"Phrase  i am groot\"})\n",
       "13         Groot  (\"Groot\")-[:relationship@-1556287281400470865{relationship: \"Guided to\"}]->(\"Arête laboratories complex\")  (\"Arête laboratories complex\" :entity{name: \"Arête laboratories complex\"})\n",
       "14         Groot                (\"Groot\")-[:relationship@-962848913079500827{relationship: \"Is accomplice of\"}]->(\"Rocket\")                                          (\"Rocket\" :entity{name: \"Rocket\"})\n",
       "15         Groot            (\"Groot\")-[:relationship@745140944488902906{relationship: \"Communicates with\"}]->(\"I am groot\")                                  (\"I am groot\" :entity{name: \"I am groot\"})\n",
       "16         Groot                  (\"Groot\")-[:relationship@1211371676249638883{relationship: \"Is\"}]->(\"Tree-like humanoid\")                  (\"Tree-like humanoid\" :entity{name: \"Tree-like humanoid\"})\n",
       "17         Groot                   (\"Groot\")-[:relationship@5885196858070588997{relationship: \"Playing\"}]->(\"Central role\")                              (\"Central role\" :entity{name: \"Central role\"})\n",
       "18         Groot                           (\"Groot\")-[:relationship@5985085896592466242{relationship: \"Rescued\"}]->(\"Adam\")                                              (\"Adam\" :entity{name: \"Adam\"})\n",
       "19         Groot                            (\"Groot\")-[:relationship@6597371343734600313{relationship: \"Enter\"}]->(\"Arête\")                                            (\"Arête\" :entity{name: \"Arête\"})\n",
       "20         Groot                    (\"Groot\")-[:relationship@7716737830593063386{relationship: \"Grows into\"}]->(\"Teenager\")                                      (\"Teenager\" :entity{name: \"Teenager\"})"
      ]
     },
     "execution_count": 61,
     "metadata": {},
     "output_type": "execute_result"
    }
   ],
   "source": [
    "%ngql MATCH (p:entity)-[r]->(m:entity) WHERE p.entity.name == 'Groot' RETURN p.entity.name, r, m;"
   ]
  },
  {
   "cell_type": "code",
   "execution_count": 62,
   "metadata": {},
   "outputs": [
    {
     "data": {
      "text/html": [
       "\n",
       "        <iframe\n",
       "            width=\"100%\"\n",
       "            height=\"500px\"\n",
       "            src=\"nebulagraph_cell_62.html\"\n",
       "            frameborder=\"0\"\n",
       "            allowfullscreen\n",
       "            \n",
       "        ></iframe>\n",
       "        "
      ],
      "text/plain": [
       "<IPython.lib.display.IFrame at 0x30d303650>"
      ]
     },
     "metadata": {},
     "output_type": "display_data"
    },
    {
     "data": {
      "text/plain": [
       "<class 'pyvis.network.Network'> |N|=21 |E|=21"
      ]
     },
     "execution_count": 62,
     "metadata": {},
     "output_type": "execute_result"
    }
   ],
   "source": [
    "%ng_draw"
   ]
  },
  {
   "cell_type": "code",
   "execution_count": 65,
   "metadata": {},
   "outputs": [
    {
     "data": {
      "text/markdown": [
       "<b>Starlord cares about Yondu, who has a larger head fin, cares about Starlord, hesitates to turn over a quill, is Starlord's father, keeps Starlord, dies in a vacuum, reveals Starlord's origin, collects Starlord, collects offspring, arrives on a planet, is Starlord's father, has a relationship with Starlord, is hired by Ego, is accepted by Stakar Ogord, has a history with Stakar Ogord, confronts Stakar Ogord, is helped by Kraglin, is accepted by Stakar, is reluctant to kill Gunn, is accepted by Stakar Ogord, shoots Nebula, has a grudge against Stakar Ogord. Starlord is rescued by the Guardians, who are a team that includes Mantis, Gamora, Baby Groot, Rocket, and Phyla. Starlord decides to leave the Guardians, who interact with Warlock, are about a film, and are members of the Guardians. \n",
       "</b>"
      ],
      "text/plain": [
       "<IPython.core.display.Markdown object>"
      ]
     },
     "metadata": {},
     "output_type": "display_data"
    }
   ],
   "source": [
    "response = await query_engine.aquery(\n",
    "    \"Tell me about Starlord's relationships?\",\n",
    ")\n",
    "display(Markdown(f\"<b>{response}</b>\"))"
   ]
  },
  {
   "cell_type": "code",
   "execution_count": 66,
   "metadata": {},
   "outputs": [
    {
     "data": {
      "text/html": [
       "\n",
       "        <iframe\n",
       "            width=\"100%\"\n",
       "            height=\"500px\"\n",
       "            src=\"nebulagraph_cell_66.html\"\n",
       "            frameborder=\"0\"\n",
       "            allowfullscreen\n",
       "            \n",
       "        ></iframe>\n",
       "        "
      ],
      "text/plain": [
       "<IPython.lib.display.IFrame at 0x30cee58b0>"
      ]
     },
     "metadata": {},
     "output_type": "display_data"
    },
    {
     "data": {
      "text/plain": [
       "<class 'pyvis.network.Network'> |N|=21 |E|=21"
      ]
     },
     "execution_count": 66,
     "metadata": {},
     "output_type": "execute_result"
    }
   ],
   "source": [
    "%ng_draw"
   ]
  },
  {
   "cell_type": "code",
   "execution_count": null,
   "metadata": {},
   "outputs": [
    {
     "name": "stdout",
     "output_type": "stream",
     "text": [
      "INFO:nebula3.logger:Get connection to ('127.0.0.1', 9669)\n",
      "INFO:nebula3.logger:Get connection to ('127.0.0.1', 9669)\n",
      "INFO:nebula3.logger:Get connection to ('127.0.0.1', 9669)\n",
      "INFO:nebula3.logger:Get connection to ('127.0.0.1', 9669)\n",
      "INFO:nebula3.logger:Get connection to ('127.0.0.1', 9669)\n",
      "INFO:nebula3.logger:Get connection to ('127.0.0.1', 9669)\n",
      "INFO:nebula3.logger:Get connection to ('127.0.0.1', 9669)\n",
      "INFO:nebula3.logger:Get connection to ('127.0.0.1', 9669)\n",
      "INFO:nebula3.logger:Get connection to ('127.0.0.1', 9669)\n",
      "INFO:nebula3.logger:Get connection to ('127.0.0.1', 9669)\n",
      "INFO:nebula3.logger:Get connection to ('127.0.0.1', 9669)\n",
      "INFO:nebula3.logger:Get connection to ('127.0.0.1', 9669)\n",
      "INFO:nebula3.logger:Get connection to ('127.0.0.1', 9669)\n",
      "INFO:nebula3.logger:Get connection to ('127.0.0.1', 9669)\n",
      "INFO:nebula3.logger:Get connection to ('127.0.0.1', 9669)\n",
      "INFO:nebula3.logger:Get connection to ('127.0.0.1', 9669)\n",
      "INFO:nebula3.logger:Get connection to ('127.0.0.1', 9669)\n"
     ]
    },
    {
     "data": {
      "text/html": [
       "\n",
       "        <iframe\n",
       "            width=\"100%\"\n",
       "            height=\"500px\"\n",
       "            src=\"nebulagraph_schema_cell_25_llamaindex.html\"\n",
       "            frameborder=\"0\"\n",
       "            allowfullscreen\n",
       "            \n",
       "        ></iframe>\n",
       "        "
      ],
      "text/plain": [
       "<IPython.lib.display.IFrame at 0x323846d80>"
      ]
     },
     "metadata": {},
     "output_type": "display_data"
    },
    {
     "data": {
      "text/plain": [
       "<class 'pyvis.network.Network'> |N|=9 |E|=4"
      ]
     },
     "execution_count": 25,
     "metadata": {},
     "output_type": "execute_result"
    }
   ],
   "source": [
    "%ng_draw_schema"
   ]
  },
  {
   "cell_type": "code",
   "execution_count": null,
   "metadata": {},
   "outputs": [],
   "source": []
  },
  {
   "cell_type": "markdown",
   "metadata": {},
   "source": [
    "# Cleanup \n",
    "%ngql\n",
    "CLEAR SPACE $space_name; "
   ]
  }
 ],
 "metadata": {
  "colab": {
   "provenance": []
  },
  "kernelspec": {
   "display_name": ".venv",
   "language": "python",
   "name": "python3"
  },
  "language_info": {
   "codemirror_mode": {
    "name": "ipython",
    "version": 3
   },
   "file_extension": ".py",
   "mimetype": "text/x-python",
   "name": "python",
   "nbconvert_exporter": "python",
   "pygments_lexer": "ipython3",
   "version": "3.12.2"
  }
 },
 "nbformat": 4,
 "nbformat_minor": 0
}
