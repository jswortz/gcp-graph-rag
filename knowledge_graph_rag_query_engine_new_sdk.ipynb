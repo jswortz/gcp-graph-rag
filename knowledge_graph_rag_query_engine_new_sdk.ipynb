{
 "cells": [
  {
   "cell_type": "markdown",
   "metadata": {
    "id": "UMIjOJoFETV3"
   },
   "source": [
    "# Vertex AI and LLamaIndex Knowledge Graph RAG Query Engine\n",
    "\n",
    "\n",
    "## Graph RAG\n",
    "\n",
    "Graph RAG is an Knowledge-enabled RAG approach to retrieve information from Knowledge Graph on given task. Typically, this is to build context based on entities' SubGraph related to the task.\n",
    "\n",
    "## NebulaGraph Property Graph Index\n",
    "NebulaGraph is an open-source distributed graph database built for super large-scale graphs with milliseconds of latency.\n",
    "\n",
    "If you already have an existing graph, please skip to the end of this notebook.\n",
    "\n",
    "If you're opening this Notebook on colab, you will probably need to install LlamaIndex 🦙.\n",
    "\n",
    "```python\n",
    "%pip install llama-index-graph-stores-nebula\n",
    "%pip install llama-index-llms-vertex\n",
    "%pip install llama-index-embeddings-vertex\n",
    "%pip install llama-index\n",
    "```\n",
    "\n",
    "\n",
    "Before we start the `Knowledge Graph RAG QueryEngine` demo, let's first get ready for basic preparation of Llama Index."
   ]
  },
  {
   "cell_type": "code",
   "execution_count": null,
   "metadata": {
    "id": "n_EAJgGuETV4"
   },
   "outputs": [
    {
     "name": "stderr",
     "output_type": "stream",
     "text": [
      "I0000 00:00:1730697976.702818  235254 fork_posix.cc:77] Other threads are currently calling into gRPC, skipping fork() handlers\n",
      "I0000 00:00:1730697977.516058  235254 fork_posix.cc:77] Other threads are currently calling into gRPC, skipping fork() handlers\n"
     ]
    }
   ],
   "source": [
    "# For Vertex\n",
    "\n",
    "import os\n",
    "\n",
    "\n",
    "import logging\n",
    "import google.auth\n",
    "import google.auth.transport.requests\n",
    "from google.cloud import aiplatform\n",
    "import vertexai\n",
    "from vertexai.generative_models import HarmBlockThreshold, HarmCategory, SafetySetting\n",
    "import sys\n",
    "from dotenv import load_dotenv\n",
    "# Import the Secret Manager client library.\n",
    "from google.cloud import secretmanager\n",
    "\n",
    "load_dotenv()  # this loads the .env script for use below\n",
    "PROJECT_ID = os.getenv(\"PROJECT_ID\")\n",
    "LOCATION = os.getenv(\"LOCATION\")\n",
    "\n",
    "# try to get the secret manager stored public IP\n",
    "# Create the Secret Manager client.\n",
    "client = secretmanager.SecretManagerServiceClient()\n",
    "\n",
    "# Access the secret version.\n",
    "try:\n",
    "    response = client.access_secret_version(request={\"name\": 'projects/679926387543/secrets/nebula-ip/versions/latest'})\n",
    "\n",
    "    # Print the secret payload.\n",
    "    #\n",
    "    # WARNING: Do not print the secret in a production environment - this\n",
    "    # snippet is showing how to access the secret material.\n",
    "    payload = response.payload.data.decode(\"UTF-8\")\n",
    "\n",
    "    NEBULA_SERVER_ADDRESS = payload\n",
    "except:\n",
    "    print(\"no secret found, using 127.0.0.1\")\n",
    "    NEBULA_SERVER_ADDRESS = \"127.0.0.1\"\n",
    "\n",
    "credentials = google.auth.default(quota_project_id=PROJECT_ID)[0]\n",
    "request = google.auth.transport.requests.Request()\n",
    "credentials.refresh(request)\n",
    "\n",
    "safety_config = [\n",
    "    SafetySetting(\n",
    "        category=HarmCategory.HARM_CATEGORY_DANGEROUS_CONTENT,\n",
    "        threshold=HarmBlockThreshold.BLOCK_NONE,\n",
    "    ),\n",
    "    SafetySetting(\n",
    "        category=HarmCategory.HARM_CATEGORY_HARASSMENT,\n",
    "        threshold=HarmBlockThreshold.BLOCK_NONE,\n",
    "    ),\n",
    "    SafetySetting(\n",
    "        category=HarmCategory.HARM_CATEGORY_SEXUALLY_EXPLICIT,\n",
    "        threshold=HarmBlockThreshold.BLOCK_NONE,\n",
    "    ),\n",
    "]\n",
    "\n",
    "logging.basicConfig(\n",
    "    stream=sys.stdout, level=logging.INFO\n",
    ")  # logging.DEBUG for more verbose output\n",
    "\n",
    "vertexai.init(project=PROJECT_ID, location=LOCATION)"
   ]
  },
  {
   "cell_type": "markdown",
   "metadata": {},
   "source": [
    "## Define the LLM\n"
   ]
  },
  {
   "cell_type": "code",
   "execution_count": 25,
   "metadata": {},
   "outputs": [],
   "source": [
    "from llama_index.llms.vertex import Vertex\n",
    "from llama_index.embeddings.vertex import VertexTextEmbedding\n",
    "from llama_index.core import Settings\n",
    "\n",
    "Settings.llm = Vertex(\n",
    "    temperature=0,\n",
    "    model=\"gemini-1.5-flash\",\n",
    "    credentials=credentials,\n",
    "    safety_settings=safety_config,\n",
    ")\n",
    "Settings.embed_model = VertexTextEmbedding(\n",
    "    model_name=\"text-embedding-004\", credentials=credentials\n",
    ")\n",
    "Settings.chunk_size = 256"
   ]
  },
  {
   "cell_type": "markdown",
   "metadata": {},
   "source": [
    "# Nested Asyncio needed for async ops"
   ]
  },
  {
   "cell_type": "code",
   "execution_count": 26,
   "metadata": {},
   "outputs": [],
   "source": [
    "import nest_asyncio\n",
    "\n",
    "nest_asyncio.apply()"
   ]
  },
  {
   "cell_type": "markdown",
   "metadata": {
    "id": "IOa2pw90ETV4"
   },
   "source": [
    "## Prepare for NebulaGraph"
   ]
  },
  {
   "cell_type": "code",
   "execution_count": 27,
   "metadata": {
    "id": "uryq3yLCETV4",
    "outputId": "56bb7aba-6c0d-42ff-b2be-80b2255d7053"
   },
   "outputs": [],
   "source": [
    "space_name = \"gog3\""
   ]
  },
  {
   "cell_type": "markdown",
   "metadata": {
    "id": "J7OqK9SDETV5"
   },
   "source": [
    "Then we could instiatate a `NebulaGraphStore`, in order to create a `StorageContext`'s `graph_store` as it."
   ]
  },
  {
   "cell_type": "code",
   "execution_count": 28,
   "metadata": {},
   "outputs": [
    {
     "name": "stdout",
     "output_type": "stream",
     "text": [
      "The ngql extension is already loaded. To reload it, use:\n",
      "  %reload_ext ngql\n",
      "\u001b[1;3;38;2;0;135;107m[OK] Connection Pool Created\u001b[0m\n",
      "INFO:nebula3.logger:Get connection to ('34.55.198.242', 9669)\n",
      "INFO:nebula3.logger:Get connection to ('34.55.198.242', 9669)\n"
     ]
    },
    {
     "data": {
      "text/html": [
       "<div>\n",
       "<style scoped>\n",
       "    .dataframe tbody tr th:only-of-type {\n",
       "        vertical-align: middle;\n",
       "    }\n",
       "\n",
       "    .dataframe tbody tr th {\n",
       "        vertical-align: top;\n",
       "    }\n",
       "\n",
       "    .dataframe thead th {\n",
       "        text-align: right;\n",
       "    }\n",
       "</style>\n",
       "<table border=\"1\" class=\"dataframe\">\n",
       "  <thead>\n",
       "    <tr style=\"text-align: right;\">\n",
       "      <th></th>\n",
       "    </tr>\n",
       "  </thead>\n",
       "  <tbody>\n",
       "  </tbody>\n",
       "</table>\n",
       "</div>"
      ],
      "text/plain": [
       "Empty DataFrame\n",
       "Columns: []\n",
       "Index: []"
      ]
     },
     "execution_count": 28,
     "metadata": {},
     "output_type": "execute_result"
    }
   ],
   "source": [
    "%load_ext ngql\n",
    "%ngql --address $NEBULA_SERVER_ADDRESS --port 9669 --user root --password <password>\n",
    "%ngql CREATE SPACE IF NOT EXISTS $space_name(vid_type=FIXED_STRING(256))"
   ]
  },
  {
   "cell_type": "markdown",
   "metadata": {},
   "source": [
    "# **One time Operation to Load the DB**"
   ]
  },
  {
   "cell_type": "code",
   "execution_count": 29,
   "metadata": {
    "id": "OylzdX8HETV5"
   },
   "outputs": [],
   "source": [
    "from llama_index.core import StorageContext\n",
    "from llama_index.graph_stores.nebula import NebulaPropertyGraphStore\n",
    "\n",
    "graph_store = NebulaPropertyGraphStore(\n",
    "    space=space_name, overwrite=True, url=f\"nebula://{NEBULA_SERVER_ADDRESS}:9669\"\n",
    ")"
   ]
  },
  {
   "cell_type": "markdown",
   "metadata": {
    "id": "yk4PWOtLETV5"
   },
   "source": [
    "Here, we assumed to have the same Knowledge Graph from [this turtorial](https://gpt-index.readthedocs.io/en/latest/examples/query_engine/knowledge_graph_query_engine.html#optional-build-the-knowledge-graph-with-llamaindex)\n",
    "\n",
    "Let's follow on this tutorial:\n",
    "\n",
    "# With the help of Llama Index and LLM defined, we could build Knowledge Graph from given documents.\n",
    "\n",
    "If we have a Knowledge Graph on NebulaGraphStore already, this step could be skipped\n",
    "\n",
    "Load data from Wikipedia for \"Guardians of the Galaxy Vol. 3\""
   ]
  },
  {
   "cell_type": "code",
   "execution_count": 30,
   "metadata": {},
   "outputs": [],
   "source": [
    "from llama_index.core import download_loader\n",
    "\n",
    "from llama_index.readers.wikipedia import WikipediaReader\n",
    "\n",
    "loader = WikipediaReader()\n",
    "\n",
    "documents = loader.load_data(\n",
    "    pages=[\"Guardians of the Galaxy Vol. 3\"], auto_suggest=False\n",
    ")"
   ]
  },
  {
   "cell_type": "markdown",
   "metadata": {},
   "source": [
    "# Next, Generate a KnowledgeGraphIndex with NebulaGraph as graph_store\n",
    "Then, we will create a KnowledgeGraphIndex to enable Graph based RAG, apart from that, we have a Knowledge Graph up and running for other purposes, too!"
   ]
  },
  {
   "cell_type": "markdown",
   "metadata": {},
   "source": [
    "## Create a vector store"
   ]
  },
  {
   "cell_type": "code",
   "execution_count": 31,
   "metadata": {},
   "outputs": [],
   "source": [
    "from llama_index.core.vector_stores.simple import SimpleVectorStore\n",
    "\n",
    "vec_store = SimpleVectorStore()"
   ]
  },
  {
   "cell_type": "code",
   "execution_count": 32,
   "metadata": {},
   "outputs": [
    {
     "data": {
      "application/vnd.jupyter.widget-view+json": {
       "model_id": "3269f5cc6dd04213a06db997a95ae277",
       "version_major": 2,
       "version_minor": 0
      },
      "text/plain": [
       "Parsing nodes:   0%|          | 0/1 [00:00<?, ?it/s]"
      ]
     },
     "metadata": {},
     "output_type": "display_data"
    },
    {
     "name": "stderr",
     "output_type": "stream",
     "text": [
      "Extracting paths from text: 100%|██████████| 182/182 [00:39<00:00,  4.59it/s]\n",
      "Extracting implicit paths: 100%|██████████| 182/182 [00:00<00:00, 66885.42it/s]\n",
      "Generating embeddings: 100%|██████████| 19/19 [00:00<00:00, 29.36it/s]\n",
      "Generating embeddings: 100%|██████████| 352/352 [00:01<00:00, 177.21it/s]\n"
     ]
    }
   ],
   "source": [
    "from llama_index.core.indices.property_graph import PropertyGraphIndex\n",
    "\n",
    "index = PropertyGraphIndex.from_documents(\n",
    "    documents,\n",
    "    property_graph_store=graph_store,\n",
    "    vector_store=vec_store,\n",
    "    show_progress=True,\n",
    ")\n",
    "\n",
    "index.storage_context.vector_store.persist(\"./data/nebula_vec_store.json\")"
   ]
  },
  {
   "cell_type": "markdown",
   "metadata": {
    "id": "4-hJiV2VETV5"
   },
   "source": [
    "# Loading from an existing graph\n",
    "**Important** Go here if skipping data creation step above"
   ]
  },
  {
   "cell_type": "code",
   "execution_count": 34,
   "metadata": {
    "id": "JFe9yeTNETV5"
   },
   "outputs": [],
   "source": [
    "from llama_index.graph_stores.nebula import NebulaPropertyGraphStore\n",
    "from llama_index.core.indices.property_graph import PropertyGraphIndex\n",
    "\n",
    "\n",
    "graph_store = NebulaPropertyGraphStore(space=space_name, url=f\"nebula://{NEBULA_SERVER_ADDRESS}:9669\")\n",
    "\n",
    "from llama_index.core.vector_stores.simple import SimpleVectorStore\n",
    "\n",
    "vec_store = SimpleVectorStore.from_persist_path(\"./data/nebula_vec_store.json\")\n",
    "\n",
    "index = PropertyGraphIndex.from_existing(\n",
    "    property_graph_store=graph_store,\n",
    "    vector_store=vec_store,\n",
    ")"
   ]
  },
  {
   "cell_type": "markdown",
   "metadata": {},
   "source": [
    "### Now that the graph is created, we can explore it with [jupyter-nebulagraph](https://github.com/wey-gu/jupyter_nebulagraph)"
   ]
  },
  {
   "cell_type": "code",
   "execution_count": 35,
   "metadata": {},
   "outputs": [
    {
     "name": "stdout",
     "output_type": "stream",
     "text": [
      "INFO:nebula3.logger:Get connection to ('34.55.198.242', 9669)\n",
      "INFO:nebula3.logger:Get connection to ('34.55.198.242', 9669)\n"
     ]
    },
    {
     "data": {
      "text/html": [
       "<div>\n",
       "<style scoped>\n",
       "    .dataframe tbody tr th:only-of-type {\n",
       "        vertical-align: middle;\n",
       "    }\n",
       "\n",
       "    .dataframe tbody tr th {\n",
       "        vertical-align: top;\n",
       "    }\n",
       "\n",
       "    .dataframe thead th {\n",
       "        text-align: right;\n",
       "    }\n",
       "</style>\n",
       "<table border=\"1\" class=\"dataframe\">\n",
       "  <thead>\n",
       "    <tr style=\"text-align: right;\">\n",
       "      <th></th>\n",
       "      <th>e</th>\n",
       "    </tr>\n",
       "  </thead>\n",
       "  <tbody>\n",
       "    <tr>\n",
       "      <th>0</th>\n",
       "      <td>(\"d0e04b2e-9ed2-4c2a-8719-dac82cb3cc35\")-[:Relation__@0{_node_content: __NULL__, _node_type: __NULL__, creation_date: __NULL__, doc_id: __NULL__, document_id: __NULL__, file_name: __NULL__, file_path: __NULL__, file_size: __NULL__, file_type: __NULL__, label: \"NEXT\", last_modified_date: __NULL__, ref_doc_id: __NULL__, triplet_source_id: \"d0e04b2e-9ed2-4c2a-8719-dac82cb3cc35\"}]-&gt;(\"04bc8029-0024-4552-a258-4c7d4ed7d762\")</td>\n",
       "    </tr>\n",
       "    <tr>\n",
       "      <th>1</th>\n",
       "      <td>(\"d0e04b2e-9ed2-4c2a-8719-dac82cb3cc35\")-[:Relation__@0{_node_content: __NULL__, _node_type: __NULL__, creation_date: __NULL__, doc_id: __NULL__, document_id: __NULL__, file_name: __NULL__, file_path: __NULL__, file_size: __NULL__, file_type: __NULL__, label: \"PREVIOUS\", last_modified_date: __NULL__, ref_doc_id: __NULL__, triplet_source_id: \"d0e04b2e-9ed2-4c2a-8719-dac82cb3cc35\"}]-&gt;(\"3cfe5e88-d7e8-4492-a2f8-9a654bbce736\")</td>\n",
       "    </tr>\n",
       "    <tr>\n",
       "      <th>2</th>\n",
       "      <td>(\"c966bec8-028f-4ded-8582-963fd717b2a0\")-[:Relation__@0{_node_content: __NULL__, _node_type: __NULL__, creation_date: __NULL__, doc_id: __NULL__, document_id: __NULL__, file_name: __NULL__, file_path: __NULL__, file_size: __NULL__, file_type: __NULL__, label: \"PREVIOUS\", last_modified_date: __NULL__, ref_doc_id: __NULL__, triplet_source_id: \"c966bec8-028f-4ded-8582-963fd717b2a0\"}]-&gt;(\"298ad01e-3eed-4dac-be9b-1e84a06bcc92\")</td>\n",
       "    </tr>\n",
       "    <tr>\n",
       "      <th>3</th>\n",
       "      <td>(\"c966bec8-028f-4ded-8582-963fd717b2a0\")-[:Relation__@0{_node_content: __NULL__, _node_type: __NULL__, creation_date: __NULL__, doc_id: __NULL__, document_id: __NULL__, file_name: __NULL__, file_path: __NULL__, file_size: __NULL__, file_type: __NULL__, label: \"NEXT\", last_modified_date: __NULL__, ref_doc_id: __NULL__, triplet_source_id: \"c966bec8-028f-4ded-8582-963fd717b2a0\"}]-&gt;(\"54f17ec3-c06f-493e-bad8-c8a527708540\")</td>\n",
       "    </tr>\n",
       "    <tr>\n",
       "      <th>4</th>\n",
       "      <td>(\"Vol. 3\")-[:Relation__@0{_node_content: __NULL__, _node_type: __NULL__, creation_date: __NULL__, doc_id: __NULL__, document_id: __NULL__, file_name: __NULL__, file_path: __NULL__, file_size: __NULL__, file_type: __NULL__, label: \"Released in\", last_modified_date: __NULL__, ref_doc_id: __NULL__, triplet_source_id: \"fc5797bc-5797-4ce1-b154-5697e899197a\"}]-&gt;(\"2023\")</td>\n",
       "    </tr>\n",
       "    <tr>\n",
       "      <th>5</th>\n",
       "      <td>(\"Vol. 3\")-[:Relation__@0{_node_content: __NULL__, _node_type: __NULL__, creation_date: __NULL__, doc_id: __NULL__, document_id: __NULL__, file_name: __NULL__, file_path: __NULL__, file_size: __NULL__, file_type: __NULL__, label: \"Reveals\", last_modified_date: __NULL__, ref_doc_id: __NULL__, triplet_source_id: \"c966bec8-028f-4ded-8582-963fd717b2a0\"}]-&gt;(\"Backstory\")</td>\n",
       "    </tr>\n",
       "    <tr>\n",
       "      <th>6</th>\n",
       "      <td>(\"Vol. 3\")-[:Relation__@0{_node_content: __NULL__, _node_type: __NULL__, creation_date: __NULL__, doc_id: __NULL__, document_id: __NULL__, file_name: __NULL__, file_path: __NULL__, file_size: __NULL__, file_type: __NULL__, label: \"Fulfills\", last_modified_date: __NULL__, ref_doc_id: __NULL__, triplet_source_id: \"994caf4a-1d4a-45a6-8f2d-22f2bbda6766\"}]-&gt;(\"Character arc\")</td>\n",
       "    </tr>\n",
       "    <tr>\n",
       "      <th>7</th>\n",
       "      <td>(\"Vol. 3\")-[:Relation__@0{_node_content: __NULL__, _node_type: __NULL__, creation_date: __NULL__, doc_id: __NULL__, document_id: __NULL__, file_name: __NULL__, file_path: __NULL__, file_size: __NULL__, file_type: __NULL__, label: \"Is\", last_modified_date: __NULL__, ref_doc_id: __NULL__, triplet_source_id: \"e04d344a-84d8-468c-863b-46ed9744e263\"}]-&gt;(\"Emotional\")</td>\n",
       "    </tr>\n",
       "    <tr>\n",
       "      <th>8</th>\n",
       "      <td>(\"Vol. 3\")-[:Relation__@0{_node_content: __NULL__, _node_type: __NULL__, creation_date: __NULL__, doc_id: __NULL__, document_id: __NULL__, file_name: __NULL__, file_path: __NULL__, file_size: __NULL__, file_type: __NULL__, label: \"Put on hold\", last_modified_date: __NULL__, ref_doc_id: __NULL__, triplet_source_id: \"5196d1c1-c95b-4941-a99c-9a652ab5920d\"}]-&gt;(\"February 2021\")</td>\n",
       "    </tr>\n",
       "    <tr>\n",
       "      <th>9</th>\n",
       "      <td>(\"Vol. 3\")-[:Relation__@0{_node_content: __NULL__, _node_type: __NULL__, creation_date: __NULL__, doc_id: __NULL__, document_id: __NULL__, file_name: __NULL__, file_path: __NULL__, file_size: __NULL__, file_type: __NULL__, label: \"Filming\", last_modified_date: __NULL__, ref_doc_id: __NULL__, triplet_source_id: \"12768dc1-4a91-42ea-bcc0-21ff35af0cad\"}]-&gt;(\"February to late april 2022\")</td>\n",
       "    </tr>\n",
       "  </tbody>\n",
       "</table>\n",
       "</div>"
      ],
      "text/plain": [
       "                                                                                                                                                                                                                                                                                                                                                                                                                                           e\n",
       "0      (\"d0e04b2e-9ed2-4c2a-8719-dac82cb3cc35\")-[:Relation__@0{_node_content: __NULL__, _node_type: __NULL__, creation_date: __NULL__, doc_id: __NULL__, document_id: __NULL__, file_name: __NULL__, file_path: __NULL__, file_size: __NULL__, file_type: __NULL__, label: \"NEXT\", last_modified_date: __NULL__, ref_doc_id: __NULL__, triplet_source_id: \"d0e04b2e-9ed2-4c2a-8719-dac82cb3cc35\"}]->(\"04bc8029-0024-4552-a258-4c7d4ed7d762\")\n",
       "1  (\"d0e04b2e-9ed2-4c2a-8719-dac82cb3cc35\")-[:Relation__@0{_node_content: __NULL__, _node_type: __NULL__, creation_date: __NULL__, doc_id: __NULL__, document_id: __NULL__, file_name: __NULL__, file_path: __NULL__, file_size: __NULL__, file_type: __NULL__, label: \"PREVIOUS\", last_modified_date: __NULL__, ref_doc_id: __NULL__, triplet_source_id: \"d0e04b2e-9ed2-4c2a-8719-dac82cb3cc35\"}]->(\"3cfe5e88-d7e8-4492-a2f8-9a654bbce736\")\n",
       "2  (\"c966bec8-028f-4ded-8582-963fd717b2a0\")-[:Relation__@0{_node_content: __NULL__, _node_type: __NULL__, creation_date: __NULL__, doc_id: __NULL__, document_id: __NULL__, file_name: __NULL__, file_path: __NULL__, file_size: __NULL__, file_type: __NULL__, label: \"PREVIOUS\", last_modified_date: __NULL__, ref_doc_id: __NULL__, triplet_source_id: \"c966bec8-028f-4ded-8582-963fd717b2a0\"}]->(\"298ad01e-3eed-4dac-be9b-1e84a06bcc92\")\n",
       "3      (\"c966bec8-028f-4ded-8582-963fd717b2a0\")-[:Relation__@0{_node_content: __NULL__, _node_type: __NULL__, creation_date: __NULL__, doc_id: __NULL__, document_id: __NULL__, file_name: __NULL__, file_path: __NULL__, file_size: __NULL__, file_type: __NULL__, label: \"NEXT\", last_modified_date: __NULL__, ref_doc_id: __NULL__, triplet_source_id: \"c966bec8-028f-4ded-8582-963fd717b2a0\"}]->(\"54f17ec3-c06f-493e-bad8-c8a527708540\")\n",
       "4                                                             (\"Vol. 3\")-[:Relation__@0{_node_content: __NULL__, _node_type: __NULL__, creation_date: __NULL__, doc_id: __NULL__, document_id: __NULL__, file_name: __NULL__, file_path: __NULL__, file_size: __NULL__, file_type: __NULL__, label: \"Released in\", last_modified_date: __NULL__, ref_doc_id: __NULL__, triplet_source_id: \"fc5797bc-5797-4ce1-b154-5697e899197a\"}]->(\"2023\")\n",
       "5                                                            (\"Vol. 3\")-[:Relation__@0{_node_content: __NULL__, _node_type: __NULL__, creation_date: __NULL__, doc_id: __NULL__, document_id: __NULL__, file_name: __NULL__, file_path: __NULL__, file_size: __NULL__, file_type: __NULL__, label: \"Reveals\", last_modified_date: __NULL__, ref_doc_id: __NULL__, triplet_source_id: \"c966bec8-028f-4ded-8582-963fd717b2a0\"}]->(\"Backstory\")\n",
       "6                                                       (\"Vol. 3\")-[:Relation__@0{_node_content: __NULL__, _node_type: __NULL__, creation_date: __NULL__, doc_id: __NULL__, document_id: __NULL__, file_name: __NULL__, file_path: __NULL__, file_size: __NULL__, file_type: __NULL__, label: \"Fulfills\", last_modified_date: __NULL__, ref_doc_id: __NULL__, triplet_source_id: \"994caf4a-1d4a-45a6-8f2d-22f2bbda6766\"}]->(\"Character arc\")\n",
       "7                                                                 (\"Vol. 3\")-[:Relation__@0{_node_content: __NULL__, _node_type: __NULL__, creation_date: __NULL__, doc_id: __NULL__, document_id: __NULL__, file_name: __NULL__, file_path: __NULL__, file_size: __NULL__, file_type: __NULL__, label: \"Is\", last_modified_date: __NULL__, ref_doc_id: __NULL__, triplet_source_id: \"e04d344a-84d8-468c-863b-46ed9744e263\"}]->(\"Emotional\")\n",
       "8                                                    (\"Vol. 3\")-[:Relation__@0{_node_content: __NULL__, _node_type: __NULL__, creation_date: __NULL__, doc_id: __NULL__, document_id: __NULL__, file_name: __NULL__, file_path: __NULL__, file_size: __NULL__, file_type: __NULL__, label: \"Put on hold\", last_modified_date: __NULL__, ref_doc_id: __NULL__, triplet_source_id: \"5196d1c1-c95b-4941-a99c-9a652ab5920d\"}]->(\"February 2021\")\n",
       "9                                          (\"Vol. 3\")-[:Relation__@0{_node_content: __NULL__, _node_type: __NULL__, creation_date: __NULL__, doc_id: __NULL__, document_id: __NULL__, file_name: __NULL__, file_path: __NULL__, file_size: __NULL__, file_type: __NULL__, label: \"Filming\", last_modified_date: __NULL__, ref_doc_id: __NULL__, triplet_source_id: \"12768dc1-4a91-42ea-bcc0-21ff35af0cad\"}]->(\"February to late april 2022\")"
      ]
     },
     "execution_count": 35,
     "metadata": {},
     "output_type": "execute_result"
    }
   ],
   "source": [
    "# Query some random Relationships with Cypher\n",
    "\n",
    "%ngql USE $space_name;\n",
    "%ngql MATCH (p)-[e]->(q) RETURN e LIMIT 10"
   ]
  },
  {
   "cell_type": "code",
   "execution_count": 36,
   "metadata": {},
   "outputs": [
    {
     "name": "stdout",
     "output_type": "stream",
     "text": [
      "INFO:nebula3.logger:Get connection to ('34.55.198.242', 9669)\n",
      "INFO:nebula3.logger:Get connection to ('34.55.198.242', 9669)\n"
     ]
    },
    {
     "data": {
      "text/html": [
       "<div>\n",
       "<style scoped>\n",
       "    .dataframe tbody tr th:only-of-type {\n",
       "        vertical-align: middle;\n",
       "    }\n",
       "\n",
       "    .dataframe tbody tr th {\n",
       "        vertical-align: top;\n",
       "    }\n",
       "\n",
       "    .dataframe thead th {\n",
       "        text-align: right;\n",
       "    }\n",
       "</style>\n",
       "<table border=\"1\" class=\"dataframe\">\n",
       "  <thead>\n",
       "    <tr style=\"text-align: right;\">\n",
       "      <th></th>\n",
       "      <th>Name</th>\n",
       "    </tr>\n",
       "  </thead>\n",
       "  <tbody>\n",
       "    <tr>\n",
       "      <th>0</th>\n",
       "      <td>Chunk__</td>\n",
       "    </tr>\n",
       "    <tr>\n",
       "      <th>1</th>\n",
       "      <td>Entity__</td>\n",
       "    </tr>\n",
       "    <tr>\n",
       "      <th>2</th>\n",
       "      <td>Node__</td>\n",
       "    </tr>\n",
       "    <tr>\n",
       "      <th>3</th>\n",
       "      <td>Props__</td>\n",
       "    </tr>\n",
       "  </tbody>\n",
       "</table>\n",
       "</div>"
      ],
      "text/plain": [
       "       Name\n",
       "0   Chunk__\n",
       "1  Entity__\n",
       "2    Node__\n",
       "3   Props__"
      ]
     },
     "execution_count": 36,
     "metadata": {},
     "output_type": "execute_result"
    }
   ],
   "source": [
    "TAGS = %ngql SHOW TAGS\n",
    "%ngql SHOW TAGS"
   ]
  },
  {
   "cell_type": "code",
   "execution_count": 37,
   "metadata": {},
   "outputs": [
    {
     "name": "stdout",
     "output_type": "stream",
     "text": [
      "INFO:nebula3.logger:Get connection to ('34.55.198.242', 9669)\n",
      "INFO:nebula3.logger:Get connection to ('34.55.198.242', 9669)\n"
     ]
    },
    {
     "data": {
      "text/html": [
       "<div>\n",
       "<style scoped>\n",
       "    .dataframe tbody tr th:only-of-type {\n",
       "        vertical-align: middle;\n",
       "    }\n",
       "\n",
       "    .dataframe tbody tr th {\n",
       "        vertical-align: top;\n",
       "    }\n",
       "\n",
       "    .dataframe thead th {\n",
       "        text-align: right;\n",
       "    }\n",
       "</style>\n",
       "<table border=\"1\" class=\"dataframe\">\n",
       "  <thead>\n",
       "    <tr style=\"text-align: right;\">\n",
       "      <th></th>\n",
       "      <th>Name</th>\n",
       "    </tr>\n",
       "  </thead>\n",
       "  <tbody>\n",
       "    <tr>\n",
       "      <th>0</th>\n",
       "      <td>Relation__</td>\n",
       "    </tr>\n",
       "    <tr>\n",
       "      <th>1</th>\n",
       "      <td>__meta__node_label__</td>\n",
       "    </tr>\n",
       "    <tr>\n",
       "      <th>2</th>\n",
       "      <td>__meta__rel_label__</td>\n",
       "    </tr>\n",
       "  </tbody>\n",
       "</table>\n",
       "</div>"
      ],
      "text/plain": [
       "                   Name\n",
       "0            Relation__\n",
       "1  __meta__node_label__\n",
       "2   __meta__rel_label__"
      ]
     },
     "execution_count": 37,
     "metadata": {},
     "output_type": "execute_result"
    }
   ],
   "source": [
    "EDGES = %ngql SHOW EDGES\n",
    "%ngql SHOW EDGES"
   ]
  },
  {
   "cell_type": "code",
   "execution_count": 38,
   "metadata": {},
   "outputs": [
    {
     "name": "stdout",
     "output_type": "stream",
     "text": [
      "INFO:nebula3.logger:Get connection to ('34.55.198.242', 9669)\n",
      "INFO:nebula3.logger:Get connection to ('34.55.198.242', 9669)\n",
      "INFO:nebula3.logger:Get connection to ('34.55.198.242', 9669)\n"
     ]
    },
    {
     "data": {
      "text/html": [
       "<div>\n",
       "<style scoped>\n",
       "    .dataframe tbody tr th:only-of-type {\n",
       "        vertical-align: middle;\n",
       "    }\n",
       "\n",
       "    .dataframe tbody tr th {\n",
       "        vertical-align: top;\n",
       "    }\n",
       "\n",
       "    .dataframe thead th {\n",
       "        text-align: right;\n",
       "    }\n",
       "</style>\n",
       "<table border=\"1\" class=\"dataframe\">\n",
       "  <thead>\n",
       "    <tr style=\"text-align: right;\">\n",
       "      <th></th>\n",
       "    </tr>\n",
       "  </thead>\n",
       "  <tbody>\n",
       "  </tbody>\n",
       "</table>\n",
       "</div>"
      ],
      "text/plain": [
       "Empty DataFrame\n",
       "Columns: []\n",
       "Index: []"
      ]
     },
     "execution_count": 38,
     "metadata": {},
     "output_type": "execute_result"
    }
   ],
   "source": [
    "# Index the schema for querying\n",
    "%ngql CREATE TAG INDEX IF NOT EXISTS entity_index on Entity__();\n",
    "%ngql CREATE TAG INDEX IF NOT EXISTS props_index on Props__();\n",
    "%ngql CREATE EDGE INDEX IF NOT EXISTS relation_index on Relation__();"
   ]
  },
  {
   "cell_type": "code",
   "execution_count": 39,
   "metadata": {},
   "outputs": [
    {
     "name": "stdout",
     "output_type": "stream",
     "text": [
      "INFO:nebula3.logger:Get connection to ('34.55.198.242', 9669)\n"
     ]
    },
    {
     "data": {
      "text/html": [
       "<div>\n",
       "<style scoped>\n",
       "    .dataframe tbody tr th:only-of-type {\n",
       "        vertical-align: middle;\n",
       "    }\n",
       "\n",
       "    .dataframe tbody tr th {\n",
       "        vertical-align: top;\n",
       "    }\n",
       "\n",
       "    .dataframe thead th {\n",
       "        text-align: right;\n",
       "    }\n",
       "</style>\n",
       "<table border=\"1\" class=\"dataframe\">\n",
       "  <thead>\n",
       "    <tr style=\"text-align: right;\">\n",
       "      <th></th>\n",
       "      <th>src</th>\n",
       "      <th>relation</th>\n",
       "      <th>dest</th>\n",
       "    </tr>\n",
       "  </thead>\n",
       "  <tbody>\n",
       "    <tr>\n",
       "      <th>0</th>\n",
       "      <td>Vol. 3</td>\n",
       "      <td>Released in</td>\n",
       "      <td>2023</td>\n",
       "    </tr>\n",
       "    <tr>\n",
       "      <th>1</th>\n",
       "      <td>Vol. 3</td>\n",
       "      <td>Reveals</td>\n",
       "      <td>Backstory</td>\n",
       "    </tr>\n",
       "    <tr>\n",
       "      <th>2</th>\n",
       "      <td>Vol. 3</td>\n",
       "      <td>Fulfills</td>\n",
       "      <td>Character arc</td>\n",
       "    </tr>\n",
       "    <tr>\n",
       "      <th>3</th>\n",
       "      <td>Vol. 3</td>\n",
       "      <td>Is</td>\n",
       "      <td>Emotional</td>\n",
       "    </tr>\n",
       "    <tr>\n",
       "      <th>4</th>\n",
       "      <td>Vol. 3</td>\n",
       "      <td>Put on hold</td>\n",
       "      <td>February 2021</td>\n",
       "    </tr>\n",
       "    <tr>\n",
       "      <th>5</th>\n",
       "      <td>Vol. 3</td>\n",
       "      <td>Filming</td>\n",
       "      <td>February to late april 2022</td>\n",
       "    </tr>\n",
       "    <tr>\n",
       "      <th>6</th>\n",
       "      <td>Vol. 3</td>\n",
       "      <td>Is</td>\n",
       "      <td>First mcu film</td>\n",
       "    </tr>\n",
       "    <tr>\n",
       "      <th>7</th>\n",
       "      <td>Vol. 3</td>\n",
       "      <td>Uses</td>\n",
       "      <td>Flashbacks</td>\n",
       "    </tr>\n",
       "    <tr>\n",
       "      <th>8</th>\n",
       "      <td>Vol. 3</td>\n",
       "      <td>Tonal difference</td>\n",
       "      <td>Holiday special</td>\n",
       "    </tr>\n",
       "    <tr>\n",
       "      <th>9</th>\n",
       "      <td>Vol. 3</td>\n",
       "      <td>Filming</td>\n",
       "      <td>Late 2021</td>\n",
       "    </tr>\n",
       "    <tr>\n",
       "      <th>10</th>\n",
       "      <td>Vol. 3</td>\n",
       "      <td>Is</td>\n",
       "      <td>Mcu film</td>\n",
       "    </tr>\n",
       "    <tr>\n",
       "      <th>11</th>\n",
       "      <td>Vol. 3</td>\n",
       "      <td>Explores</td>\n",
       "      <td>Origin story</td>\n",
       "    </tr>\n",
       "    <tr>\n",
       "      <th>12</th>\n",
       "      <td>Vol. 3</td>\n",
       "      <td>Explores</td>\n",
       "      <td>Origin story rocket</td>\n",
       "    </tr>\n",
       "    <tr>\n",
       "      <th>13</th>\n",
       "      <td>Vol. 3</td>\n",
       "      <td>Spoken by</td>\n",
       "      <td>Quill</td>\n",
       "    </tr>\n",
       "    <tr>\n",
       "      <th>14</th>\n",
       "      <td>Vol. 3</td>\n",
       "      <td>Provide</td>\n",
       "      <td>Relief</td>\n",
       "    </tr>\n",
       "  </tbody>\n",
       "</table>\n",
       "</div>"
      ],
      "text/plain": [
       "       src          relation                         dest\n",
       "0   Vol. 3       Released in                         2023\n",
       "1   Vol. 3           Reveals                    Backstory\n",
       "2   Vol. 3          Fulfills                Character arc\n",
       "3   Vol. 3                Is                    Emotional\n",
       "4   Vol. 3       Put on hold                February 2021\n",
       "5   Vol. 3           Filming  February to late april 2022\n",
       "6   Vol. 3                Is               First mcu film\n",
       "7   Vol. 3              Uses                   Flashbacks\n",
       "8   Vol. 3  Tonal difference              Holiday special\n",
       "9   Vol. 3           Filming                    Late 2021\n",
       "10  Vol. 3                Is                     Mcu film\n",
       "11  Vol. 3          Explores                 Origin story\n",
       "12  Vol. 3          Explores          Origin story rocket\n",
       "13  Vol. 3         Spoken by                        Quill\n",
       "14  Vol. 3           Provide                       Relief"
      ]
     },
     "execution_count": 39,
     "metadata": {},
     "output_type": "execute_result"
    }
   ],
   "source": [
    "%ngql MATCH p=(v:Entity__)-[r]->(t:Entity__) RETURN v.Entity__.name AS src, r.label AS relation, t.Entity__.name AS dest LIMIT 15;"
   ]
  },
  {
   "cell_type": "code",
   "execution_count": 128,
   "metadata": {},
   "outputs": [
    {
     "data": {
      "text/html": [
       "\n",
       "        <iframe\n",
       "            width=\"100%\"\n",
       "            height=\"500px\"\n",
       "            src=\"nebulagraph_cell_128.html\"\n",
       "            frameborder=\"0\"\n",
       "            allowfullscreen\n",
       "            \n",
       "        ></iframe>\n",
       "        "
      ],
      "text/plain": [
       "<IPython.lib.display.IFrame at 0x3387bf020>"
      ]
     },
     "metadata": {},
     "output_type": "display_data"
    },
    {
     "data": {
      "text/plain": [
       "<class 'pyvis.network.Network'> |N|=16 |E|=15"
      ]
     },
     "execution_count": 128,
     "metadata": {},
     "output_type": "execute_result"
    }
   ],
   "source": [
    "%ng_draw"
   ]
  },
  {
   "cell_type": "markdown",
   "metadata": {},
   "source": [
    "### The rendered output should look like this:\n",
    "\n",
    "![](./graph_output.png)"
   ]
  },
  {
   "cell_type": "markdown",
   "metadata": {
    "id": "yc2N1xD1ETV5"
   },
   "source": [
    "# Querying and Retrieval\n",
    "1. Getting a simple graph from a query"
   ]
  },
  {
   "cell_type": "code",
   "execution_count": 40,
   "metadata": {},
   "outputs": [],
   "source": [
    "subgraph_retriever = index.as_retriever(\n",
    "    include_text=False,  # include source text in returned nodes, default True\n",
    ")"
   ]
  },
  {
   "cell_type": "code",
   "execution_count": 41,
   "metadata": {
    "id": "mCdHZRKUETV5",
    "outputId": "566480bd-60c7-44ff-e59a-4438f955d9bc"
   },
   "outputs": [
    {
     "data": {
      "text/markdown": [
       "Guardians of the galaxy vol. 3 -> Dethroned -> Fast x"
      ],
      "text/plain": [
       "<IPython.core.display.Markdown object>"
      ]
     },
     "metadata": {},
     "output_type": "display_data"
    },
    {
     "data": {
      "text/markdown": [
       "Guardians of the galaxy vol. 3 -> Directed -> Gunn"
      ],
      "text/plain": [
       "<IPython.core.display.Markdown object>"
      ]
     },
     "metadata": {},
     "output_type": "display_data"
    },
    {
     "data": {
      "text/markdown": [
       "Guardians of the galaxy vol. 3 -> Projected to gross -> $110 million"
      ],
      "text/plain": [
       "<IPython.core.display.Markdown object>"
      ]
     },
     "metadata": {},
     "output_type": "display_data"
    },
    {
     "data": {
      "text/markdown": [
       "Guardians of the galaxy vol. 3 -> Debuted with -> $118.4 million"
      ],
      "text/plain": [
       "<IPython.core.display.Markdown object>"
      ]
     },
     "metadata": {},
     "output_type": "display_data"
    },
    {
     "data": {
      "text/markdown": [
       "Guardians of the galaxy vol. 3 -> Net profit -> $124 million"
      ],
      "text/plain": [
       "<IPython.core.display.Markdown object>"
      ]
     },
     "metadata": {},
     "output_type": "display_data"
    },
    {
     "data": {
      "text/markdown": [
       "Guardians of the galaxy vol. 3 -> Grossed -> $168.1 million"
      ],
      "text/plain": [
       "<IPython.core.display.Markdown object>"
      ]
     },
     "metadata": {},
     "output_type": "display_data"
    },
    {
     "data": {
      "text/markdown": [
       "Guardians of the galaxy vol. 3 -> Made -> $17.5 million"
      ],
      "text/plain": [
       "<IPython.core.display.Markdown object>"
      ]
     },
     "metadata": {},
     "output_type": "display_data"
    },
    {
     "data": {
      "text/markdown": [
       "Guardians of the galaxy vol. 3 -> Grossed -> $358.9 million"
      ],
      "text/plain": [
       "<IPython.core.display.Markdown object>"
      ]
     },
     "metadata": {},
     "output_type": "display_data"
    },
    {
     "data": {
      "text/markdown": [
       "Guardians of the galaxy vol. 3 -> Made -> $48.2 million"
      ],
      "text/plain": [
       "<IPython.core.display.Markdown object>"
      ]
     },
     "metadata": {},
     "output_type": "display_data"
    },
    {
     "data": {
      "text/markdown": [
       "Guardians of the galaxy vol. 3 -> Grossed -> $486.6 million"
      ],
      "text/plain": [
       "<IPython.core.display.Markdown object>"
      ]
     },
     "metadata": {},
     "output_type": "display_data"
    },
    {
     "data": {
      "text/markdown": [
       "Guardians of the galaxy vol. 3 -> Made -> $62 million"
      ],
      "text/plain": [
       "<IPython.core.display.Markdown object>"
      ]
     },
     "metadata": {},
     "output_type": "display_data"
    },
    {
     "data": {
      "text/markdown": [
       "Guardians of the galaxy vol. 3 -> Grossed -> $845.6 million"
      ],
      "text/plain": [
       "<IPython.core.display.Markdown object>"
      ]
     },
     "metadata": {},
     "output_type": "display_data"
    },
    {
     "data": {
      "text/markdown": [
       "Guardians of the galaxy vol. 3 -> Grossed -> $92 million"
      ],
      "text/plain": [
       "<IPython.core.display.Markdown object>"
      ]
     },
     "metadata": {},
     "output_type": "display_data"
    },
    {
     "data": {
      "text/markdown": [
       "Guardians of the galaxy vol. 3 -> Dropped -> 40%"
      ],
      "text/plain": [
       "<IPython.core.display.Markdown object>"
      ]
     },
     "metadata": {},
     "output_type": "display_data"
    },
    {
     "data": {
      "text/markdown": [
       "Guardians of the galaxy vol. 3 -> Declined -> 48%"
      ],
      "text/plain": [
       "<IPython.core.display.Markdown object>"
      ]
     },
     "metadata": {},
     "output_type": "display_data"
    },
    {
     "data": {
      "text/markdown": [
       "Guardians of the galaxy vol. 3 -> Set after -> Avengers: endgame"
      ],
      "text/plain": [
       "<IPython.core.display.Markdown object>"
      ]
     },
     "metadata": {},
     "output_type": "display_data"
    },
    {
     "data": {
      "text/markdown": [
       "Guardians of the galaxy vol. 3 -> Set after -> Avengers: infinity war"
      ],
      "text/plain": [
       "<IPython.core.display.Markdown object>"
      ]
     },
     "metadata": {},
     "output_type": "display_data"
    },
    {
     "data": {
      "text/markdown": [
       "Guardians of the galaxy vol. 3 -> Hold -> Best second-weekend"
      ],
      "text/plain": [
       "<IPython.core.display.Markdown object>"
      ]
     },
     "metadata": {},
     "output_type": "display_data"
    },
    {
     "data": {
      "text/markdown": [
       "Guardians of the galaxy vol. 3 -> Topped -> Box office"
      ],
      "text/plain": [
       "<IPython.core.display.Markdown object>"
      ]
     },
     "metadata": {},
     "output_type": "display_data"
    },
    {
     "data": {
      "text/markdown": [
       "Guardians of the galaxy vol. 3 -> Features -> Chris pratt"
      ],
      "text/plain": [
       "<IPython.core.display.Markdown object>"
      ]
     },
     "metadata": {},
     "output_type": "display_data"
    },
    {
     "data": {
      "text/markdown": [
       "Guardians of the galaxy vol. 3 -> Features -> Dave bautista"
      ],
      "text/plain": [
       "<IPython.core.display.Markdown object>"
      ]
     },
     "metadata": {},
     "output_type": "display_data"
    },
    {
     "data": {
      "text/markdown": [
       "Guardians of the galaxy vol. 3 -> Premiered -> Disneyland paris"
      ],
      "text/plain": [
       "<IPython.core.display.Markdown object>"
      ]
     },
     "metadata": {},
     "output_type": "display_data"
    },
    {
     "data": {
      "text/markdown": [
       "Guardians of the galaxy vol. 3 -> Is sequel to -> Guardians of the galaxy"
      ],
      "text/plain": [
       "<IPython.core.display.Markdown object>"
      ]
     },
     "metadata": {},
     "output_type": "display_data"
    },
    {
     "data": {
      "text/markdown": [
       "Guardians of the galaxy vol. 3 -> Is sequel to -> Guardians of the galaxy vol. 2"
      ],
      "text/plain": [
       "<IPython.core.display.Markdown object>"
      ]
     },
     "metadata": {},
     "output_type": "display_data"
    },
    {
     "data": {
      "text/markdown": [
       "Guardians of the galaxy vol. 3 -> Directed by -> James gunn"
      ],
      "text/plain": [
       "<IPython.core.display.Markdown object>"
      ]
     },
     "metadata": {},
     "output_type": "display_data"
    },
    {
     "data": {
      "text/markdown": [
       "Guardians of the galaxy vol. 3 -> Features -> Karen gillan"
      ],
      "text/plain": [
       "<IPython.core.display.Markdown object>"
      ]
     },
     "metadata": {},
     "output_type": "display_data"
    },
    {
     "data": {
      "text/markdown": [
       "Guardians of the galaxy vol. 3 -> Is film in -> Marvel cinematic universe"
      ],
      "text/plain": [
       "<IPython.core.display.Markdown object>"
      ]
     },
     "metadata": {},
     "output_type": "display_data"
    },
    {
     "data": {
      "text/markdown": [
       "Guardians of the galaxy vol. 3 -> Produced by -> Marvel studios"
      ],
      "text/plain": [
       "<IPython.core.display.Markdown object>"
      ]
     },
     "metadata": {},
     "output_type": "display_data"
    },
    {
     "data": {
      "text/markdown": [
       "Guardians of the galaxy vol. 3 -> Released -> May 5"
      ],
      "text/plain": [
       "<IPython.core.display.Markdown object>"
      ]
     },
     "metadata": {},
     "output_type": "display_data"
    },
    {
     "data": {
      "text/markdown": [
       "Guardians of the galaxy vol. 3 -> Features -> Pom klementieff"
      ],
      "text/plain": [
       "<IPython.core.display.Markdown object>"
      ]
     },
     "metadata": {},
     "output_type": "display_data"
    },
    {
     "data": {
      "text/markdown": [
       "The making of guardians of the galaxy vol. 3 -> Released on -> Disney+"
      ],
      "text/plain": [
       "<IPython.core.display.Markdown object>"
      ]
     },
     "metadata": {},
     "output_type": "display_data"
    },
    {
     "data": {
      "text/markdown": [
       "The making of guardians of the galaxy vol. 3 -> Is -> Special"
      ],
      "text/plain": [
       "<IPython.core.display.Markdown object>"
      ]
     },
     "metadata": {},
     "output_type": "display_data"
    },
    {
     "data": {
      "text/markdown": [
       "Gunn chose practical effects for vol. 3 -> Said -> Beth mickle"
      ],
      "text/plain": [
       "<IPython.core.display.Markdown object>"
      ]
     },
     "metadata": {},
     "output_type": "display_data"
    },
    {
     "data": {
      "text/markdown": [
       "Story of this iteration of the guardians of the galaxy -> Conclude -> Film"
      ],
      "text/plain": [
       "<IPython.core.display.Markdown object>"
      ]
     },
     "metadata": {},
     "output_type": "display_data"
    },
    {
     "data": {
      "text/markdown": [
       "Return to write and direct guardians of the galaxy vol. 3 -> Announced -> Gunn"
      ],
      "text/plain": [
       "<IPython.core.display.Markdown object>"
      ]
     },
     "metadata": {},
     "output_type": "display_data"
    },
    {
     "data": {
      "text/markdown": [
       "Return to write and direct guardians of the galaxy vol. 3 -> Announced -> James gunn"
      ],
      "text/plain": [
       "<IPython.core.display.Markdown object>"
      ]
     },
     "metadata": {},
     "output_type": "display_data"
    }
   ],
   "source": [
    "from IPython.display import display, Markdown\n",
    "\n",
    "nodes = subgraph_retriever.retrieve(\n",
    "    \"Tell me about the production of Guardians of the Galaxy 3\",\n",
    ")\n",
    "node_text = \"\"\n",
    "for node in nodes:\n",
    "    display(Markdown(f\"{node.text}\"))"
   ]
  },
  {
   "cell_type": "markdown",
   "metadata": {},
   "source": [
    "2. Getting a NL query over the graph"
   ]
  },
  {
   "cell_type": "code",
   "execution_count": 42,
   "metadata": {},
   "outputs": [],
   "source": [
    "query_engine = index.as_query_engine(\n",
    "    streaming=True,\n",
    "    include_text=True,  # include source text in returned nodes, default True\n",
    ")"
   ]
  },
  {
   "cell_type": "code",
   "execution_count": 43,
   "metadata": {},
   "outputs": [
    {
     "name": "stdout",
     "output_type": "stream",
     "text": [
      "James Gunn announced in 2017 that he would return to write and direct Guardians of the Galaxy Vol. 3. He said the film would be set after Avengers: Infinity War and Avengers: Endgame, and would \"conclude the story of this iteration of the Guardians of the Galaxy, and help catapult both old and new Marvel characters into the next ten years and beyond\". He also felt that the three Guardians films would \"work together as a whole\", telling one story, with the third film \"tying a lot of stuff together\" from the first two and giving \"a lot of answers on a lot of different things\". Gunn also planned to work with Marvel on the future of the \"Marvel Cosmic Universe\". He was set to begin work on Vol. 3, but was fired by Disney in July 2018 after old tweets of his resurfaced. Despite this, Gunn was rehired by Disney in October 2019 and returned to direct Guardians of the Galaxy Vol. 3. \n"
     ]
    },
    {
     "data": {
      "text/plain": [
       "<IPython.core.display.Markdown object>"
      ]
     },
     "metadata": {},
     "output_type": "display_data"
    }
   ],
   "source": [
    "response = query_engine.query(\n",
    "    \"Tell me about the production of Guardians of the Galaxy 3 and it's relation to James Gunn?\",\n",
    ")\n",
    "display(Markdown(response.print_response_stream()))"
   ]
  },
  {
   "cell_type": "markdown",
   "metadata": {},
   "source": [
    "#### Check on source nodes"
   ]
  },
  {
   "cell_type": "code",
   "execution_count": 44,
   "metadata": {},
   "outputs": [
    {
     "data": {
      "text/plain": [
       "[NodeWithScore(node=TextNode(id_='4ea2b508-ccc9-40b8-8d50-62f1400ea221', embedding=None, metadata={}, excluded_embed_metadata_keys=[], excluded_llm_metadata_keys=[], relationships={<NodeRelationship.SOURCE: '1'>: RelatedNodeInfo(node_id='51126744', node_type=<ObjectType.DOCUMENT: '4'>, metadata={}, hash='fd9ffa2f4b966406369dcea5703227e5ff64dcf6534cb232c1b41552186b3b03'), <NodeRelationship.PREVIOUS: '2'>: RelatedNodeInfo(node_id='aff90cc3-d378-4b5e-a3ec-8babd46063e6', node_type=<ObjectType.TEXT: '1'>, metadata={}, hash='b72ffe073abc4ac3e8bc94e1cdbe96e2d43fc85e2d52946a0c606a0a073defb6'), <NodeRelationship.NEXT: '3'>: RelatedNodeInfo(node_id='64dc6745-d313-412d-b95d-416d6da3acca', node_type=<ObjectType.TEXT: '1'>, metadata={}, hash='13704853a2486d9fbd3c4d9844372c71bbfc359e729e83328bb4ac03baba7f39')}, text='Here are some facts extracted from the provided text:\\n\\nGuardians of the galaxy vol. 3 -> Dethroned -> Fast x\\nGuardians of the galaxy vol. 3 -> Directed -> Gunn\\nGuardians of the galaxy vol. 3 -> Projected to gross -> $110 million\\nGuardians of the galaxy vol. 3 -> Debuted with -> $118.4 million\\nGuardians of the galaxy vol. 3 -> Net profit -> $124 million\\nGuardians of the galaxy vol. 3 -> Grossed -> $168.1 million\\nGuardians of the galaxy vol. 3 -> Made -> $17.5 million\\nGuardians of the galaxy vol. 3 -> Grossed -> $358.9 million\\nGuardians of the galaxy vol. 3 -> Made -> $48.2 million\\nGuardians of the galaxy vol. 3 -> Grossed -> $486.6 million\\nGuardians of the galaxy vol. 3 -> Made -> $62 million\\nGuardians of the galaxy vol. 3 -> Grossed -> $845.6 million\\nGuardians of the galaxy vol. 3 -> Grossed -> $92 million\\nGuardians of the galaxy vol. 3 -> Dropped -> 40%\\nGuardians of the galaxy vol. 3 -> Declined -> 48%\\nGuardians of the galaxy vol. 3 -> Set after -> Avengers: endgame\\nGuardians of the galaxy vol. 3 -> Set after -> Avengers: infinity war\\nGuardians of the galaxy vol. 3 -> Hold -> Best second-weekend\\nGuardians of the galaxy vol. 3 -> Topped -> Box office\\nGuardians of the galaxy vol. 3 -> Features -> Chris pratt\\nGuardians of the galaxy vol. 3 -> Features -> Dave bautista\\nGuardians of the galaxy vol. 3 -> Premiered -> Disneyland paris\\nGuardians of the galaxy vol. 3 -> Is sequel to -> Guardians of the galaxy\\nGuardians of the galaxy vol. 3 -> Is sequel to -> Guardians of the galaxy vol. 2\\nGuardians of the galaxy vol. 3 -> Directed by -> James gunn\\nGuardians of the galaxy vol. 3 -> Features -> Karen gillan\\nGuardians of the galaxy vol. 3 -> Is film in -> Marvel cinematic universe\\nGuardians of the galaxy vol. 3 -> Produced by -> Marvel studios\\nGuardians of the galaxy vol. 3 -> Released -> May 5\\nGuardians of the galaxy vol. 3 -> Features -> Pom klementieff\\n\\n3, it does feel like Marvel has spent $200 million on a movie about a melancholy space raccoon looking for love and acceptance.\"\\nWriting for The Verge, Charles Pulliam-Moore praised the film\\'s action sequences and storyline and commented that \"Guardians of the Galaxy Vol. 3 tells the action-packed, flashback-filled story of how Rocket Raccoon\\'s (Bradley Cooper) life being gravely endangered gives the rest of the Guardians a reason to come together and really start working on some of the emotional issues that\\'ve been haunting them since Endgame.\" The Hindustan Times praised Gunn\\'s direction and writing, commenting that \"As James Gunn concludes his journey with these characters he clearly cares so deeply about, you can\\'t help but reflect on your own. Walking out, I had my own little flashback montage playing in my head of all the adventures we\\'ve been on and foes we\\'ve faced with this lovable group of galaxy-saving idiots.\" Nathan Durr of CBS News praised the film\\'s soundtrack and stated that \"There\\'s no exception here regarding the soundtrack as Gunn and company cleverly implement songs that add weight to the complexities and emotions of the characters.\"', mimetype='text/plain', start_char_idx=47766, end_char_idx=48937, text_template='{metadata_str}\\n\\n{content}', metadata_template='{key}: {value}', metadata_seperator='\\n'), score=1.0),\n",
       " NodeWithScore(node=TextNode(id_='6612e694-2e48-405f-bd2d-4809c8ca3f26', embedding=None, metadata={}, excluded_embed_metadata_keys=[], excluded_llm_metadata_keys=[], relationships={<NodeRelationship.SOURCE: '1'>: RelatedNodeInfo(node_id='51126744', node_type=<ObjectType.DOCUMENT: '4'>, metadata={}, hash='fd9ffa2f4b966406369dcea5703227e5ff64dcf6534cb232c1b41552186b3b03'), <NodeRelationship.PREVIOUS: '2'>: RelatedNodeInfo(node_id='846e59f4-929b-4c0c-8ac9-058e2be2f563', node_type=<ObjectType.TEXT: '1'>, metadata={}, hash='79e0d5d7a62623916a01386b816aaf8cea0170138dd74aa7b25004465ee950fc'), <NodeRelationship.NEXT: '3'>: RelatedNodeInfo(node_id='96f41dd9-e26b-4f56-825b-c45452ee5231', node_type=<ObjectType.TEXT: '1'>, metadata={}, hash='a70bf20619e604a4aa0f028668fcb1468860e990f7ac81ae5937a5d2977a867b')}, text='Here are some facts extracted from the provided text:\\n\\nThe making of guardians of the galaxy vol. 3 -> Released on -> Disney+\\nThe making of guardians of the galaxy vol. 3 -> Is -> Special\\n\\n=== Accolades ===\\n\\n\\n== Documentary special ==\\n\\nIn February 2021, the documentary series Marvel Studios: Assembled was announced. The special on this film, \"The Making of Guardians of the Galaxy Vol. 3\", was released on Disney+ on September 13, 2023.\\n\\n\\n== Future ==\\nGunn said in April 2017 that a fourth Guardians film could happen, although, it would likely center on a new group of characters since Gunn planned to conclude the story of the current team in Vol. 3. Later in September, Gunn said he was unlikely to return for another Guardians film but would continue to work with Marvel Studios on other projects that use the Guardians and cosmic characters. One such project from Gunn was a film centered on Drax and Mantis, which Bautista called \"brilliant\". However, in May 2021, Bautista stated that he had not heard any further updates regarding it, feeling Marvel Studios was not \"very interested, or it doesn\\'t fit into the way they have things mapped out\". Gunn confirmed in September 2019 that he intended for Vol. 3 to be his last Guardians film, which he reaffirmed in May 2021.', mimetype='text/plain', start_char_idx=49455, end_char_idx=50545, text_template='{metadata_str}\\n\\n{content}', metadata_template='{key}: {value}', metadata_seperator='\\n'), score=0.661223815711733),\n",
       " NodeWithScore(node=TextNode(id_='4f250b76-5236-427d-bc55-b2e30827f314', embedding=None, metadata={}, excluded_embed_metadata_keys=[], excluded_llm_metadata_keys=[], relationships={<NodeRelationship.SOURCE: '1'>: RelatedNodeInfo(node_id='51126744', node_type=<ObjectType.DOCUMENT: '4'>, metadata={}, hash='fd9ffa2f4b966406369dcea5703227e5ff64dcf6534cb232c1b41552186b3b03'), <NodeRelationship.PREVIOUS: '2'>: RelatedNodeInfo(node_id='29df3a66-d04d-48fa-8d4b-1f76acf092dc', node_type=<ObjectType.TEXT: '1'>, metadata={}, hash='31bc16db2cf920b62cbb0478722db791fd837d20ee24957b723519806f5ca521'), <NodeRelationship.NEXT: '3'>: RelatedNodeInfo(node_id='43669ca8-7d0f-45a3-9c7b-3d5296a75c4f', node_type=<ObjectType.TEXT: '1'>, metadata={}, hash='8300db26824754816854d0561c2154502ec890849ba04cf76e9cc2f66ea0adf3')}, text='Here are some facts extracted from the provided text:\\n\\nGunn chose practical effects for vol. 3 -> Said -> Beth mickle\\n\\nProduction designer Beth Mickle said Gunn chose to mainly use practical effects for Vol. 3 after they did so with their work on The Suicide Squad. In February 2021, Gunn stated the film would be shot using Industrial Light & Magic\\'s StageCraft virtual production technology that was developed for the Disney+ Star Wars series The Mandalorian, but in October, he said they would not be able to use the technology because the sets were too big, believing they were larger than the sets used on The Suicide Squad. The interior of the Guardians\\' new ship, the Bowie, was a four-story set. Judianna Makovsky served as costume designer. The Guardians of the Galaxy Holiday Special was filmed at the same time as Vol. 3, from February to late April 2022, with the same main cast and sets. Gunn enjoyed being able to switch to filming the special after doing scenes for Vol. 3, given the tonal difference between the two with Vol. 3 being more \"emotional\", feeling it helped provide a \"relief\" to the actors as well, and called the Holiday Special shoot easier than Vol. 3.', mimetype='text/plain', start_char_idx=35017, end_char_idx=36082, text_template='{metadata_str}\\n\\n{content}', metadata_template='{key}: {value}', metadata_seperator='\\n'), score=0.6589590439319837),\n",
       " NodeWithScore(node=TextNode(id_='ab13c0c6-c364-4a59-a2d2-94b66748b7ce', embedding=None, metadata={}, excluded_embed_metadata_keys=[], excluded_llm_metadata_keys=[], relationships={<NodeRelationship.SOURCE: '1'>: RelatedNodeInfo(node_id='51126744', node_type=<ObjectType.DOCUMENT: '4'>, metadata={}, hash='fd9ffa2f4b966406369dcea5703227e5ff64dcf6534cb232c1b41552186b3b03'), <NodeRelationship.PREVIOUS: '2'>: RelatedNodeInfo(node_id='da26878b-b34b-4e01-8cd3-b2fd10dd31a5', node_type=<ObjectType.TEXT: '1'>, metadata={}, hash='c6bf2ff9e8b6e80b94faaa7509929fe45f9be8d10ed92094acc5b50bb37df652'), <NodeRelationship.NEXT: '3'>: RelatedNodeInfo(node_id='c00168f9-0616-466e-b17c-7ef167572753', node_type=<ObjectType.TEXT: '1'>, metadata={}, hash='f89dd670436cb2b8c82f6d9d106ccfcd6d0ae7c2ee09c9b84389f04aae89cbe2')}, text='Here are some facts extracted from the provided text:\\n\\nReturn to write and direct guardians of the galaxy vol. 3 -> Announced -> Gunn\\nReturn to write and direct guardians of the galaxy vol. 3 -> Announced -> James gunn\\n\\nHe also reiterated that he had not decided whether he would be directing the film, and that he was going to figure out his involvement and his next project \"over the next couple of weeks\". Part of Gunn\\'s reluctance to return to the franchise came from not wanting to work on it without Michael Rooker, whose character from the first two films, Yondu Udonta, died at the end of Vol. 2.\\n\\nGunn announced in April 2017 that he would return to write and direct Guardians of the Galaxy Vol. 3. He said the film would be set after Avengers: Infinity War (2018) and Avengers: Endgame (2019), and would \"conclude the story of this iteration of the Guardians of the Galaxy, and help catapult both old and new Marvel characters into the next ten years and beyond\". He also felt that the three Guardians films would \"work together as a whole\", telling one story, with the third film \"tying a lot of stuff together\" from the first two and giving \"a lot of answers on a lot of different things\". Gunn also planned to work with Marvel on the future of the \"Marvel Cosmic Universe\". He was set to begin work on Vol.', mimetype='text/plain', start_char_idx=17009, end_char_idx=18108, text_template='{metadata_str}\\n\\n{content}', metadata_template='{key}: {value}', metadata_seperator='\\n'), score=0.6284443273099588),\n",
       " NodeWithScore(node=TextNode(id_='25994849-f3a6-46fb-ab3c-fccaf2c69753', embedding=None, metadata={}, excluded_embed_metadata_keys=[], excluded_llm_metadata_keys=[], relationships={<NodeRelationship.SOURCE: '1'>: RelatedNodeInfo(node_id='51126744', node_type=<ObjectType.DOCUMENT: '4'>, metadata={}, hash='fd9ffa2f4b966406369dcea5703227e5ff64dcf6534cb232c1b41552186b3b03'), <NodeRelationship.PREVIOUS: '2'>: RelatedNodeInfo(node_id='497b16b3-1905-4c5f-965f-4c428b7704be', node_type=<ObjectType.TEXT: '1'>, metadata={}, hash='7995fc3fd3aa7ac4f1e00aa81320e58db0acc30ef21e99b4164dfbc84be6eab7'), <NodeRelationship.NEXT: '3'>: RelatedNodeInfo(node_id='f80cb507-573a-474f-9a40-d6a9e7f52c1b', node_type=<ObjectType.TEXT: '1'>, metadata={}, hash='d096a38adaa4b6ca8826e7fcb4562d4ee32faa2176547a3766dfcca24004eb76')}, text='Here are some facts extracted from the provided text:\\n\\nRumors gunn replaced established marvel directors -> Continued -> Variety\\n\\nDespite this and the notable \"vociferous support\" Gunn received, Variety reported that Disney was not planning to rehire him as the jokes were \"unacceptable in the #MeToo era and are not in line with Disney\\'s family-friendly image\". Variety continued that, despite rumors of Gunn being replaced by established Marvel directors such as Jon Favreau, Taika Waititi, or the Russo brothers, Marvel had yet to meet with any other director, and would most likely hire someone new. In early August, Bautista said that he would fulfill his contract and appear in the film as long as Marvel chose to use Gunn\\'s existing script.\\nDisney and Marvel still wanted to \"move forward quickly\" on the film, and were soon confirmed to be keeping Gunn\\'s script. This, combined with the fact that Gunn did not breach his contract since the tweets were written years before he signed on to the film, had led to \"complicated negotiations\" between Gunn and Disney over his exit settlement. Gunn was expected to be paid $7–10 million or more, and there was some hope that the negotiations could lead to him eventually returning in some capacity, \"even if [it was] to develop and direct another Marvel movie\".', mimetype='text/plain', start_char_idx=22509, end_char_idx=23691, text_template='{metadata_str}\\n\\n{content}', metadata_template='{key}: {value}', metadata_seperator='\\n'), score=0.6188784240040577)]"
      ]
     },
     "execution_count": 44,
     "metadata": {},
     "output_type": "execute_result"
    }
   ],
   "source": [
    "response.source_nodes"
   ]
  },
  {
   "cell_type": "code",
   "execution_count": 45,
   "metadata": {},
   "outputs": [
    {
     "data": {
      "text/plain": [
       "'> Source (Node id: 4ea2b508-ccc9-40b8-8d50-62f1400ea221): Here are some facts extracted from the provided text:\\n\\nGuardians of the galaxy vol. 3 -> Dethrone...\\n\\n> Source (Node id: 6612e694-2e48-405f-bd2d-4809c8ca3f26): Here are some facts extracted from the provided text:\\n\\nThe making of guardians of the galaxy vol....\\n\\n> Source (Node id: 4f250b76-5236-427d-bc55-b2e30827f314): Here are some facts extracted from the provided text:\\n\\nGunn chose practical effects for vol. 3 ->...\\n\\n> Source (Node id: ab13c0c6-c364-4a59-a2d2-94b66748b7ce): Here are some facts extracted from the provided text:\\n\\nReturn to write and direct guardians of th...\\n\\n> Source (Node id: 25994849-f3a6-46fb-ab3c-fccaf2c69753): Here are some facts extracted from the provided text:\\n\\nRumors gunn replaced established marvel di...'"
      ]
     },
     "execution_count": 45,
     "metadata": {},
     "output_type": "execute_result"
    }
   ],
   "source": [
    "response.get_formatted_sources()"
   ]
  },
  {
   "cell_type": "markdown",
   "metadata": {},
   "source": [
    "3. Using a hybrid query engine"
   ]
  },
  {
   "cell_type": "code",
   "execution_count": 46,
   "metadata": {},
   "outputs": [],
   "source": [
    "query_engine = index.as_query_engine(\n",
    "    include_text=True,\n",
    "    response_mode=\"tree_summarize\",\n",
    "    embedding_mode=\"hybrid\",\n",
    "    similarity_top_k=5,\n",
    ")"
   ]
  },
  {
   "cell_type": "code",
   "execution_count": 47,
   "metadata": {},
   "outputs": [
    {
     "data": {
      "text/markdown": [
       "<b>The film was directed by James Gunn and produced by Marvel Studios. It was released on May 5th and is a sequel to Guardians of the Galaxy and Guardians of the Galaxy Vol. 2. The film features Chris Pratt, Dave Bautista, Karen Gillan, and Bradley Cooper. It is set after Avengers: Infinity War and Avengers: Endgame. \n",
       "</b>"
      ],
      "text/plain": [
       "<IPython.core.display.Markdown object>"
      ]
     },
     "metadata": {},
     "output_type": "display_data"
    }
   ],
   "source": [
    "response = query_engine.query(\n",
    "    \"Tell me about the production of Guardians of the Galaxy 3?\",\n",
    ")\n",
    "display(Markdown(f\"<b>{response}</b>\"))"
   ]
  },
  {
   "cell_type": "code",
   "execution_count": 48,
   "metadata": {},
   "outputs": [
    {
     "data": {
      "text/markdown": [
       "<b>Star-Lord and Groot are members of the Guardians of the Galaxy and are close friends. \n",
       "</b>"
      ],
      "text/plain": [
       "<IPython.core.display.Markdown object>"
      ]
     },
     "metadata": {},
     "output_type": "display_data"
    }
   ],
   "source": [
    "response = await query_engine.aquery(\n",
    "    \"Tell me about Starlord's relationship to Groot?\",\n",
    ")\n",
    "display(Markdown(f\"<b>{response}</b>\"))"
   ]
  },
  {
   "cell_type": "markdown",
   "metadata": {},
   "source": [
    "4. Use `TextToCypherRetriever` to generate queries"
   ]
  },
  {
   "cell_type": "code",
   "execution_count": 49,
   "metadata": {},
   "outputs": [],
   "source": [
    "from llama_index.core.indices.property_graph import TextToCypherRetriever\n",
    "\n",
    "\n",
    "DEFAULT_RESPONSE_TEMPLATE = (\n",
    "    \"Generated Cypher query:\\n{query}\\n\\n\" \"Cypher Response:\\n{response}\"\n",
    ")\n",
    "DEFAULT_ALLOWED_FIELDS = [\"text\", \"label\", \"type\"]\n",
    "\n",
    "DEFAULT_TEXT_TO_CYPHER_TEMPLATE = (index.property_graph_store.text_to_cypher_template,)\n",
    "\n",
    "\n",
    "cypher_retriever = TextToCypherRetriever(\n",
    "    index.property_graph_store,\n",
    "    # customize the LLM, defaults to Settings.llm\n",
    "    llm=Settings.llm,\n",
    "    # customize the text-to-cypher template.\n",
    "    # Requires `schema` and `question` template args\n",
    "    text_to_cypher_template=index.property_graph_store.text_to_cypher_template,\n",
    "    # customize how the cypher result is inserted into\n",
    "    # a text node. Requires `query` and `response` template args\n",
    "    response_template=DEFAULT_RESPONSE_TEMPLATE,\n",
    "    # an optional callable that can clean/verify generated cypher\n",
    "    cypher_validator=None,\n",
    "    # allowed fields in the resulting\n",
    "    allowed_output_field=DEFAULT_ALLOWED_FIELDS,\n",
    ")"
   ]
  },
  {
   "cell_type": "code",
   "execution_count": 50,
   "metadata": {},
   "outputs": [],
   "source": [
    "SCHEMA = {\n",
    "    \"nodes\": TAGS,\n",
    "    \"edges\": EDGES,\n",
    "}"
   ]
  },
  {
   "cell_type": "code",
   "execution_count": 51,
   "metadata": {},
   "outputs": [],
   "source": [
    "nodes = cypher_retriever.retrieve(\n",
    "    index.property_graph_store.text_to_cypher_template.format(\n",
    "        question=\"Tell me about the production of Gaurdians of the Galaxy 3\",\n",
    "        schema=str(SCHEMA),\n",
    "    )\n",
    ")"
   ]
  },
  {
   "cell_type": "code",
   "execution_count": 52,
   "metadata": {},
   "outputs": [
    {
     "name": "stdout",
     "output_type": "stream",
     "text": [
      "Node ID: 753c3a00-4b9d-49cc-842f-3644dceeb50b\n",
      "Text: Generated Cypher query: MATCH (m:Entity__ {name: \"Guardians of\n",
      "the Galaxy 3\"})<-[:Relation__]-(p:Props__) RETURN p   Cypher Response:\n",
      "[]\n",
      "Score:  1.000\n",
      "\n"
     ]
    }
   ],
   "source": [
    "for node in nodes:\n",
    "    print(node)"
   ]
  },
  {
   "cell_type": "markdown",
   "metadata": {},
   "source": [
    "# Cleanup \n",
    "%ngql\n",
    "CLEAR/DROP SPACE $space_name; "
   ]
  }
 ],
 "metadata": {
  "colab": {
   "provenance": []
  },
  "kernelspec": {
   "display_name": ".venv",
   "language": "python",
   "name": "python3"
  },
  "language_info": {
   "codemirror_mode": {
    "name": "ipython",
    "version": 3
   },
   "file_extension": ".py",
   "mimetype": "text/x-python",
   "name": "python",
   "nbconvert_exporter": "python",
   "pygments_lexer": "ipython3",
   "version": "3.12.2"
  }
 },
 "nbformat": 4,
 "nbformat_minor": 0
}
