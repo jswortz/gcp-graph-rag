{
 "cells": [
  {
   "cell_type": "markdown",
   "metadata": {
    "id": "UMIjOJoFETV3"
   },
   "source": [
    "# Vertex AI and LLamaIndex Knowledge Graph RAG Query Engine\n",
    "\n",
    "\n",
    "## Graph RAG\n",
    "\n",
    "Graph RAG is an Knowledge-enabled RAG approach to retrieve information from Knowledge Graph on given task. Typically, this is to build context based on entities' SubGraph related to the task.\n",
    "\n",
    "## NebulaGraph Property Graph Index\n",
    "NebulaGraph is an open-source distributed graph database built for super large-scale graphs with milliseconds of latency.\n",
    "\n",
    "If you already have an existing graph, please skip to the end of this notebook.\n",
    "\n",
    "If you're opening this Notebook on colab, you will probably need to install LlamaIndex 🦙.\n",
    "\n",
    "```python\n",
    "%pip install llama-index-graph-stores-nebula\n",
    "%pip install llama-index-llms-vertex\n",
    "%pip install llama-index-embeddings-vertex\n",
    "%pip install llama-index\n",
    "```\n",
    "\n",
    "\n",
    "Before we start the `Knowledge Graph RAG QueryEngine` demo, let's first get ready for basic preparation of Llama Index."
   ]
  },
  {
   "cell_type": "code",
   "execution_count": 1,
   "metadata": {
    "id": "n_EAJgGuETV4"
   },
   "outputs": [],
   "source": [
    "# For Vertex\n",
    "\n",
    "import os\n",
    "\n",
    "\n",
    "import logging\n",
    "import google.auth\n",
    "import google.auth.transport.requests\n",
    "from google.cloud import aiplatform\n",
    "import vertexai\n",
    "from vertexai.generative_models import HarmBlockThreshold, HarmCategory, SafetySetting\n",
    "import sys\n",
    "from dotenv import load_dotenv\n",
    "\n",
    "load_dotenv()  # this loads the .env script for use below\n",
    "PROJECT_ID = os.getenv(\"PROJECT_ID\")\n",
    "LOCATION = os.getenv(\"LOCATION\")\n",
    "NEBULA_SERVER_ADDRESS = \"127.0.0.1\"\n",
    "\n",
    "credentials = google.auth.default(quota_project_id=PROJECT_ID)[0]\n",
    "request = google.auth.transport.requests.Request()\n",
    "credentials.refresh(request)\n",
    "\n",
    "safety_config = [\n",
    "    SafetySetting(\n",
    "        category=HarmCategory.HARM_CATEGORY_DANGEROUS_CONTENT,\n",
    "        threshold=HarmBlockThreshold.BLOCK_NONE,\n",
    "    ),\n",
    "    SafetySetting(\n",
    "        category=HarmCategory.HARM_CATEGORY_HARASSMENT,\n",
    "        threshold=HarmBlockThreshold.BLOCK_NONE,\n",
    "    ),\n",
    "    SafetySetting(\n",
    "        category=HarmCategory.HARM_CATEGORY_SEXUALLY_EXPLICIT,\n",
    "        threshold=HarmBlockThreshold.BLOCK_NONE,\n",
    "    ),\n",
    "]\n",
    "\n",
    "logging.basicConfig(\n",
    "    stream=sys.stdout, level=logging.INFO\n",
    ")  # logging.DEBUG for more verbose output\n",
    "\n",
    "vertexai.init(project=PROJECT_ID, location=LOCATION)"
   ]
  },
  {
   "cell_type": "markdown",
   "metadata": {},
   "source": [
    "## Define the LLM\n"
   ]
  },
  {
   "cell_type": "code",
   "execution_count": 2,
   "metadata": {},
   "outputs": [],
   "source": [
    "from llama_index.llms.vertex import Vertex\n",
    "from llama_index.embeddings.vertex import VertexTextEmbedding\n",
    "from llama_index.core import Settings\n",
    "\n",
    "Settings.llm = Vertex(\n",
    "    temperature=0,\n",
    "    model=\"gemini-1.5-flash\",\n",
    "    credentials=credentials,\n",
    "    safety_settings=safety_config,\n",
    ")\n",
    "Settings.embed_model = VertexTextEmbedding(\n",
    "    model_name=\"text-embedding-004\", credentials=credentials\n",
    ")\n",
    "Settings.chunk_size = 256"
   ]
  },
  {
   "cell_type": "markdown",
   "metadata": {},
   "source": [
    "# Nested Asyncio needed for async ops"
   ]
  },
  {
   "cell_type": "code",
   "execution_count": 3,
   "metadata": {},
   "outputs": [],
   "source": [
    "import nest_asyncio\n",
    "\n",
    "nest_asyncio.apply()"
   ]
  },
  {
   "cell_type": "markdown",
   "metadata": {
    "id": "IOa2pw90ETV4"
   },
   "source": [
    "## Prepare for NebulaGraph"
   ]
  },
  {
   "cell_type": "code",
   "execution_count": 4,
   "metadata": {
    "id": "uryq3yLCETV4",
    "outputId": "56bb7aba-6c0d-42ff-b2be-80b2255d7053"
   },
   "outputs": [],
   "source": [
    "space_name = \"gog3\""
   ]
  },
  {
   "cell_type": "markdown",
   "metadata": {
    "id": "J7OqK9SDETV5"
   },
   "source": [
    "Then we could instiatate a `NebulaGraphStore`, in order to create a `StorageContext`'s `graph_store` as it."
   ]
  },
  {
   "cell_type": "code",
   "execution_count": 5,
   "metadata": {},
   "outputs": [
    {
     "name": "stdout",
     "output_type": "stream",
     "text": [
      "\u001b[1;3;38;2;0;135;107m[OK] Connection Pool Created\u001b[0m\n",
      "INFO:nebula3.logger:Get connection to ('127.0.0.1', 9669)\n",
      "INFO:nebula3.logger:Get connection to ('127.0.0.1', 9669)\n"
     ]
    },
    {
     "data": {
      "text/html": [
       "<div>\n",
       "<style scoped>\n",
       "    .dataframe tbody tr th:only-of-type {\n",
       "        vertical-align: middle;\n",
       "    }\n",
       "\n",
       "    .dataframe tbody tr th {\n",
       "        vertical-align: top;\n",
       "    }\n",
       "\n",
       "    .dataframe thead th {\n",
       "        text-align: right;\n",
       "    }\n",
       "</style>\n",
       "<table border=\"1\" class=\"dataframe\">\n",
       "  <thead>\n",
       "    <tr style=\"text-align: right;\">\n",
       "      <th></th>\n",
       "    </tr>\n",
       "  </thead>\n",
       "  <tbody>\n",
       "  </tbody>\n",
       "</table>\n",
       "</div>"
      ],
      "text/plain": [
       "Empty DataFrame\n",
       "Columns: []\n",
       "Index: []"
      ]
     },
     "execution_count": 5,
     "metadata": {},
     "output_type": "execute_result"
    }
   ],
   "source": [
    "%load_ext ngql\n",
    "%ngql --address $NEBULA_SERVER_ADDRESS --port 9669 --user root --password <password>\n",
    "%ngql CREATE SPACE IF NOT EXISTS $space_name(vid_type=FIXED_STRING(256))"
   ]
  },
  {
   "cell_type": "markdown",
   "metadata": {},
   "source": [
    "# **One time Operation to Load the DB**"
   ]
  },
  {
   "cell_type": "code",
   "execution_count": 6,
   "metadata": {
    "id": "OylzdX8HETV5"
   },
   "outputs": [],
   "source": [
    "from llama_index.core import StorageContext\n",
    "from llama_index.graph_stores.nebula import NebulaPropertyGraphStore\n",
    "\n",
    "graph_store = NebulaPropertyGraphStore(space=space_name, overwrite=True)"
   ]
  },
  {
   "cell_type": "markdown",
   "metadata": {
    "id": "yk4PWOtLETV5"
   },
   "source": [
    "Here, we assumed to have the same Knowledge Graph from [this turtorial](https://gpt-index.readthedocs.io/en/latest/examples/query_engine/knowledge_graph_query_engine.html#optional-build-the-knowledge-graph-with-llamaindex)\n",
    "\n",
    "Let's follow on this tutorial:\n",
    "\n",
    "# With the help of Llama Index and LLM defined, we could build Knowledge Graph from given documents.\n",
    "\n",
    "If we have a Knowledge Graph on NebulaGraphStore already, this step could be skipped\n",
    "\n",
    "Load data from Wikipedia for \"Guardians of the Galaxy Vol. 3\""
   ]
  },
  {
   "cell_type": "code",
   "execution_count": 7,
   "metadata": {},
   "outputs": [],
   "source": [
    "from llama_index.core import download_loader\n",
    "\n",
    "from llama_index.readers.wikipedia import WikipediaReader\n",
    "\n",
    "loader = WikipediaReader()\n",
    "\n",
    "documents = loader.load_data(\n",
    "    pages=[\"Guardians of the Galaxy Vol. 3\"], auto_suggest=False\n",
    ")"
   ]
  },
  {
   "cell_type": "markdown",
   "metadata": {},
   "source": [
    "# Next, Generate a KnowledgeGraphIndex with NebulaGraph as graph_store\n",
    "Then, we will create a KnowledgeGraphIndex to enable Graph based RAG, apart from that, we have a Knowledge Graph up and running for other purposes, too!"
   ]
  },
  {
   "cell_type": "markdown",
   "metadata": {},
   "source": [
    "## Create a vector store"
   ]
  },
  {
   "cell_type": "code",
   "execution_count": 8,
   "metadata": {},
   "outputs": [],
   "source": [
    "from llama_index.core.vector_stores.simple import SimpleVectorStore\n",
    "\n",
    "vec_store = SimpleVectorStore()"
   ]
  },
  {
   "cell_type": "code",
   "execution_count": 9,
   "metadata": {},
   "outputs": [
    {
     "data": {
      "application/vnd.jupyter.widget-view+json": {
       "model_id": "9d63a4a120a2448e97746fd8caa8199d",
       "version_major": 2,
       "version_minor": 0
      },
      "text/plain": [
       "Parsing nodes:   0%|          | 0/1 [00:00<?, ?it/s]"
      ]
     },
     "metadata": {},
     "output_type": "display_data"
    },
    {
     "name": "stderr",
     "output_type": "stream",
     "text": [
      "Extracting paths from text: 100%|██████████| 182/182 [00:40<00:00,  4.51it/s]\n",
      "Extracting implicit paths: 100%|██████████| 182/182 [00:00<00:00, 65869.65it/s]\n",
      "Generating embeddings: 100%|██████████| 19/19 [00:00<00:00, 29.32it/s]\n",
      "Generating embeddings: 100%|██████████| 351/351 [00:01<00:00, 189.20it/s]\n"
     ]
    }
   ],
   "source": [
    "from llama_index.core.indices.property_graph import PropertyGraphIndex\n",
    "\n",
    "index = PropertyGraphIndex.from_documents(\n",
    "    documents,\n",
    "    property_graph_store=graph_store,\n",
    "    vector_store=vec_store,\n",
    "    show_progress=True,\n",
    ")\n",
    "\n",
    "index.storage_context.vector_store.persist(\"./data/nebula_vec_store.json\")"
   ]
  },
  {
   "cell_type": "markdown",
   "metadata": {
    "id": "4-hJiV2VETV5"
   },
   "source": [
    "# Loading from an existing graph\n",
    "**Important** Go here if skipping data creation step above"
   ]
  },
  {
   "cell_type": "code",
   "execution_count": 6,
   "metadata": {
    "id": "JFe9yeTNETV5"
   },
   "outputs": [],
   "source": [
    "from llama_index.graph_stores.nebula import NebulaPropertyGraphStore\n",
    "from llama_index.core.indices.property_graph import PropertyGraphIndex\n",
    "\n",
    "\n",
    "graph_store = NebulaPropertyGraphStore(space=space_name)\n",
    "\n",
    "from llama_index.core.vector_stores.simple import SimpleVectorStore\n",
    "\n",
    "vec_store = SimpleVectorStore.from_persist_path(\"./data/nebula_vec_store.json\")\n",
    "\n",
    "index = PropertyGraphIndex.from_existing(\n",
    "    property_graph_store=graph_store,\n",
    "    vector_store=vec_store,\n",
    ")"
   ]
  },
  {
   "cell_type": "markdown",
   "metadata": {},
   "source": [
    "### Now that the graph is created, we can explore it with [jupyter-nebulagraph](https://github.com/wey-gu/jupyter_nebulagraph)"
   ]
  },
  {
   "cell_type": "code",
   "execution_count": 7,
   "metadata": {},
   "outputs": [
    {
     "name": "stdout",
     "output_type": "stream",
     "text": [
      "INFO:nebula3.logger:Get connection to ('127.0.0.1', 9669)\n",
      "INFO:nebula3.logger:Get connection to ('127.0.0.1', 9669)\n"
     ]
    },
    {
     "data": {
      "text/html": [
       "<div>\n",
       "<style scoped>\n",
       "    .dataframe tbody tr th:only-of-type {\n",
       "        vertical-align: middle;\n",
       "    }\n",
       "\n",
       "    .dataframe tbody tr th {\n",
       "        vertical-align: top;\n",
       "    }\n",
       "\n",
       "    .dataframe thead th {\n",
       "        text-align: right;\n",
       "    }\n",
       "</style>\n",
       "<table border=\"1\" class=\"dataframe\">\n",
       "  <thead>\n",
       "    <tr style=\"text-align: right;\">\n",
       "      <th></th>\n",
       "      <th>e</th>\n",
       "    </tr>\n",
       "  </thead>\n",
       "  <tbody>\n",
       "    <tr>\n",
       "      <th>0</th>\n",
       "      <td>(\"dd28a48b-ccee-405f-bd46-e1e8e2434694\")-[:Relation__@0{_node_content: __NULL__, _node_type: __NULL__, creation_date: __NULL__, doc_id: __NULL__, document_id: __NULL__, file_name: __NULL__, file_path: __NULL__, file_size: __NULL__, file_type: __NULL__, label: \"PREVIOUS\", last_modified_date: __NULL__, ref_doc_id: __NULL__, triplet_source_id: \"dd28a48b-ccee-405f-bd46-e1e8e2434694\"}]-&gt;(\"5285dbae-8bec-442f-a1c3-a36c33b5104a\")</td>\n",
       "    </tr>\n",
       "    <tr>\n",
       "      <th>1</th>\n",
       "      <td>(\"dd28a48b-ccee-405f-bd46-e1e8e2434694\")-[:Relation__@0{_node_content: __NULL__, _node_type: __NULL__, creation_date: __NULL__, doc_id: __NULL__, document_id: __NULL__, file_name: __NULL__, file_path: __NULL__, file_size: __NULL__, file_type: __NULL__, label: \"NEXT\", last_modified_date: __NULL__, ref_doc_id: __NULL__, triplet_source_id: \"dd28a48b-ccee-405f-bd46-e1e8e2434694\"}]-&gt;(\"70d46625-3e9b-4143-8134-ed14841085a7\")</td>\n",
       "    </tr>\n",
       "    <tr>\n",
       "      <th>2</th>\n",
       "      <td>(\"Vol. 3\")-[:Relation__@0{_node_content: __NULL__, _node_type: __NULL__, creation_date: __NULL__, doc_id: __NULL__, document_id: __NULL__, file_name: __NULL__, file_path: __NULL__, file_size: __NULL__, file_type: __NULL__, label: \"Released in\", last_modified_date: __NULL__, ref_doc_id: __NULL__, triplet_source_id: \"8b484da2-9696-4354-8062-e3785041f5ea\"}]-&gt;(\"2023\")</td>\n",
       "    </tr>\n",
       "    <tr>\n",
       "      <th>3</th>\n",
       "      <td>(\"Vol. 3\")-[:Relation__@0{_node_content: __NULL__, _node_type: __NULL__, creation_date: __NULL__, doc_id: __NULL__, document_id: __NULL__, file_name: __NULL__, file_path: __NULL__, file_size: __NULL__, file_type: __NULL__, label: \"Reveals\", last_modified_date: __NULL__, ref_doc_id: __NULL__, triplet_source_id: \"b1571283-4451-4034-9fbf-2f39d97f88d8\"}]-&gt;(\"Backstory\")</td>\n",
       "    </tr>\n",
       "    <tr>\n",
       "      <th>4</th>\n",
       "      <td>(\"Vol. 3\")-[:Relation__@0{_node_content: __NULL__, _node_type: __NULL__, creation_date: __NULL__, doc_id: __NULL__, document_id: __NULL__, file_name: __NULL__, file_path: __NULL__, file_size: __NULL__, file_type: __NULL__, label: \"Fulfills\", last_modified_date: __NULL__, ref_doc_id: __NULL__, triplet_source_id: \"093be039-becb-45f4-b158-1c59a0b464c8\"}]-&gt;(\"Character arc\")</td>\n",
       "    </tr>\n",
       "    <tr>\n",
       "      <th>5</th>\n",
       "      <td>(\"Vol. 3\")-[:Relation__@0{_node_content: __NULL__, _node_type: __NULL__, creation_date: __NULL__, doc_id: __NULL__, document_id: __NULL__, file_name: __NULL__, file_path: __NULL__, file_size: __NULL__, file_type: __NULL__, label: \"Is\", last_modified_date: __NULL__, ref_doc_id: __NULL__, triplet_source_id: \"324f89e8-afee-4149-a370-c8c9e0fcc7bd\"}]-&gt;(\"Emotional\")</td>\n",
       "    </tr>\n",
       "    <tr>\n",
       "      <th>6</th>\n",
       "      <td>(\"Vol. 3\")-[:Relation__@0{_node_content: __NULL__, _node_type: __NULL__, creation_date: __NULL__, doc_id: __NULL__, document_id: __NULL__, file_name: __NULL__, file_path: __NULL__, file_size: __NULL__, file_type: __NULL__, label: \"Put on hold\", last_modified_date: __NULL__, ref_doc_id: __NULL__, triplet_source_id: \"bcbebca2-ac32-4fca-90d4-dfb371be708d\"}]-&gt;(\"February 2021\")</td>\n",
       "    </tr>\n",
       "    <tr>\n",
       "      <th>7</th>\n",
       "      <td>(\"Vol. 3\")-[:Relation__@0{_node_content: __NULL__, _node_type: __NULL__, creation_date: __NULL__, doc_id: __NULL__, document_id: __NULL__, file_name: __NULL__, file_path: __NULL__, file_size: __NULL__, file_type: __NULL__, label: \"Filming\", last_modified_date: __NULL__, ref_doc_id: __NULL__, triplet_source_id: \"fe695498-a8b6-46e1-82ee-84f7e828d7d9\"}]-&gt;(\"February to late april 2022\")</td>\n",
       "    </tr>\n",
       "    <tr>\n",
       "      <th>8</th>\n",
       "      <td>(\"Vol. 3\")-[:Relation__@0{_node_content: __NULL__, _node_type: __NULL__, creation_date: __NULL__, doc_id: __NULL__, document_id: __NULL__, file_name: __NULL__, file_path: __NULL__, file_size: __NULL__, file_type: __NULL__, label: \"Is\", last_modified_date: __NULL__, ref_doc_id: __NULL__, triplet_source_id: \"30317f7b-94fe-4bef-9386-fc28f4a82bc3\"}]-&gt;(\"First mcu film\")</td>\n",
       "    </tr>\n",
       "    <tr>\n",
       "      <th>9</th>\n",
       "      <td>(\"Vol. 3\")-[:Relation__@0{_node_content: __NULL__, _node_type: __NULL__, creation_date: __NULL__, doc_id: __NULL__, document_id: __NULL__, file_name: __NULL__, file_path: __NULL__, file_size: __NULL__, file_type: __NULL__, label: \"Uses\", last_modified_date: __NULL__, ref_doc_id: __NULL__, triplet_source_id: \"80d32c35-3720-404f-8ae7-9b3ba2eb5090\"}]-&gt;(\"Flashbacks\")</td>\n",
       "    </tr>\n",
       "  </tbody>\n",
       "</table>\n",
       "</div>"
      ],
      "text/plain": [
       "                                                                                                                                                                                                                                                                                                                                                                                                                                           e\n",
       "0  (\"dd28a48b-ccee-405f-bd46-e1e8e2434694\")-[:Relation__@0{_node_content: __NULL__, _node_type: __NULL__, creation_date: __NULL__, doc_id: __NULL__, document_id: __NULL__, file_name: __NULL__, file_path: __NULL__, file_size: __NULL__, file_type: __NULL__, label: \"PREVIOUS\", last_modified_date: __NULL__, ref_doc_id: __NULL__, triplet_source_id: \"dd28a48b-ccee-405f-bd46-e1e8e2434694\"}]->(\"5285dbae-8bec-442f-a1c3-a36c33b5104a\")\n",
       "1      (\"dd28a48b-ccee-405f-bd46-e1e8e2434694\")-[:Relation__@0{_node_content: __NULL__, _node_type: __NULL__, creation_date: __NULL__, doc_id: __NULL__, document_id: __NULL__, file_name: __NULL__, file_path: __NULL__, file_size: __NULL__, file_type: __NULL__, label: \"NEXT\", last_modified_date: __NULL__, ref_doc_id: __NULL__, triplet_source_id: \"dd28a48b-ccee-405f-bd46-e1e8e2434694\"}]->(\"70d46625-3e9b-4143-8134-ed14841085a7\")\n",
       "2                                                             (\"Vol. 3\")-[:Relation__@0{_node_content: __NULL__, _node_type: __NULL__, creation_date: __NULL__, doc_id: __NULL__, document_id: __NULL__, file_name: __NULL__, file_path: __NULL__, file_size: __NULL__, file_type: __NULL__, label: \"Released in\", last_modified_date: __NULL__, ref_doc_id: __NULL__, triplet_source_id: \"8b484da2-9696-4354-8062-e3785041f5ea\"}]->(\"2023\")\n",
       "3                                                            (\"Vol. 3\")-[:Relation__@0{_node_content: __NULL__, _node_type: __NULL__, creation_date: __NULL__, doc_id: __NULL__, document_id: __NULL__, file_name: __NULL__, file_path: __NULL__, file_size: __NULL__, file_type: __NULL__, label: \"Reveals\", last_modified_date: __NULL__, ref_doc_id: __NULL__, triplet_source_id: \"b1571283-4451-4034-9fbf-2f39d97f88d8\"}]->(\"Backstory\")\n",
       "4                                                       (\"Vol. 3\")-[:Relation__@0{_node_content: __NULL__, _node_type: __NULL__, creation_date: __NULL__, doc_id: __NULL__, document_id: __NULL__, file_name: __NULL__, file_path: __NULL__, file_size: __NULL__, file_type: __NULL__, label: \"Fulfills\", last_modified_date: __NULL__, ref_doc_id: __NULL__, triplet_source_id: \"093be039-becb-45f4-b158-1c59a0b464c8\"}]->(\"Character arc\")\n",
       "5                                                                 (\"Vol. 3\")-[:Relation__@0{_node_content: __NULL__, _node_type: __NULL__, creation_date: __NULL__, doc_id: __NULL__, document_id: __NULL__, file_name: __NULL__, file_path: __NULL__, file_size: __NULL__, file_type: __NULL__, label: \"Is\", last_modified_date: __NULL__, ref_doc_id: __NULL__, triplet_source_id: \"324f89e8-afee-4149-a370-c8c9e0fcc7bd\"}]->(\"Emotional\")\n",
       "6                                                    (\"Vol. 3\")-[:Relation__@0{_node_content: __NULL__, _node_type: __NULL__, creation_date: __NULL__, doc_id: __NULL__, document_id: __NULL__, file_name: __NULL__, file_path: __NULL__, file_size: __NULL__, file_type: __NULL__, label: \"Put on hold\", last_modified_date: __NULL__, ref_doc_id: __NULL__, triplet_source_id: \"bcbebca2-ac32-4fca-90d4-dfb371be708d\"}]->(\"February 2021\")\n",
       "7                                          (\"Vol. 3\")-[:Relation__@0{_node_content: __NULL__, _node_type: __NULL__, creation_date: __NULL__, doc_id: __NULL__, document_id: __NULL__, file_name: __NULL__, file_path: __NULL__, file_size: __NULL__, file_type: __NULL__, label: \"Filming\", last_modified_date: __NULL__, ref_doc_id: __NULL__, triplet_source_id: \"fe695498-a8b6-46e1-82ee-84f7e828d7d9\"}]->(\"February to late april 2022\")\n",
       "8                                                            (\"Vol. 3\")-[:Relation__@0{_node_content: __NULL__, _node_type: __NULL__, creation_date: __NULL__, doc_id: __NULL__, document_id: __NULL__, file_name: __NULL__, file_path: __NULL__, file_size: __NULL__, file_type: __NULL__, label: \"Is\", last_modified_date: __NULL__, ref_doc_id: __NULL__, triplet_source_id: \"30317f7b-94fe-4bef-9386-fc28f4a82bc3\"}]->(\"First mcu film\")\n",
       "9                                                              (\"Vol. 3\")-[:Relation__@0{_node_content: __NULL__, _node_type: __NULL__, creation_date: __NULL__, doc_id: __NULL__, document_id: __NULL__, file_name: __NULL__, file_path: __NULL__, file_size: __NULL__, file_type: __NULL__, label: \"Uses\", last_modified_date: __NULL__, ref_doc_id: __NULL__, triplet_source_id: \"80d32c35-3720-404f-8ae7-9b3ba2eb5090\"}]->(\"Flashbacks\")"
      ]
     },
     "execution_count": 7,
     "metadata": {},
     "output_type": "execute_result"
    }
   ],
   "source": [
    "# Query some random Relationships with Cypher\n",
    "\n",
    "%ngql USE $space_name;\n",
    "%ngql MATCH (p)-[e]->(q) RETURN e LIMIT 10"
   ]
  },
  {
   "cell_type": "code",
   "execution_count": 56,
   "metadata": {},
   "outputs": [
    {
     "name": "stdout",
     "output_type": "stream",
     "text": [
      "INFO:nebula3.logger:Get connection to ('127.0.0.1', 9669)\n",
      "INFO:nebula3.logger:Get connection to ('127.0.0.1', 9669)\n"
     ]
    },
    {
     "data": {
      "text/html": [
       "<div>\n",
       "<style scoped>\n",
       "    .dataframe tbody tr th:only-of-type {\n",
       "        vertical-align: middle;\n",
       "    }\n",
       "\n",
       "    .dataframe tbody tr th {\n",
       "        vertical-align: top;\n",
       "    }\n",
       "\n",
       "    .dataframe thead th {\n",
       "        text-align: right;\n",
       "    }\n",
       "</style>\n",
       "<table border=\"1\" class=\"dataframe\">\n",
       "  <thead>\n",
       "    <tr style=\"text-align: right;\">\n",
       "      <th></th>\n",
       "      <th>Name</th>\n",
       "    </tr>\n",
       "  </thead>\n",
       "  <tbody>\n",
       "    <tr>\n",
       "      <th>0</th>\n",
       "      <td>Chunk__</td>\n",
       "    </tr>\n",
       "    <tr>\n",
       "      <th>1</th>\n",
       "      <td>Entity__</td>\n",
       "    </tr>\n",
       "    <tr>\n",
       "      <th>2</th>\n",
       "      <td>Node__</td>\n",
       "    </tr>\n",
       "    <tr>\n",
       "      <th>3</th>\n",
       "      <td>Props__</td>\n",
       "    </tr>\n",
       "  </tbody>\n",
       "</table>\n",
       "</div>"
      ],
      "text/plain": [
       "       Name\n",
       "0   Chunk__\n",
       "1  Entity__\n",
       "2    Node__\n",
       "3   Props__"
      ]
     },
     "execution_count": 56,
     "metadata": {},
     "output_type": "execute_result"
    }
   ],
   "source": [
    "TAGS = %ngql SHOW TAGS\n",
    "%ngql SHOW TAGS"
   ]
  },
  {
   "cell_type": "code",
   "execution_count": 90,
   "metadata": {},
   "outputs": [
    {
     "name": "stdout",
     "output_type": "stream",
     "text": [
      "INFO:nebula3.logger:Get connection to ('127.0.0.1', 9669)\n",
      "INFO:nebula3.logger:Get connection to ('127.0.0.1', 9669)\n"
     ]
    },
    {
     "data": {
      "text/html": [
       "<div>\n",
       "<style scoped>\n",
       "    .dataframe tbody tr th:only-of-type {\n",
       "        vertical-align: middle;\n",
       "    }\n",
       "\n",
       "    .dataframe tbody tr th {\n",
       "        vertical-align: top;\n",
       "    }\n",
       "\n",
       "    .dataframe thead th {\n",
       "        text-align: right;\n",
       "    }\n",
       "</style>\n",
       "<table border=\"1\" class=\"dataframe\">\n",
       "  <thead>\n",
       "    <tr style=\"text-align: right;\">\n",
       "      <th></th>\n",
       "      <th>Name</th>\n",
       "    </tr>\n",
       "  </thead>\n",
       "  <tbody>\n",
       "    <tr>\n",
       "      <th>0</th>\n",
       "      <td>Relation__</td>\n",
       "    </tr>\n",
       "    <tr>\n",
       "      <th>1</th>\n",
       "      <td>__meta__node_label__</td>\n",
       "    </tr>\n",
       "    <tr>\n",
       "      <th>2</th>\n",
       "      <td>__meta__rel_label__</td>\n",
       "    </tr>\n",
       "  </tbody>\n",
       "</table>\n",
       "</div>"
      ],
      "text/plain": [
       "                   Name\n",
       "0            Relation__\n",
       "1  __meta__node_label__\n",
       "2   __meta__rel_label__"
      ]
     },
     "execution_count": 90,
     "metadata": {},
     "output_type": "execute_result"
    }
   ],
   "source": [
    "EDGES = %ngql SHOW EDGES\n",
    "%ngql SHOW EDGES"
   ]
  },
  {
   "cell_type": "code",
   "execution_count": null,
   "metadata": {},
   "outputs": [],
   "source": [
    "# Index the schema for querying\n",
    "%ngql CREATE TAG INDEX IF NOT EXISTS entity_index on Entity__();\n",
    "%ngql CREATE TAG INDEX IF NOT EXISTS props_index on Props__();\n",
    "%ngql CREATE EDGE INDEX IF NOT EXISTS relation_index on Relation__();"
   ]
  },
  {
   "cell_type": "code",
   "execution_count": 103,
   "metadata": {},
   "outputs": [
    {
     "name": "stdout",
     "output_type": "stream",
     "text": [
      "INFO:nebula3.logger:Get connection to ('127.0.0.1', 9669)\n"
     ]
    },
    {
     "data": {
      "text/html": [
       "<div>\n",
       "<style scoped>\n",
       "    .dataframe tbody tr th:only-of-type {\n",
       "        vertical-align: middle;\n",
       "    }\n",
       "\n",
       "    .dataframe tbody tr th {\n",
       "        vertical-align: top;\n",
       "    }\n",
       "\n",
       "    .dataframe thead th {\n",
       "        text-align: right;\n",
       "    }\n",
       "</style>\n",
       "<table border=\"1\" class=\"dataframe\">\n",
       "  <thead>\n",
       "    <tr style=\"text-align: right;\">\n",
       "      <th></th>\n",
       "      <th>src</th>\n",
       "      <th>relation</th>\n",
       "      <th>dest</th>\n",
       "    </tr>\n",
       "  </thead>\n",
       "  <tbody>\n",
       "    <tr>\n",
       "      <th>0</th>\n",
       "      <td>Vol. 3</td>\n",
       "      <td>Released in</td>\n",
       "      <td>2023</td>\n",
       "    </tr>\n",
       "    <tr>\n",
       "      <th>1</th>\n",
       "      <td>Vol. 3</td>\n",
       "      <td>Reveals</td>\n",
       "      <td>Backstory</td>\n",
       "    </tr>\n",
       "    <tr>\n",
       "      <th>2</th>\n",
       "      <td>Vol. 3</td>\n",
       "      <td>Fulfills</td>\n",
       "      <td>Character arc</td>\n",
       "    </tr>\n",
       "    <tr>\n",
       "      <th>3</th>\n",
       "      <td>Vol. 3</td>\n",
       "      <td>Is</td>\n",
       "      <td>Emotional</td>\n",
       "    </tr>\n",
       "    <tr>\n",
       "      <th>4</th>\n",
       "      <td>Vol. 3</td>\n",
       "      <td>Put on hold</td>\n",
       "      <td>February 2021</td>\n",
       "    </tr>\n",
       "    <tr>\n",
       "      <th>5</th>\n",
       "      <td>Vol. 3</td>\n",
       "      <td>Filming</td>\n",
       "      <td>February to late april 2022</td>\n",
       "    </tr>\n",
       "    <tr>\n",
       "      <th>6</th>\n",
       "      <td>Vol. 3</td>\n",
       "      <td>Is</td>\n",
       "      <td>First mcu film</td>\n",
       "    </tr>\n",
       "    <tr>\n",
       "      <th>7</th>\n",
       "      <td>Vol. 3</td>\n",
       "      <td>Uses</td>\n",
       "      <td>Flashbacks</td>\n",
       "    </tr>\n",
       "    <tr>\n",
       "      <th>8</th>\n",
       "      <td>Vol. 3</td>\n",
       "      <td>Tonal difference</td>\n",
       "      <td>Holiday special</td>\n",
       "    </tr>\n",
       "    <tr>\n",
       "      <th>9</th>\n",
       "      <td>Vol. 3</td>\n",
       "      <td>Filming</td>\n",
       "      <td>Late 2021</td>\n",
       "    </tr>\n",
       "    <tr>\n",
       "      <th>10</th>\n",
       "      <td>Vol. 3</td>\n",
       "      <td>Is</td>\n",
       "      <td>Mcu film</td>\n",
       "    </tr>\n",
       "    <tr>\n",
       "      <th>11</th>\n",
       "      <td>Vol. 3</td>\n",
       "      <td>Explores</td>\n",
       "      <td>Origin story</td>\n",
       "    </tr>\n",
       "    <tr>\n",
       "      <th>12</th>\n",
       "      <td>Vol. 3</td>\n",
       "      <td>Explores</td>\n",
       "      <td>Origin story rocket</td>\n",
       "    </tr>\n",
       "    <tr>\n",
       "      <th>13</th>\n",
       "      <td>Vol. 3</td>\n",
       "      <td>Spoken by</td>\n",
       "      <td>Quill</td>\n",
       "    </tr>\n",
       "    <tr>\n",
       "      <th>14</th>\n",
       "      <td>Vol. 3</td>\n",
       "      <td>Provide</td>\n",
       "      <td>Relief</td>\n",
       "    </tr>\n",
       "  </tbody>\n",
       "</table>\n",
       "</div>"
      ],
      "text/plain": [
       "       src          relation                         dest\n",
       "0   Vol. 3       Released in                         2023\n",
       "1   Vol. 3           Reveals                    Backstory\n",
       "2   Vol. 3          Fulfills                Character arc\n",
       "3   Vol. 3                Is                    Emotional\n",
       "4   Vol. 3       Put on hold                February 2021\n",
       "5   Vol. 3           Filming  February to late april 2022\n",
       "6   Vol. 3                Is               First mcu film\n",
       "7   Vol. 3              Uses                   Flashbacks\n",
       "8   Vol. 3  Tonal difference              Holiday special\n",
       "9   Vol. 3           Filming                    Late 2021\n",
       "10  Vol. 3                Is                     Mcu film\n",
       "11  Vol. 3          Explores                 Origin story\n",
       "12  Vol. 3          Explores          Origin story rocket\n",
       "13  Vol. 3         Spoken by                        Quill\n",
       "14  Vol. 3           Provide                       Relief"
      ]
     },
     "execution_count": 103,
     "metadata": {},
     "output_type": "execute_result"
    }
   ],
   "source": [
    "%ngql MATCH p=(v:Entity__)-[r]->(t:Entity__) RETURN v.Entity__.name AS src, r.label AS relation, t.Entity__.name AS dest LIMIT 15;"
   ]
  },
  {
   "cell_type": "code",
   "execution_count": 128,
   "metadata": {},
   "outputs": [
    {
     "data": {
      "text/html": [
       "\n",
       "        <iframe\n",
       "            width=\"100%\"\n",
       "            height=\"500px\"\n",
       "            src=\"nebulagraph_cell_128.html\"\n",
       "            frameborder=\"0\"\n",
       "            allowfullscreen\n",
       "            \n",
       "        ></iframe>\n",
       "        "
      ],
      "text/plain": [
       "<IPython.lib.display.IFrame at 0x3387bf020>"
      ]
     },
     "metadata": {},
     "output_type": "display_data"
    },
    {
     "data": {
      "text/plain": [
       "<class 'pyvis.network.Network'> |N|=16 |E|=15"
      ]
     },
     "execution_count": 128,
     "metadata": {},
     "output_type": "execute_result"
    }
   ],
   "source": [
    "%ng_draw"
   ]
  },
  {
   "cell_type": "markdown",
   "metadata": {},
   "source": [
    "### The rendered output should look like this:\n",
    "\n",
    "![](./graph_output.png)"
   ]
  },
  {
   "cell_type": "markdown",
   "metadata": {
    "id": "yc2N1xD1ETV5"
   },
   "source": [
    "# Querying and Retrieval\n",
    "1. Getting a simple graph from a query"
   ]
  },
  {
   "cell_type": "code",
   "execution_count": 26,
   "metadata": {},
   "outputs": [],
   "source": [
    "subgraph_retriever = index.as_retriever(\n",
    "    include_text=False,  # include source text in returned nodes, default True\n",
    ")"
   ]
  },
  {
   "cell_type": "code",
   "execution_count": 27,
   "metadata": {
    "id": "mCdHZRKUETV5",
    "outputId": "566480bd-60c7-44ff-e59a-4438f955d9bc"
   },
   "outputs": [
    {
     "data": {
      "text/markdown": [
       "Guardians of the galaxy vol. 3 -> Dethroned -> Fast x"
      ],
      "text/plain": [
       "<IPython.core.display.Markdown object>"
      ]
     },
     "metadata": {},
     "output_type": "display_data"
    },
    {
     "data": {
      "text/markdown": [
       "Guardians of the galaxy vol. 3 -> Directed -> Gunn"
      ],
      "text/plain": [
       "<IPython.core.display.Markdown object>"
      ]
     },
     "metadata": {},
     "output_type": "display_data"
    },
    {
     "data": {
      "text/markdown": [
       "Guardians of the galaxy vol. 3 -> Projected to gross -> $110 million"
      ],
      "text/plain": [
       "<IPython.core.display.Markdown object>"
      ]
     },
     "metadata": {},
     "output_type": "display_data"
    },
    {
     "data": {
      "text/markdown": [
       "Guardians of the galaxy vol. 3 -> Debuted with -> $118.4 million"
      ],
      "text/plain": [
       "<IPython.core.display.Markdown object>"
      ]
     },
     "metadata": {},
     "output_type": "display_data"
    },
    {
     "data": {
      "text/markdown": [
       "Guardians of the galaxy vol. 3 -> Net profit -> $124 million"
      ],
      "text/plain": [
       "<IPython.core.display.Markdown object>"
      ]
     },
     "metadata": {},
     "output_type": "display_data"
    },
    {
     "data": {
      "text/markdown": [
       "Guardians of the galaxy vol. 3 -> Grossed -> $168.1 million"
      ],
      "text/plain": [
       "<IPython.core.display.Markdown object>"
      ]
     },
     "metadata": {},
     "output_type": "display_data"
    },
    {
     "data": {
      "text/markdown": [
       "Guardians of the galaxy vol. 3 -> Made -> $17.5 million"
      ],
      "text/plain": [
       "<IPython.core.display.Markdown object>"
      ]
     },
     "metadata": {},
     "output_type": "display_data"
    },
    {
     "data": {
      "text/markdown": [
       "Guardians of the galaxy vol. 3 -> Grossed -> $358.9 million"
      ],
      "text/plain": [
       "<IPython.core.display.Markdown object>"
      ]
     },
     "metadata": {},
     "output_type": "display_data"
    },
    {
     "data": {
      "text/markdown": [
       "Guardians of the galaxy vol. 3 -> Made -> $48.2 million"
      ],
      "text/plain": [
       "<IPython.core.display.Markdown object>"
      ]
     },
     "metadata": {},
     "output_type": "display_data"
    },
    {
     "data": {
      "text/markdown": [
       "Guardians of the galaxy vol. 3 -> Grossed -> $486.6 million"
      ],
      "text/plain": [
       "<IPython.core.display.Markdown object>"
      ]
     },
     "metadata": {},
     "output_type": "display_data"
    },
    {
     "data": {
      "text/markdown": [
       "Guardians of the galaxy vol. 3 -> Made -> $62 million"
      ],
      "text/plain": [
       "<IPython.core.display.Markdown object>"
      ]
     },
     "metadata": {},
     "output_type": "display_data"
    },
    {
     "data": {
      "text/markdown": [
       "Guardians of the galaxy vol. 3 -> Grossed -> $845.6 million"
      ],
      "text/plain": [
       "<IPython.core.display.Markdown object>"
      ]
     },
     "metadata": {},
     "output_type": "display_data"
    },
    {
     "data": {
      "text/markdown": [
       "Guardians of the galaxy vol. 3 -> Grossed -> $92 million"
      ],
      "text/plain": [
       "<IPython.core.display.Markdown object>"
      ]
     },
     "metadata": {},
     "output_type": "display_data"
    },
    {
     "data": {
      "text/markdown": [
       "Guardians of the galaxy vol. 3 -> Dropped -> 40%"
      ],
      "text/plain": [
       "<IPython.core.display.Markdown object>"
      ]
     },
     "metadata": {},
     "output_type": "display_data"
    },
    {
     "data": {
      "text/markdown": [
       "Guardians of the galaxy vol. 3 -> Declined -> 48%"
      ],
      "text/plain": [
       "<IPython.core.display.Markdown object>"
      ]
     },
     "metadata": {},
     "output_type": "display_data"
    },
    {
     "data": {
      "text/markdown": [
       "Guardians of the galaxy vol. 3 -> Set after -> Avengers: endgame"
      ],
      "text/plain": [
       "<IPython.core.display.Markdown object>"
      ]
     },
     "metadata": {},
     "output_type": "display_data"
    },
    {
     "data": {
      "text/markdown": [
       "Guardians of the galaxy vol. 3 -> Set after -> Avengers: infinity war"
      ],
      "text/plain": [
       "<IPython.core.display.Markdown object>"
      ]
     },
     "metadata": {},
     "output_type": "display_data"
    },
    {
     "data": {
      "text/markdown": [
       "Guardians of the galaxy vol. 3 -> Hold -> Best second-weekend"
      ],
      "text/plain": [
       "<IPython.core.display.Markdown object>"
      ]
     },
     "metadata": {},
     "output_type": "display_data"
    },
    {
     "data": {
      "text/markdown": [
       "Guardians of the galaxy vol. 3 -> Topped -> Box office"
      ],
      "text/plain": [
       "<IPython.core.display.Markdown object>"
      ]
     },
     "metadata": {},
     "output_type": "display_data"
    },
    {
     "data": {
      "text/markdown": [
       "Guardians of the galaxy vol. 3 -> Features -> Chris pratt"
      ],
      "text/plain": [
       "<IPython.core.display.Markdown object>"
      ]
     },
     "metadata": {},
     "output_type": "display_data"
    },
    {
     "data": {
      "text/markdown": [
       "Guardians of the galaxy vol. 3 -> Features -> Dave bautista"
      ],
      "text/plain": [
       "<IPython.core.display.Markdown object>"
      ]
     },
     "metadata": {},
     "output_type": "display_data"
    },
    {
     "data": {
      "text/markdown": [
       "Guardians of the galaxy vol. 3 -> Premiered -> Disneyland paris"
      ],
      "text/plain": [
       "<IPython.core.display.Markdown object>"
      ]
     },
     "metadata": {},
     "output_type": "display_data"
    },
    {
     "data": {
      "text/markdown": [
       "Guardians of the galaxy vol. 3 -> Is sequel to -> Guardians of the galaxy"
      ],
      "text/plain": [
       "<IPython.core.display.Markdown object>"
      ]
     },
     "metadata": {},
     "output_type": "display_data"
    },
    {
     "data": {
      "text/markdown": [
       "Guardians of the galaxy vol. 3 -> Is sequel to -> Guardians of the galaxy vol. 2"
      ],
      "text/plain": [
       "<IPython.core.display.Markdown object>"
      ]
     },
     "metadata": {},
     "output_type": "display_data"
    },
    {
     "data": {
      "text/markdown": [
       "Guardians of the galaxy vol. 3 -> Directed by -> James gunn"
      ],
      "text/plain": [
       "<IPython.core.display.Markdown object>"
      ]
     },
     "metadata": {},
     "output_type": "display_data"
    },
    {
     "data": {
      "text/markdown": [
       "Guardians of the galaxy vol. 3 -> Features -> Karen gillan"
      ],
      "text/plain": [
       "<IPython.core.display.Markdown object>"
      ]
     },
     "metadata": {},
     "output_type": "display_data"
    },
    {
     "data": {
      "text/markdown": [
       "Guardians of the galaxy vol. 3 -> Is film in -> Marvel cinematic universe"
      ],
      "text/plain": [
       "<IPython.core.display.Markdown object>"
      ]
     },
     "metadata": {},
     "output_type": "display_data"
    },
    {
     "data": {
      "text/markdown": [
       "Guardians of the galaxy vol. 3 -> Produced by -> Marvel studios"
      ],
      "text/plain": [
       "<IPython.core.display.Markdown object>"
      ]
     },
     "metadata": {},
     "output_type": "display_data"
    },
    {
     "data": {
      "text/markdown": [
       "Guardians of the galaxy vol. 3 -> Released -> May 5"
      ],
      "text/plain": [
       "<IPython.core.display.Markdown object>"
      ]
     },
     "metadata": {},
     "output_type": "display_data"
    },
    {
     "data": {
      "text/markdown": [
       "Guardians of the galaxy vol. 3 -> Features -> Pom klementieff"
      ],
      "text/plain": [
       "<IPython.core.display.Markdown object>"
      ]
     },
     "metadata": {},
     "output_type": "display_data"
    },
    {
     "data": {
      "text/markdown": [
       "The making of guardians of the galaxy vol. 3 -> Released on -> Disney+"
      ],
      "text/plain": [
       "<IPython.core.display.Markdown object>"
      ]
     },
     "metadata": {},
     "output_type": "display_data"
    },
    {
     "data": {
      "text/markdown": [
       "The making of guardians of the galaxy vol. 3 -> Is -> Special"
      ],
      "text/plain": [
       "<IPython.core.display.Markdown object>"
      ]
     },
     "metadata": {},
     "output_type": "display_data"
    },
    {
     "data": {
      "text/markdown": [
       "Gunn chose practical effects for vol. 3 -> Said -> Beth mickle"
      ],
      "text/plain": [
       "<IPython.core.display.Markdown object>"
      ]
     },
     "metadata": {},
     "output_type": "display_data"
    },
    {
     "data": {
      "text/markdown": [
       "Story of this iteration of the guardians of the galaxy -> Conclude -> Film"
      ],
      "text/plain": [
       "<IPython.core.display.Markdown object>"
      ]
     },
     "metadata": {},
     "output_type": "display_data"
    },
    {
     "data": {
      "text/markdown": [
       "Directing guardians of the galaxy vol. 3 -> Discussed -> Mckay"
      ],
      "text/plain": [
       "<IPython.core.display.Markdown object>"
      ]
     },
     "metadata": {},
     "output_type": "display_data"
    }
   ],
   "source": [
    "from IPython.display import display, Markdown\n",
    "\n",
    "nodes = subgraph_retriever.retrieve(\n",
    "    \"Tell me about the production of Guardians of the Galaxy 3\",\n",
    ")\n",
    "node_text = \"\"\n",
    "for node in nodes:\n",
    "    display(Markdown(f\"{node.text}\"))"
   ]
  },
  {
   "cell_type": "markdown",
   "metadata": {},
   "source": [
    "2. Getting a NL query over the graph"
   ]
  },
  {
   "cell_type": "code",
   "execution_count": 54,
   "metadata": {},
   "outputs": [],
   "source": [
    "query_engine = index.as_query_engine(\n",
    "    streaming=True,\n",
    "    include_text=True,  # include source text in returned nodes, default True\n",
    ")"
   ]
  },
  {
   "cell_type": "code",
   "execution_count": 55,
   "metadata": {},
   "outputs": [
    {
     "name": "stdout",
     "output_type": "stream",
     "text": [
      "James Gunn was initially fired from the project due to controversial tweets, but was later rehired after a public outcry and support from the cast. He was able to complete the film after finishing his work on The Suicide Squad. The production of the film involved a mix of practical effects and virtual production technology. \n"
     ]
    },
    {
     "data": {
      "text/plain": [
       "<IPython.core.display.Markdown object>"
      ]
     },
     "metadata": {},
     "output_type": "display_data"
    }
   ],
   "source": [
    "response = query_engine.query(\n",
    "    \"Tell me about the production of Guardians of the Galaxy 3 and it's relation to James Gunn?\",\n",
    ")\n",
    "display(Markdown(response.print_response_stream()))"
   ]
  },
  {
   "cell_type": "markdown",
   "metadata": {},
   "source": [
    "#### Check on source nodes"
   ]
  },
  {
   "cell_type": "code",
   "execution_count": 30,
   "metadata": {},
   "outputs": [
    {
     "data": {
      "text/plain": [
       "[NodeWithScore(node=TextNode(id_='ef15fc1e-79bc-4040-94ff-5b6e2e11f460', embedding=None, metadata={}, excluded_embed_metadata_keys=[], excluded_llm_metadata_keys=[], relationships={<NodeRelationship.SOURCE: '1'>: RelatedNodeInfo(node_id='51126744', node_type=<ObjectType.DOCUMENT: '4'>, metadata={}, hash='c33130e0f3ce7b9d89c1f4373e026c0ab95a6f876e464b7ca719ba01769164a7'), <NodeRelationship.PREVIOUS: '2'>: RelatedNodeInfo(node_id='7882a1c3-d64e-425c-a1f8-10df7221c881', node_type=<ObjectType.TEXT: '1'>, metadata={}, hash='4deadad62a291998a1ae88389c2e4cee1f8c522a3a9954cbcdbdc0beffaae524'), <NodeRelationship.NEXT: '3'>: RelatedNodeInfo(node_id='0e556b0f-c186-4fab-86cf-06e451666c78', node_type=<ObjectType.TEXT: '1'>, metadata={}, hash='77f855df5e91ebc6ae2cceec6d78ab72b57349378af850f6e13c4ac055fbb8d3')}, text='Here are some facts extracted from the provided text:\\n\\nThe making of guardians of the galaxy vol. 3 -> Released on -> Disney+\\nThe making of guardians of the galaxy vol. 3 -> Is -> Special\\n\\n=== Accolades ===\\n\\n\\n== Documentary special ==\\n\\nIn February 2021, the documentary series Marvel Studios: Assembled was announced. The special on this film, \"The Making of Guardians of the Galaxy Vol. 3\", was released on Disney+ on September 13, 2023.\\n\\n\\n== Future ==\\nGunn said in April 2017 that a fourth Guardians film could happen, though it would likely center on a new group of characters since Gunn planned to conclude the story of the current team in Vol. 3. Later in September, Gunn said he was unlikely to return for another Guardians film but would continue to work with Marvel Studios on other projects that use the Guardians and cosmic characters. One such project from Gunn was a film centered on Drax and Mantis, which Bautista called \"brilliant\". However, in May 2021, Bautista stated that he had not heard any further updates regarding it, feeling Marvel Studios was not \"very interested, or it doesn\\'t fit into the way they have things mapped out\". Gunn confirmed in September 2019 that he intended for Vol. 3 to be his last Guardians film, which he reaffirmed in May 2021.', mimetype='text/plain', start_char_idx=49488, end_char_idx=50575, text_template='{metadata_str}\\n\\n{content}', metadata_template='{key}: {value}', metadata_seperator='\\n'), score=0.6834869804677762),\n",
       " NodeWithScore(node=TextNode(id_='70f64e64-db3b-4cdf-85d4-e2b501408d05', embedding=None, metadata={}, excluded_embed_metadata_keys=[], excluded_llm_metadata_keys=[], relationships={<NodeRelationship.SOURCE: '1'>: RelatedNodeInfo(node_id='51126744', node_type=<ObjectType.DOCUMENT: '4'>, metadata={}, hash='c33130e0f3ce7b9d89c1f4373e026c0ab95a6f876e464b7ca719ba01769164a7'), <NodeRelationship.PREVIOUS: '2'>: RelatedNodeInfo(node_id='a2e04914-237d-4f31-9f86-d454284acb24', node_type=<ObjectType.TEXT: '1'>, metadata={}, hash='31bc16db2cf920b62cbb0478722db791fd837d20ee24957b723519806f5ca521'), <NodeRelationship.NEXT: '3'>: RelatedNodeInfo(node_id='a5a9e948-e110-42e6-bc2a-719a6ac1e8a2', node_type=<ObjectType.TEXT: '1'>, metadata={}, hash='dbbbf20688a7ced847a711f3f373af960d7cbbb40900d03031213ef35160c0de')}, text='Here are some facts extracted from the provided text:\\n\\nGunn chose practical effects for vol. 3 -> Said -> Beth mickle\\n\\nProduction designer Beth Mickle said Gunn chose to mainly use practical effects for Vol. 3 after they did so with their work on The Suicide Squad. In February 2021, Gunn stated the film would be shot using Industrial Light & Magic\\'s StageCraft virtual production technology that was developed for the Disney+ Star Wars series The Mandalorian, but in October, he said they would not be able to use the technology because the sets were too big, believing they were larger than the sets used on The Suicide Squad. The interior of the Guardians\\' new ship, the Bowie, was a four-story set. Judianna Makovsky served as costume designer. The Guardians of the Galaxy Holiday Special was filmed at the same time as Vol. 3, from February to late April 2022, with the same main cast and sets. Gunn enjoyed being able to switch to filming the special after doing scenes for Vol. 3, given the tonal difference between the two with Vol. 3 being more \"emotional\", feeling it helped provide a \"relief\" to the actors as well, and called the Holiday Special shoot easier than Vol. 3.', mimetype='text/plain', start_char_idx=35053, end_char_idx=36118, text_template='{metadata_str}\\n\\n{content}', metadata_template='{key}: {value}', metadata_seperator='\\n'), score=0.633598813004423),\n",
       " NodeWithScore(node=TextNode(id_='512d39cb-568a-4e92-bb8d-a30343dc340b', embedding=None, metadata={}, excluded_embed_metadata_keys=[], excluded_llm_metadata_keys=[], relationships={<NodeRelationship.SOURCE: '1'>: RelatedNodeInfo(node_id='51126744', node_type=<ObjectType.DOCUMENT: '4'>, metadata={}, hash='c33130e0f3ce7b9d89c1f4373e026c0ab95a6f876e464b7ca719ba01769164a7'), <NodeRelationship.PREVIOUS: '2'>: RelatedNodeInfo(node_id='3e715b26-f4ea-46be-a5c8-7a8c194555dd', node_type=<ObjectType.TEXT: '1'>, metadata={}, hash='c76b0b508c8328d6ec43101962ba2cba67a908bd1362cedd6ed2f44c3133de8b'), <NodeRelationship.NEXT: '3'>: RelatedNodeInfo(node_id='6f44a3a4-eae1-4e02-b691-e21fe3f54faa', node_type=<ObjectType.TEXT: '1'>, metadata={}, hash='6091a0cc30d875c84f30e2b73b5697b30b225ab21648ba495c5cea0e17d3e2c8')}, text='Here are some facts extracted from the provided text:\\n\\nDirecting guardians of the galaxy vol. 3 -> Discussed -> Mckay\\n\\n3 after the success of his directorial debut A Star Is Born (2018), but said that he \"could never imagine\" directing a film that he did not write. By mid-October, James Gunn had completed his exit settlement with Disney and was set to write and potentially direct The Suicide Squad (2021) for Warner Bros. and DC Films.\\n\\n\\n==== Rehiring Gunn ====\\n\\nThe day after Gunn joined The Suicide Squad in mid-October 2018, he was privately notified by Horn that he could return as director for Vol. 3. This came after further meetings between the studios and Gunn. Horn had changed his mind after being impressed by Gunn\\'s response to the situation. Gunn discussed his commitments to The Suicide Squad with Feige, and production on Vol. 3 was put on hold until February 2021 to allow Gunn to complete The Suicide Squad first. In December, after working with Marvel Studios on the script for Ant-Man (2015), Adam McKay said he was willing to work with the studio again and stated that he had discussed taking over as director for Vol. 3 with Feige, among other projects.', mimetype='text/plain', start_char_idx=25417, end_char_idx=26475, text_template='{metadata_str}\\n\\n{content}', metadata_template='{key}: {value}', metadata_seperator='\\n'), score=0.6069824250074737),\n",
       " NodeWithScore(node=TextNode(id_='073a5c35-bced-402e-aa02-13dd12d2f203', embedding=None, metadata={}, excluded_embed_metadata_keys=[], excluded_llm_metadata_keys=[], relationships={<NodeRelationship.SOURCE: '1'>: RelatedNodeInfo(node_id='51126744', node_type=<ObjectType.DOCUMENT: '4'>, metadata={}, hash='c33130e0f3ce7b9d89c1f4373e026c0ab95a6f876e464b7ca719ba01769164a7'), <NodeRelationship.PREVIOUS: '2'>: RelatedNodeInfo(node_id='3b00ab07-079f-4263-8a01-19a63115a8b3', node_type=<ObjectType.TEXT: '1'>, metadata={}, hash='c6bf2ff9e8b6e80b94faaa7509929fe45f9be8d10ed92094acc5b50bb37df652'), <NodeRelationship.NEXT: '3'>: RelatedNodeInfo(node_id='9c1f67b5-1307-4c3f-926a-f92747c36fdd', node_type=<ObjectType.TEXT: '1'>, metadata={}, hash='f89dd670436cb2b8c82f6d9d106ccfcd6d0ae7c2ee09c9b84389f04aae89cbe2')}, text='Here are some facts extracted from the provided text:\\n\\nStory of this iteration of the guardians of the galaxy -> Conclude -> Film\\n\\nHe also reiterated that he had not decided whether he would be directing the film, and that he was going to figure out his involvement and his next project \"over the next couple of weeks\". Part of Gunn\\'s reluctance to return to the franchise came from not wanting to work on it without Michael Rooker, whose character from the first two films, Yondu Udonta, died at the end of Vol. 2.\\n\\nGunn announced in April 2017 that he would return to write and direct Guardians of the Galaxy Vol. 3. He said the film would be set after Avengers: Infinity War (2018) and Avengers: Endgame (2019), and would \"conclude the story of this iteration of the Guardians of the Galaxy, and help catapult both old and new Marvel characters into the next ten years and beyond\". He also felt that the three Guardians films would \"work together as a whole\", telling one story, with the third film \"tying a lot of stuff together\" from the first two and giving \"a lot of answers on a lot of different things\". Gunn also planned to work with Marvel on the future of the \"Marvel Cosmic Universe\". He was set to begin work on Vol.', mimetype='text/plain', start_char_idx=17008, end_char_idx=18107, text_template='{metadata_str}\\n\\n{content}', metadata_template='{key}: {value}', metadata_seperator='\\n'), score=0.605720509512457)]"
      ]
     },
     "execution_count": 30,
     "metadata": {},
     "output_type": "execute_result"
    }
   ],
   "source": [
    "response.source_nodes"
   ]
  },
  {
   "cell_type": "code",
   "execution_count": 31,
   "metadata": {},
   "outputs": [
    {
     "data": {
      "text/plain": [
       "'> Source (Node id: ef15fc1e-79bc-4040-94ff-5b6e2e11f460): Here are some facts extracted from the provided text:\\n\\nThe making of guardians of the galaxy vol....\\n\\n> Source (Node id: 70f64e64-db3b-4cdf-85d4-e2b501408d05): Here are some facts extracted from the provided text:\\n\\nGunn chose practical effects for vol. 3 ->...\\n\\n> Source (Node id: 512d39cb-568a-4e92-bb8d-a30343dc340b): Here are some facts extracted from the provided text:\\n\\nDirecting guardians of the galaxy vol. 3 -...\\n\\n> Source (Node id: 073a5c35-bced-402e-aa02-13dd12d2f203): Here are some facts extracted from the provided text:\\n\\nStory of this iteration of the guardians o...'"
      ]
     },
     "execution_count": 31,
     "metadata": {},
     "output_type": "execute_result"
    }
   ],
   "source": [
    "response.get_formatted_sources()"
   ]
  },
  {
   "cell_type": "markdown",
   "metadata": {},
   "source": [
    "3. Using a hybrid query engine"
   ]
  },
  {
   "cell_type": "code",
   "execution_count": 32,
   "metadata": {},
   "outputs": [],
   "source": [
    "query_engine = index.as_query_engine(\n",
    "    include_text=True,\n",
    "    response_mode=\"tree_summarize\",\n",
    "    embedding_mode=\"hybrid\",\n",
    "    similarity_top_k=5,\n",
    ")"
   ]
  },
  {
   "cell_type": "code",
   "execution_count": 33,
   "metadata": {},
   "outputs": [
    {
     "data": {
      "text/markdown": [
       "<b>The production of Guardians of the Galaxy Vol. 3 was a complex process, with the director initially leaving the project before returning. The film was set to use virtual production technology but ultimately opted for practical effects. The film was shot at the same time as the Guardians of the Galaxy Holiday Special, which provided a tonal contrast and a break for the actors. \n",
       "</b>"
      ],
      "text/plain": [
       "<IPython.core.display.Markdown object>"
      ]
     },
     "metadata": {},
     "output_type": "display_data"
    }
   ],
   "source": [
    "response = query_engine.query(\n",
    "    \"Tell me about the production of Guardians of the Galaxy 3?\",\n",
    ")\n",
    "display(Markdown(f\"<b>{response}</b>\"))"
   ]
  },
  {
   "cell_type": "code",
   "execution_count": 34,
   "metadata": {},
   "outputs": [
    {
     "data": {
      "text/markdown": [
       "<b>Star-Lord and Groot are members of the Guardians of the Galaxy and are close friends. They are often seen working together on missions. \n",
       "</b>"
      ],
      "text/plain": [
       "<IPython.core.display.Markdown object>"
      ]
     },
     "metadata": {},
     "output_type": "display_data"
    }
   ],
   "source": [
    "response = await query_engine.aquery(\n",
    "    \"Tell me about Starlord's relationship to Groot?\",\n",
    ")\n",
    "display(Markdown(f\"<b>{response}</b>\"))"
   ]
  },
  {
   "cell_type": "markdown",
   "metadata": {},
   "source": [
    "4. Use `TextToCypherRetriever` to generate queries"
   ]
  },
  {
   "cell_type": "code",
   "execution_count": null,
   "metadata": {},
   "outputs": [],
   "source": [
    "from llama_index.core.indices.property_graph import TextToCypherRetriever\n",
    "\n",
    "\n",
    "DEFAULT_RESPONSE_TEMPLATE = (\n",
    "    \"Generated Cypher query:\\n{query}\\n\\n\" \"Cypher Response:\\n{response}\"\n",
    ")\n",
    "DEFAULT_ALLOWED_FIELDS = [\"text\", \"label\", \"type\"]\n",
    "\n",
    "DEFAULT_TEXT_TO_CYPHER_TEMPLATE = (index.property_graph_store.text_to_cypher_template,)\n",
    "\n",
    "\n",
    "cypher_retriever = TextToCypherRetriever(\n",
    "    index.property_graph_store,\n",
    "    # customize the LLM, defaults to Settings.llm\n",
    "    llm=Settings.llm,\n",
    "    # customize the text-to-cypher template.\n",
    "    # Requires `schema` and `question` template args\n",
    "    text_to_cypher_template=index.property_graph_store.text_to_cypher_template,\n",
    "    # customize how the cypher result is inserted into\n",
    "    # a text node. Requires `query` and `response` template args\n",
    "    response_template=DEFAULT_RESPONSE_TEMPLATE,\n",
    "    # an optional callable that can clean/verify generated cypher\n",
    "    cypher_validator=None,\n",
    "    # allowed fields in the resulting\n",
    "    allowed_output_field=DEFAULT_ALLOWED_FIELDS,\n",
    ")"
   ]
  },
  {
   "cell_type": "code",
   "execution_count": null,
   "metadata": {},
   "outputs": [],
   "source": [
    "SCHEMA = {\n",
    "    \"nodes\": TAGS,\n",
    "    \"edges\": EDGES,\n",
    "}"
   ]
  },
  {
   "cell_type": "code",
   "execution_count": null,
   "metadata": {},
   "outputs": [],
   "source": [
    "nodes = cypher_retriever.retrieve(\n",
    "    index.property_graph_store.text_to_cypher_template.format(\n",
    "        question=\"Tell me about the production of Gaurdians of the Galaxy 3\",\n",
    "        schema=str(SCHEMA),\n",
    "    )\n",
    ")"
   ]
  },
  {
   "cell_type": "code",
   "execution_count": 119,
   "metadata": {},
   "outputs": [
    {
     "name": "stdout",
     "output_type": "stream",
     "text": [
      "Node ID: 7fc0c81e-b249-4e34-bce5-9266e785b3e9\n",
      "Text: Generated Cypher query: MATCH (m:Entity__ {name: \"Guardians of\n",
      "the Galaxy 3\"})<-[:Relation__]-(p:Props__) RETURN p   Cypher Response:\n",
      "[]\n",
      "Score:  1.000\n",
      "\n"
     ]
    }
   ],
   "source": [
    "for node in nodes:\n",
    "    print(node)"
   ]
  },
  {
   "cell_type": "markdown",
   "metadata": {},
   "source": [
    "# Cleanup \n",
    "%ngql\n",
    "CLEAR/DROP SPACE $space_name; "
   ]
  }
 ],
 "metadata": {
  "colab": {
   "provenance": []
  },
  "kernelspec": {
   "display_name": ".venv",
   "language": "python",
   "name": "python3"
  },
  "language_info": {
   "codemirror_mode": {
    "name": "ipython",
    "version": 3
   },
   "file_extension": ".py",
   "mimetype": "text/x-python",
   "name": "python",
   "nbconvert_exporter": "python",
   "pygments_lexer": "ipython3",
   "version": "3.12.2"
  }
 },
 "nbformat": 4,
 "nbformat_minor": 0
}
